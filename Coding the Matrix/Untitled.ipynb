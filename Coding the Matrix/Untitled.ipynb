{
 "cells": [
  {
   "cell_type": "code",
   "execution_count": 4,
   "id": "57199ab8",
   "metadata": {
    "ExecuteTime": {
     "end_time": "2021-12-29T02:39:44.070083Z",
     "start_time": "2021-12-29T02:39:44.065223Z"
    }
   },
   "outputs": [
    {
     "name": "stdout",
     "output_type": "stream",
     "text": [
      "a 1\n",
      "b 2\n",
      "c 3\n"
     ]
    }
   ],
   "source": [
    "d = {'a' : 1, 'b' : 2, 'c' : 3}\n",
    "\n",
    "for x,y in d.items() :\n",
    "    print(x,y)"
   ]
  },
  {
   "cell_type": "code",
   "execution_count": 5,
   "id": "d57efefa",
   "metadata": {
    "ExecuteTime": {
     "end_time": "2021-12-29T02:39:58.944547Z",
     "start_time": "2021-12-29T02:39:58.925389Z"
    }
   },
   "outputs": [
    {
     "data": {
      "text/plain": [
       "{1: 'a', 2: 'b', 3: 'c'}"
      ]
     },
     "execution_count": 5,
     "metadata": {},
     "output_type": "execute_result"
    }
   ],
   "source": [
    "{y : x for x,y in d.items()}"
   ]
  },
  {
   "cell_type": "code",
   "execution_count": 7,
   "id": "cc736da7",
   "metadata": {
    "ExecuteTime": {
     "end_time": "2021-12-29T02:42:54.965338Z",
     "start_time": "2021-12-29T02:42:54.959244Z"
    }
   },
   "outputs": [
    {
     "data": {
      "text/plain": [
       "[10, 11, 12, 13, 14]"
      ]
     },
     "execution_count": 7,
     "metadata": {},
     "output_type": "execute_result"
    }
   ],
   "source": [
    "p = 10\n",
    "i = 5\n",
    "[p + i for i in range(i)]"
   ]
  }
 ],
 "metadata": {
  "kernelspec": {
   "display_name": "Python 3 (ipykernel)",
   "language": "python",
   "name": "python3"
  },
  "language_info": {
   "codemirror_mode": {
    "name": "ipython",
    "version": 3
   },
   "file_extension": ".py",
   "mimetype": "text/x-python",
   "name": "python",
   "nbconvert_exporter": "python",
   "pygments_lexer": "ipython3",
   "version": "3.9.7"
  }
 },
 "nbformat": 4,
 "nbformat_minor": 5
}
