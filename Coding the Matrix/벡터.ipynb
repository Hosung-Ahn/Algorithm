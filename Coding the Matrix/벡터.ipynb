{
 "cells": [
  {
   "cell_type": "code",
   "execution_count": 72,
   "id": "4b8827f3",
   "metadata": {
    "ExecuteTime": {
     "end_time": "2022-01-09T02:15:41.192888Z",
     "start_time": "2022-01-09T02:15:41.178452Z"
    }
   },
   "outputs": [],
   "source": [
    "class Vec :\n",
    "    def __init__(self, labels, function) :\n",
    "        self.D = set(labels)\n",
    "        self.f = function\n",
    "        \n",
    "    def __str__(self) :\n",
    "        return f\"labels   : {self.D}\\nfunction : {self.f}\\n\"\n",
    "        \n",
    "    def __getitem__(self, key) :\n",
    "        if key in self.f :\n",
    "            return self.f[key]\n",
    "        return 0\n",
    "    \n",
    "    def __add__(self, u) :\n",
    "        union_D = self.D.union(u.D)\n",
    "        return Vec(union_D, {d : self[d] + u[d] for d in union_D})\n",
    "    \n",
    "    def __sub__(self, u) :\n",
    "        union_D = self.D.union(u.D)\n",
    "        return Vec(union_D, {d : self[d] - u[d] for d in union_D})\n",
    "    \n",
    "    def __mul__(self, a) :\n",
    "        return Vec(self.D ,{key : value * a for key, value in self.f.items()})\n",
    "    \n",
    "    def __neg__(self) :\n",
    "        return self * -1\n",
    "    \n",
    "    \n",
    "        \n",
    "    \n",
    "def zero_vec(D) :\n",
    "    return Vec(D, {d : 0 for d in D})"
   ]
  },
  {
   "cell_type": "code",
   "execution_count": 74,
   "id": "45f4988e",
   "metadata": {
    "ExecuteTime": {
     "end_time": "2022-01-09T02:15:41.956581Z",
     "start_time": "2022-01-09T02:15:41.952394Z"
    }
   },
   "outputs": [],
   "source": [
    "vector = Vec(['A','B','C'], {'A' : 2. , 'B' : 0., 'C' : 1.})"
   ]
  },
  {
   "cell_type": "code",
   "execution_count": 75,
   "id": "3365d92f",
   "metadata": {
    "ExecuteTime": {
     "end_time": "2022-01-09T02:15:42.205388Z",
     "start_time": "2022-01-09T02:15:42.199980Z"
    }
   },
   "outputs": [
    {
     "name": "stdout",
     "output_type": "stream",
     "text": [
      "labels   : {'C', 'A', 'B'}\n",
      "function : {'A': 6.0, 'B': 0.0, 'C': 3.0}\n",
      "\n"
     ]
    }
   ],
   "source": [
    "# 스칼라 벡터 곱\n",
    "vector = Vec(['A','B','C'], {'A' : 2. , 'B' : 0., 'C' : 1.})\n",
    "\n",
    "new_vector = vector * 3\n",
    "print(new_vector)\n"
   ]
  },
  {
   "cell_type": "code",
   "execution_count": 66,
   "id": "1062ac1f",
   "metadata": {
    "ExecuteTime": {
     "end_time": "2022-01-09T02:12:37.898705Z",
     "start_time": "2022-01-09T02:12:37.892321Z"
    }
   },
   "outputs": [
    {
     "name": "stdout",
     "output_type": "stream",
     "text": [
      "labels   : {'C', 'A', 'B'}\n",
      "function : {'A': 2.0, 'B': 0.0, 'C': 1.0}\n",
      "\n",
      "labels   : {'C', 'A', 'B'}\n",
      "function : {'A': 5.0, 'B': 10}\n",
      "\n",
      "labels   : {'C', 'A', 'B'}\n",
      "function : {'C': 1.0, 'A': -3.0, 'B': -10.0}\n",
      "\n"
     ]
    }
   ],
   "source": [
    "# 덧셈\n",
    "\n",
    "u = Vec(vector.D, {'A':5. ,'B':10})\n",
    "added_vector = vector - u\n",
    "\n",
    "print(vector)\n",
    "print(u)\n",
    "print(added_vector)"
   ]
  },
  {
   "cell_type": "code",
   "execution_count": 77,
   "id": "8ec5e9f1",
   "metadata": {
    "ExecuteTime": {
     "end_time": "2022-01-09T02:16:01.176545Z",
     "start_time": "2022-01-09T02:16:01.171288Z"
    }
   },
   "outputs": [
    {
     "name": "stdout",
     "output_type": "stream",
     "text": [
      "labels   : {'C', 'A', 'B'}\n",
      "function : {'A': 2.0, 'B': 0.0, 'C': 1.0}\n",
      "\n",
      "labels   : {'C', 'A', 'B'}\n",
      "function : {'A': -2.0, 'B': -0.0, 'C': -1.0}\n",
      "\n"
     ]
    }
   ],
   "source": [
    "# 음의 벡터\n",
    "print(vector)\n",
    "print(-vector)"
   ]
  },
  {
   "cell_type": "code",
   "execution_count": 79,
   "id": "ff0ecf25",
   "metadata": {
    "ExecuteTime": {
     "end_time": "2022-01-09T02:16:26.261016Z",
     "start_time": "2022-01-09T02:16:26.255640Z"
    }
   },
   "outputs": [
    {
     "data": {
      "text/plain": [
       "True"
      ]
     },
     "execution_count": 79,
     "metadata": {},
     "output_type": "execute_result"
    }
   ],
   "source": []
  }
 ],
 "metadata": {
  "kernelspec": {
   "display_name": "Python 3 (ipykernel)",
   "language": "python",
   "name": "python3"
  },
  "language_info": {
   "codemirror_mode": {
    "name": "ipython",
    "version": 3
   },
   "file_extension": ".py",
   "mimetype": "text/x-python",
   "name": "python",
   "nbconvert_exporter": "python",
   "pygments_lexer": "ipython3",
   "version": "3.9.7"
  }
 },
 "nbformat": 4,
 "nbformat_minor": 5
}
