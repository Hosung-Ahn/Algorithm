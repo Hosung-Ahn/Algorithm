{
 "cells": [
  {
   "cell_type": "code",
   "execution_count": 26,
   "metadata": {},
   "outputs": [
    {
     "name": "stdout",
     "output_type": "stream",
     "text": [
      "2\n"
     ]
    }
   ],
   "source": [
    "import sys\n",
    "from queue import deque\n",
    "\n",
    "input = sys.stdin.readline\n",
    "N = int(input())\n",
    "# N = 8\n",
    "board = []\n",
    "for _ in range(N) :\n",
    "    board.append(input())\n",
    "# board = ['11100110',\n",
    "#         '11010010',\n",
    "#         '10011010',\n",
    "#         '11101100',\n",
    "#         '01000111',\n",
    "#         '00110001',\n",
    "#         '11011000',\n",
    "#         '11000111'\n",
    "#         ]\n",
    "dr = [-1,0,1,0]\n",
    "dc = [0,-1,0,1]\n",
    "    \n",
    "MAX = 5000\n",
    "visited = [[MAX for _ in range(N)] for _ in range(N)]\n",
    "\n",
    "def in_range(r,c) :\n",
    "    if r < 0 or r >= N or c < 0 or c >= N : return False\n",
    "    return True\n",
    "    \n",
    "def bfs() :\n",
    "    q = deque()\n",
    "    q.append([0,0])\n",
    "    visited[0][0] = 0\n",
    "    \n",
    "    while(q) :\n",
    "        cr, cc = q.pop()\n",
    "        for i in range(4) :\n",
    "            nr = cr + dr[i]\n",
    "            nc = cc + dc[i]\n",
    "            \n",
    "            if not in_range(nr,nc) : continue \n",
    "            \n",
    "            if board[nr][nc] == '1' :\n",
    "                if visited[nr][nc] <= visited[cr][cc] : continue\n",
    "                visited[nr][nc] = visited[cr][cc]\n",
    "            elif board[nr][nc] == '0' :\n",
    "                if visited[nr][nc] <= visited[cr][cc]+1 : continue\n",
    "                visited[nr][nc] = visited[cr][cc]+1\n",
    "            q.append([nr,nc])\n",
    "\n",
    "bfs()\n",
    "\n",
    "print(visited[N-1][N-1])\n",
    "                "
   ]
  },
  {
   "cell_type": "code",
   "execution_count": 27,
   "metadata": {},
   "outputs": [
    {
     "data": {
      "text/plain": [
       "[[0, 0, 0, 1, 2, 2, 2, 3],\n",
       " [0, 0, 1, 1, 2, 3, 2, 3],\n",
       " [0, 1, 1, 1, 1, 2, 2, 3],\n",
       " [0, 0, 0, 1, 1, 1, 2, 2],\n",
       " [1, 0, 1, 2, 2, 1, 1, 1],\n",
       " [2, 1, 1, 1, 2, 2, 2, 1],\n",
       " [1, 1, 2, 1, 1, 2, 3, 2],\n",
       " [1, 1, 2, 2, 2, 2, 2, 2]]"
      ]
     },
     "execution_count": 27,
     "metadata": {},
     "output_type": "execute_result"
    }
   ],
   "source": [
    "visited"
   ]
  },
  {
   "cell_type": "code",
   "execution_count": 20,
   "metadata": {},
   "outputs": [
    {
     "ename": "TypeError",
     "evalue": "deque.count() takes exactly one argument (0 given)",
     "output_type": "error",
     "traceback": [
      "\u001b[0;31m---------------------------------------------------------------------------\u001b[0m",
      "\u001b[0;31mTypeError\u001b[0m                                 Traceback (most recent call last)",
      "Input \u001b[0;32mIn [20]\u001b[0m, in \u001b[0;36m<cell line: 2>\u001b[0;34m()\u001b[0m\n\u001b[1;32m      1\u001b[0m q \u001b[38;5;241m=\u001b[39m deque()\n\u001b[0;32m----> 2\u001b[0m \u001b[43mq\u001b[49m\u001b[38;5;241;43m.\u001b[39;49m\u001b[43mcount\u001b[49m\u001b[43m(\u001b[49m\u001b[43m)\u001b[49m\n",
      "\u001b[0;31mTypeError\u001b[0m: deque.count() takes exactly one argument (0 given)"
     ]
    }
   ],
   "source": [
    "q = deque()\n"
   ]
  }
 ],
 "metadata": {
  "interpreter": {
   "hash": "b0fa6594d8f4cbf19f97940f81e996739fb7646882a419484c72d19e05852a7e"
  },
  "kernelspec": {
   "display_name": "Python 3.9.13 64-bit",
   "language": "python",
   "name": "python3"
  },
  "language_info": {
   "codemirror_mode": {
    "name": "ipython",
    "version": 3
   },
   "file_extension": ".py",
   "mimetype": "text/x-python",
   "name": "python",
   "nbconvert_exporter": "python",
   "pygments_lexer": "ipython3",
   "version": "3.9.13"
  },
  "orig_nbformat": 4
 },
 "nbformat": 4,
 "nbformat_minor": 2
}
