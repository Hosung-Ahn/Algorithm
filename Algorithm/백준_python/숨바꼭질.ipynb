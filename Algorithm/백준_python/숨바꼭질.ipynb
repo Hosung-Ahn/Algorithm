{
 "cells": [
  {
   "cell_type": "code",
   "execution_count": 27,
   "metadata": {
    "ExecuteTime": {
     "end_time": "2022-08-07T06:04:04.340598Z",
     "start_time": "2022-08-07T06:03:59.492438Z"
    }
   },
   "outputs": [
    {
     "name": "stdout",
     "output_type": "stream",
     "text": [
      "2\n",
      "4 8 7 "
     ]
    }
   ],
   "source": [
    "import sys\n",
    "from queue import Queue\n",
    "\n",
    "MAX = 200_000\n",
    "sys.setrecursionlimit(MAX)\n",
    "\n",
    "a,b = map(int, input().split())\n",
    "# a = 4\n",
    "# b = 7\n",
    "\n",
    "visited = [False for _ in range(MAX)]\n",
    "parent = [-1 for _ in range(MAX)]\n",
    "\n",
    "def in_range(a) :\n",
    "    if a < 0 or a >= MAX : return False\n",
    "    return True\n",
    "\n",
    "def bfs(a,b) :\n",
    "    visited[a] = True\n",
    "    q = Queue()\n",
    "    q.put([a, 0])\n",
    "    \n",
    "    while(not q.empty()) :\n",
    "        cur, dist = q.get()\n",
    "        \n",
    "        if cur == b : return dist\n",
    "        for nxt in [cur-1, cur+1, cur*2] :\n",
    "            if not in_range(nxt) or visited[nxt] : continue\n",
    "            visited[nxt] = True\n",
    "            parent[nxt] = cur\n",
    "            q.put([nxt, dist+1])\n",
    "            \n",
    "def path(a,b) :\n",
    "    if a == b : \n",
    "        print(a, end = ' ')\n",
    "        return\n",
    "    path(a, parent[b])\n",
    "    print(b, end = ' ')\n",
    "    \n",
    "            \n",
    "if a > b : \n",
    "    print(a-b)\n",
    "    for n in range(a,b-1,-1) :\n",
    "        print(n, end = ' ')\n",
    "else :\n",
    "    print(bfs(a,b))\n",
    "    path(a,b)"
   ]
  }
 ],
 "metadata": {
  "interpreter": {
   "hash": "b0fa6594d8f4cbf19f97940f81e996739fb7646882a419484c72d19e05852a7e"
  },
  "kernelspec": {
   "display_name": "Python 3 (ipykernel)",
   "language": "python",
   "name": "python3"
  },
  "language_info": {
   "codemirror_mode": {
    "name": "ipython",
    "version": 3
   },
   "file_extension": ".py",
   "mimetype": "text/x-python",
   "name": "python",
   "nbconvert_exporter": "python",
   "pygments_lexer": "ipython3",
   "version": "3.9.13"
  }
 },
 "nbformat": 4,
 "nbformat_minor": 2
}
