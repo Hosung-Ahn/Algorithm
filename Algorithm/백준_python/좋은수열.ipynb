{
 "cells": [
  {
   "cell_type": "code",
   "execution_count": 23,
   "id": "dc4575b5",
   "metadata": {
    "ExecuteTime": {
     "end_time": "2022-05-29T02:31:55.554827Z",
     "start_time": "2022-05-29T02:31:54.828780Z"
    }
   },
   "outputs": [
    {
     "name": "stdout",
     "output_type": "stream",
     "text": [
      "7\n",
      "1213121\n"
     ]
    },
    {
     "data": {
      "text/plain": [
       "True"
      ]
     },
     "execution_count": 23,
     "metadata": {},
     "output_type": "execute_result"
    }
   ],
   "source": [
    "\n",
    "\n",
    "\n",
    "def is_bad(s) :\n",
    "    for i in range(1,len(s)//2+1) :\n",
    "        if s[-1*i:] == s[-2*i:-1*i] : return True\n",
    "    return False\n",
    "\n",
    "def dfs(s, N) :\n",
    "    if is_bad(s) : return False\n",
    "    if len(s) == N : \n",
    "        print(s)\n",
    "        return True\n",
    "    \n",
    "    for i in range(1,4) :\n",
    "        if dfs(s + str(i), N) : return True\n",
    "        \n",
    "N = int(input())\n",
    "dfs(\"\",N)    "
   ]
  },
  {
   "cell_type": "code",
   "execution_count": 20,
   "id": "57facad0",
   "metadata": {
    "ExecuteTime": {
     "end_time": "2022-05-29T02:30:21.124979Z",
     "start_time": "2022-05-29T02:30:21.119933Z"
    }
   },
   "outputs": [
    {
     "data": {
      "text/plain": [
       "'3'"
      ]
     },
     "execution_count": 20,
     "metadata": {},
     "output_type": "execute_result"
    }
   ],
   "source": [
    "s = \"123\"\n"
   ]
  }
 ],
 "metadata": {
  "kernelspec": {
   "display_name": "Python 3 (ipykernel)",
   "language": "python",
   "name": "python3"
  },
  "language_info": {
   "codemirror_mode": {
    "name": "ipython",
    "version": 3
   },
   "file_extension": ".py",
   "mimetype": "text/x-python",
   "name": "python",
   "nbconvert_exporter": "python",
   "pygments_lexer": "ipython3",
   "version": "3.9.12"
  }
 },
 "nbformat": 4,
 "nbformat_minor": 5
}
