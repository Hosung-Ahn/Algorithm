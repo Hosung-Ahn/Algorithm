{
 "cells": [
  {
   "cell_type": "code",
   "execution_count": 41,
   "metadata": {
    "ExecuteTime": {
     "end_time": "2021-12-06T06:24:10.997384Z",
     "start_time": "2021-12-06T06:24:08.843157Z"
    },
    "scrolled": false
   },
   "outputs": [
    {
     "name": "stdout",
     "output_type": "stream",
     "text": [
      "48\n",
      "                                               *                                                \n",
      "                                              * *                                               \n",
      "                                             *****                                              \n",
      "                                            *     *                                             \n",
      "                                           * *   * *                                            \n",
      "                                          ***** *****                                           \n",
      "                                         *           *                                          \n",
      "                                        * *         * *                                         \n",
      "                                       *****       *****                                        \n",
      "                                      *     *     *     *                                       \n",
      "                                     * *   * *   * *   * *                                      \n",
      "                                    ***** ***** ***** *****                                     \n",
      "                                   *                       *                                    \n",
      "                                  * *                     * *                                   \n",
      "                                 *****                   *****                                  \n",
      "                                *     *                 *     *                                 \n",
      "                               * *   * *               * *   * *                                \n",
      "                              ***** *****             ***** *****                               \n",
      "                             *           *           *           *                              \n",
      "                            * *         * *         * *         * *                             \n",
      "                           *****       *****       *****       *****                            \n",
      "                          *     *     *     *     *     *     *     *                           \n",
      "                         * *   * *   * *   * *   * *   * *   * *   * *                          \n",
      "                        ***** ***** ***** ***** ***** ***** ***** *****                         \n",
      "                       *                                               *                        \n",
      "                      * *                                             * *                       \n",
      "                     *****                                           *****                      \n",
      "                    *     *                                         *     *                     \n",
      "                   * *   * *                                       * *   * *                    \n",
      "                  ***** *****                                     ***** *****                   \n",
      "                 *           *                                   *           *                  \n",
      "                * *         * *                                 * *         * *                 \n",
      "               *****       *****                               *****       *****                \n",
      "              *     *     *     *                             *     *     *     *               \n",
      "             * *   * *   * *   * *                           * *   * *   * *   * *              \n",
      "            ***** ***** ***** *****                         ***** ***** ***** *****             \n",
      "           *                       *                       *                       *            \n",
      "          * *                     * *                     * *                     * *           \n",
      "         *****                   *****                   *****                   *****          \n",
      "        *     *                 *     *                 *     *                 *     *         \n",
      "       * *   * *               * *   * *               * *   * *               * *   * *        \n",
      "      ***** *****             ***** *****             ***** *****             ***** *****       \n",
      "     *           *           *           *           *           *           *           *      \n",
      "    * *         * *         * *         * *         * *         * *         * *         * *     \n",
      "   *****       *****       *****       *****       *****       *****       *****       *****    \n",
      "  *     *     *     *     *     *     *     *     *     *     *     *     *     *     *     *   \n",
      " * *   * *   * *   * *   * *   * *   * *   * *   * *   * *   * *   * *   * *   * *   * *   * *  \n",
      "***** ***** ***** ***** ***** ***** ***** ***** ***** ***** ***** ***** ***** ***** ***** ***** \n"
     ]
    }
   ],
   "source": [
    "\n",
    "\n",
    "n = int(input())\n",
    "\n",
    "lst = [[False]*(2*n+1) for _ in range(n+1)]\n",
    "\n",
    "def doc(r,c) :\n",
    "    for i in range(5) :\n",
    "        lst[r][c+i] = True\n",
    "    lst[r-1][c+1] = True\n",
    "    lst[r-1][c+3] = True\n",
    "    lst[r-2][c+2] = True\n",
    "def doc_star(n, r, c) :\n",
    "    if (n == 3) :\n",
    "        doc(r,c)\n",
    "        return\n",
    "    doc_star(n//2, r,c)\n",
    "    doc_star(n//2, r, c + n)\n",
    "    doc_star(n//2, r - n//2, c + n//2)\n",
    "    \n",
    "doc_star(n, n, 1)\n",
    "\n",
    "for i in range(1,n+1) :\n",
    "    for j in range(1,2*n+1) :\n",
    "        if (lst[i][j]) : print(\"*\", end = '')\n",
    "        else : print(\" \", end = '')\n",
    "    print()\n",
    "        "
   ]
  },
  {
   "cell_type": "code",
   "execution_count": 10,
   "metadata": {
    "ExecuteTime": {
     "end_time": "2021-12-06T05:50:58.705277Z",
     "start_time": "2021-12-06T05:50:58.601213Z"
    }
   },
   "outputs": [
    {
     "ename": "TypeError",
     "evalue": "can only assign an iterable",
     "output_type": "error",
     "traceback": [
      "\u001b[0;31m---------------------------------------------------------------------------\u001b[0m",
      "\u001b[0;31mTypeError\u001b[0m                                 Traceback (most recent call last)",
      "\u001b[0;32m<ipython-input-10-f7b5df3df958>\u001b[0m in \u001b[0;36m<module>\u001b[0;34m\u001b[0m\n\u001b[1;32m      1\u001b[0m \u001b[0mlst\u001b[0m \u001b[0;34m=\u001b[0m \u001b[0;34m[\u001b[0m\u001b[0;36m1\u001b[0m\u001b[0;34m,\u001b[0m\u001b[0;36m2\u001b[0m\u001b[0;34m,\u001b[0m\u001b[0;36m3\u001b[0m\u001b[0;34m,\u001b[0m\u001b[0;36m4\u001b[0m\u001b[0;34m,\u001b[0m\u001b[0;36m5\u001b[0m\u001b[0;34m]\u001b[0m\u001b[0;34m\u001b[0m\u001b[0;34m\u001b[0m\u001b[0m\n\u001b[0;32m----> 2\u001b[0;31m \u001b[0mlst\u001b[0m\u001b[0;34m[\u001b[0m\u001b[0;36m2\u001b[0m\u001b[0;34m:\u001b[0m\u001b[0;36m4\u001b[0m\u001b[0;34m]\u001b[0m \u001b[0;34m=\u001b[0m \u001b[0;36m2\u001b[0m\u001b[0;34m\u001b[0m\u001b[0;34m\u001b[0m\u001b[0m\n\u001b[0m\u001b[1;32m      3\u001b[0m \u001b[0mlst\u001b[0m\u001b[0;34m\u001b[0m\u001b[0;34m\u001b[0m\u001b[0m\n",
      "\u001b[0;31mTypeError\u001b[0m: can only assign an iterable"
     ]
    }
   ],
   "source": []
  }
 ],
 "metadata": {
  "kernelspec": {
   "display_name": "Python 3",
   "language": "python",
   "name": "python3"
  },
  "language_info": {
   "codemirror_mode": {
    "name": "ipython",
    "version": 3
   },
   "file_extension": ".py",
   "mimetype": "text/x-python",
   "name": "python",
   "nbconvert_exporter": "python",
   "pygments_lexer": "ipython3",
   "version": "3.8.5"
  }
 },
 "nbformat": 4,
 "nbformat_minor": 4
}
