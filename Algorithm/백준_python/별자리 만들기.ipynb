{
 "cells": [
  {
   "cell_type": "code",
   "execution_count": 17,
   "metadata": {},
   "outputs": [
    {
     "name": "stdout",
     "output_type": "stream",
     "text": [
      "3.414213562373095\n"
     ]
    }
   ],
   "source": [
    "import sys\n",
    "\n",
    "input = sys.stdin.readline\n",
    "\n",
    "N = int(input())\n",
    "# N = 3\n",
    "idx_set = [i for i in range(N)]\n",
    "p_lst = []\n",
    "\n",
    "class Node :\n",
    "    \n",
    "    def __init__(self, i1, i2, dist) :\n",
    "        self.i1 = i1\n",
    "        self.i2 = i2\n",
    "        self.dist = dist\n",
    "        \n",
    "def cal_dist(p1, p2) :\n",
    "    return ((p1[0]-p2[0])**2 + (p1[1]-p2[1])**2)**0.5\n",
    "\n",
    "def find_parent(a) :\n",
    "    if idx_set[a] == a : return a\n",
    "    idx_set[a] = find_parent(idx_set[a])\n",
    "    return idx_set[a]\n",
    "\n",
    "def node_union(a,b) :\n",
    "    a = find_parent(a)\n",
    "    b = find_parent(b)\n",
    "    \n",
    "    if a < b : idx_set[b] = a\n",
    "    else : idx_set[a] = b\n",
    "    \n",
    "def same_set(a,b) :\n",
    "    a = find_parent(a)\n",
    "    b = find_parent(b)\n",
    "    return a == b\n",
    "\n",
    "\n",
    "for i in range(N) :\n",
    "    x,y = map(float, input().split())\n",
    "    p_lst.append((x,y))\n",
    "# p_lst = [(1,1),(2,2),(2,4)]\n",
    "    \n",
    "node_lst = []\n",
    "\n",
    "for i in range(N) :\n",
    "    for j in range(i+1, N) : \n",
    "        node_lst.append(Node(i,j,cal_dist(p_lst[i], p_lst[j])))\n",
    "        \n",
    "node_lst.sort(key = lambda x : x.dist)\n",
    "\n",
    "ans = 0\n",
    "\n",
    "for node in node_lst :\n",
    "    if same_set(node.i1, node.i2) : continue\n",
    "    node_union(node.i1, node.i2)\n",
    "    ans += node.dist\n",
    "    \n",
    "print(ans)\n"
   ]
  }
 ],
 "metadata": {
  "interpreter": {
   "hash": "b0fa6594d8f4cbf19f97940f81e996739fb7646882a419484c72d19e05852a7e"
  },
  "kernelspec": {
   "display_name": "Python 3.9.13 64-bit",
   "language": "python",
   "name": "python3"
  },
  "language_info": {
   "codemirror_mode": {
    "name": "ipython",
    "version": 3
   },
   "file_extension": ".py",
   "mimetype": "text/x-python",
   "name": "python",
   "nbconvert_exporter": "python",
   "pygments_lexer": "ipython3",
   "version": "3.9.13"
  },
  "orig_nbformat": 4
 },
 "nbformat": 4,
 "nbformat_minor": 2
}
