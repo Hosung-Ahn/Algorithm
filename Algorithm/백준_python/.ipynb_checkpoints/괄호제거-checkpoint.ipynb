{
 "cells": [
  {
   "cell_type": "code",
   "execution_count": 15,
   "id": "ecb13641",
   "metadata": {
    "ExecuteTime": {
     "end_time": "2022-01-17T07:17:22.275644Z",
     "start_time": "2022-01-17T07:17:21.226766Z"
    }
   },
   "outputs": [
    {
     "name": "stdout",
     "output_type": "stream",
     "text": [
      "(0/(0))\n",
      "['(', '0', '/', '(', '0', ')', ')']\n",
      "[(3, 5), (0, 6)]\n"
     ]
    }
   ],
   "source": [
    "from itertools import combinations\n",
    "\n",
    "string = list(input())\n",
    "\n",
    "stack, pos, ans = [], [], []\n",
    "\n",
    "for i,c in enumerate(string) :\n",
    "    if c == '(' :\n",
    "        stack.append(i)\n",
    "    if c == ')' :\n",
    "        pos.append((stack.pop(), i))\n",
    "        \n",
    "        \n",
    "for removed_num in range(1, len(pos)+1) :\n",
    "    removed_set = combinations(pos,removed_num)\n",
    "\n",
    "    for removed in removed_set :\n",
    "        string_copy = string[:]\n",
    "        \n",
    "        for i,j in removed :\n",
    "            string_copy[i] = ''\n",
    "            string_copy[j] = ''\n",
    "            ans.append(''.join(string_copy))\n",
    "            \n",
    "for x in sorted(ans) : \n",
    "    print(x)\n",
    "            "
   ]
  },
  {
   "cell_type": "code",
   "execution_count": 18,
   "id": "a0599c5f",
   "metadata": {
    "ExecuteTime": {
     "end_time": "2022-01-17T07:18:19.894951Z",
     "start_time": "2022-01-17T07:18:19.888599Z"
    }
   },
   "outputs": [
    {
     "data": {
      "text/plain": [
       "'(0/(0))'"
      ]
     },
     "execution_count": 18,
     "metadata": {},
     "output_type": "execute_result"
    }
   ],
   "source": [
    "''.join(string)"
   ]
  }
 ],
 "metadata": {
  "kernelspec": {
   "display_name": "Python 3 (ipykernel)",
   "language": "python",
   "name": "python3"
  },
  "language_info": {
   "codemirror_mode": {
    "name": "ipython",
    "version": 3
   },
   "file_extension": ".py",
   "mimetype": "text/x-python",
   "name": "python",
   "nbconvert_exporter": "python",
   "pygments_lexer": "ipython3",
   "version": "3.9.7"
  }
 },
 "nbformat": 4,
 "nbformat_minor": 5
}
