{
 "cells": [
  {
   "cell_type": "code",
   "execution_count": 21,
   "id": "6d2e62f7",
   "metadata": {
    "ExecuteTime": {
     "end_time": "2021-12-15T03:33:45.660777Z",
     "start_time": "2021-12-15T03:32:47.625440Z"
    }
   },
   "outputs": [
    {
     "name": "stdout",
     "output_type": "stream",
     "text": [
      "10\n",
      "26 -76\n",
      "65 -83\n",
      "78 38\n",
      "92 22\n",
      "-60 -42\n",
      "-27 85\n",
      "42 46\n",
      "-86 98\n",
      "92 -47\n",
      "-41 38\n",
      "13.341664064126334\n"
     ]
    }
   ],
   "source": [
    "T = int(input())\n",
    "for t in range(T) : \n",
    "\n",
    "    N = int(input())\n",
    "\n",
    "    vectors = []\n",
    "    result = []\n",
    "\n",
    "    for _ in range(N) :\n",
    "        vector = list(map(int, input().split()))\n",
    "        vectors.append(vector)\n",
    "\n",
    "    def vector_sum() :\n",
    "        total_x = 0\n",
    "        total_y = 0\n",
    "        for x,y in vectors :\n",
    "            total_x += x\n",
    "            total_y += y\n",
    "\n",
    "        return((total_x**2 + total_y**2)**0.5)\n",
    "\n",
    "    def mutiply_minus(i) :\n",
    "        vectors[i][0] *= -1\n",
    "        vectors[i][1] *= -1\n",
    "\n",
    "    def find_vector_sum(i,minus, plus) :\n",
    "        if minus == N//2 :\n",
    "            result.append(vector_sum())\n",
    "            return\n",
    "        if plus == N//2 :\n",
    "            for next_i in range(i,N) :\n",
    "                mutiply_minus(next_i)\n",
    "            result.append(vector_sum())\n",
    "            for next_i in range(i,N) :\n",
    "                mutiply_minus(next_i)\n",
    "            return\n",
    "\n",
    "        find_vector_sum(i+1, minus, plus+1)\n",
    "        mutiply_minus(i)\n",
    "        find_vector_sum(i+1, minus+1, plus)\n",
    "        mutiply_minus(i)\n",
    "\n",
    "    find_vector_sum(0,0,0)\n",
    "\n",
    "    print(min(result))\n"
   ]
  },
  {
   "cell_type": "code",
   "execution_count": 16,
   "id": "c7d6054d",
   "metadata": {
    "ExecuteTime": {
     "end_time": "2021-12-15T03:30:30.347604Z",
     "start_time": "2021-12-15T03:30:30.341858Z"
    }
   },
   "outputs": [
    {
     "data": {
      "text/plain": [
       "[[5, 5], [5, -5], [-5, 5], [-5, -5]]"
      ]
     },
     "execution_count": 16,
     "metadata": {},
     "output_type": "execute_result"
    }
   ],
   "source": [
    "vectors\n",
    "mutiply_minus(0)\n",
    "vectors"
   ]
  }
 ],
 "metadata": {
  "kernelspec": {
   "display_name": "Python 3 (ipykernel)",
   "language": "python",
   "name": "python3"
  },
  "language_info": {
   "codemirror_mode": {
    "name": "ipython",
    "version": 3
   },
   "file_extension": ".py",
   "mimetype": "text/x-python",
   "name": "python",
   "nbconvert_exporter": "python",
   "pygments_lexer": "ipython3",
   "version": "3.9.7"
  }
 },
 "nbformat": 4,
 "nbformat_minor": 5
}
