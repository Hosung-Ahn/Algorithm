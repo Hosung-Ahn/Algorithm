{
 "cells": [
  {
   "cell_type": "code",
   "execution_count": 25,
   "id": "929eabe2",
   "metadata": {
    "ExecuteTime": {
     "end_time": "2022-06-04T03:32:50.608158Z",
     "start_time": "2022-06-04T03:32:50.601418Z"
    }
   },
   "outputs": [
    {
     "name": "stdout",
     "output_type": "stream",
     "text": [
      "4\n",
      "4\n",
      "4\n",
      "mirkovniz\n"
     ]
    }
   ],
   "source": [
    "string = input()\n",
    "# string = 'mirkovC4nizCC44'\n",
    "boom = input()\n",
    "# boom = 'C4'\n",
    "\n",
    "lst = []\n",
    "last_boom = boom[-1]\n",
    "boom_len = len(boom)\n",
    "\n",
    "for char in string :\n",
    "    lst.append(char)\n",
    "    if char == last_boom and ''.join(lst[-boom_len:]) == boom :\n",
    "        del lst[-boom_len:]\n",
    "    \n",
    "if len(lst) == 0 :\n",
    "    print('FRULA')\n",
    "else :\n",
    "    print(''.join(lst))"
   ]
  }
 ],
 "metadata": {
  "kernelspec": {
   "display_name": "Python 3 (ipykernel)",
   "language": "python",
   "name": "python3"
  },
  "language_info": {
   "codemirror_mode": {
    "name": "ipython",
    "version": 3
   },
   "file_extension": ".py",
   "mimetype": "text/x-python",
   "name": "python",
   "nbconvert_exporter": "python",
   "pygments_lexer": "ipython3",
   "version": "3.9.12"
  }
 },
 "nbformat": 4,
 "nbformat_minor": 5
}
