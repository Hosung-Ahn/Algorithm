{
 "cells": [
  {
   "cell_type": "code",
   "execution_count": 2,
   "id": "8378b008",
   "metadata": {
    "ExecuteTime": {
     "end_time": "2022-01-01T01:26:01.209158Z",
     "start_time": "2022-01-01T01:26:01.204553Z"
    }
   },
   "outputs": [
    {
     "name": "stdout",
     "output_type": "stream",
     "text": [
      "22\n"
     ]
    }
   ],
   "source": [
    "for x in range(1,31) :\n",
    "    if 19*x % 31 == 15 :\n",
    "        print(x)"
   ]
  },
  {
   "cell_type": "code",
   "execution_count": 23,
   "id": "546dcb05",
   "metadata": {
    "ExecuteTime": {
     "end_time": "2022-01-01T01:34:17.174254Z",
     "start_time": "2022-01-01T01:34:17.170038Z"
    }
   },
   "outputs": [],
   "source": [
    "a = (29*31)\n",
    "b = (6*31*6)\n",
    "c = (6*29*22)\n",
    "\n",
    "result = a + b + c\n",
    "\n"
   ]
  },
  {
   "cell_type": "code",
   "execution_count": 1,
   "id": "14245308",
   "metadata": {
    "ExecuteTime": {
     "end_time": "2022-01-08T01:35:53.115966Z",
     "start_time": "2022-01-08T01:35:53.026540Z"
    }
   },
   "outputs": [
    {
     "ename": "NameError",
     "evalue": "name 'result' is not defined",
     "output_type": "error",
     "traceback": [
      "\u001b[0;31m---------------------------------------------------------------------------\u001b[0m",
      "\u001b[0;31mNameError\u001b[0m                                 Traceback (most recent call last)",
      "\u001b[0;32m/var/folders/xh/jpw0thcs1m75fqy6zj0sfz6c0000gn/T/ipykernel_62668/884579890.py\u001b[0m in \u001b[0;36m<module>\u001b[0;34m\u001b[0m\n\u001b[1;32m      1\u001b[0m \u001b[0mx\u001b[0m \u001b[0;34m=\u001b[0m \u001b[0;36m29\u001b[0m\u001b[0;34m*\u001b[0m\u001b[0;36m31\u001b[0m\u001b[0;34m*\u001b[0m\u001b[0;36m6\u001b[0m\u001b[0;34m\u001b[0m\u001b[0;34m\u001b[0m\u001b[0m\n\u001b[1;32m      2\u001b[0m \u001b[0;34m\u001b[0m\u001b[0m\n\u001b[0;32m----> 3\u001b[0;31m \u001b[0mresult\u001b[0m \u001b[0;34m%\u001b[0m \u001b[0mx\u001b[0m\u001b[0;34m\u001b[0m\u001b[0;34m\u001b[0m\u001b[0m\n\u001b[0m",
      "\u001b[0;31mNameError\u001b[0m: name 'result' is not defined"
     ]
    }
   ],
   "source": [
    "x = 29*31*6\n",
    "\n",
    "result % x"
   ]
  },
  {
   "cell_type": "code",
   "execution_count": 2,
   "id": "b83d900a",
   "metadata": {
    "ExecuteTime": {
     "end_time": "2022-01-08T01:36:31.680371Z",
     "start_time": "2022-01-08T01:36:31.675414Z"
    }
   },
   "outputs": [],
   "source": [
    "n = 2011\n",
    "check = int(n**0.5)\n",
    "\n",
    "for c in range(2,check + 1) :\n",
    "    if n % c == 0 : \n",
    "        print(c)"
   ]
  },
  {
   "cell_type": "code",
   "execution_count": 5,
   "id": "576c8431",
   "metadata": {},
   "outputs": [
    {
     "data": {
      "text/plain": [
       "4"
      ]
     },
     "execution_count": 5,
     "metadata": {},
     "output_type": "execute_result"
    }
   ],
   "source": [
    "from collections import Counter\n",
    "\n",
    "counter = Counter(\"hello\")\n",
    "counter\n",
    "\n",
    "len(counter)"
   ]
  },
  {
   "cell_type": "code",
   "execution_count": 9,
   "id": "439f1e4e",
   "metadata": {},
   "outputs": [
    {
     "ename": "TypeError",
     "evalue": "'function' object cannot be interpreted as an integer",
     "output_type": "error",
     "traceback": [
      "\u001b[0;31m---------------------------------------------------------------------------\u001b[0m",
      "\u001b[0;31mTypeError\u001b[0m                                 Traceback (most recent call last)",
      "Cell \u001b[0;32mIn [9], line 7\u001b[0m\n\u001b[1;32m      4\u001b[0m     \u001b[38;5;28;01mreturn\u001b[39;00m a \u001b[38;5;241m>\u001b[39m b\n\u001b[1;32m      6\u001b[0m arr \u001b[38;5;241m=\u001b[39m [\u001b[38;5;241m1\u001b[39m,\u001b[38;5;241m2\u001b[39m,\u001b[38;5;241m3\u001b[39m,\u001b[38;5;241m4\u001b[39m]\n\u001b[0;32m----> 7\u001b[0m \u001b[43mbisect\u001b[49m\u001b[38;5;241;43m.\u001b[39;49m\u001b[43minsort\u001b[49m\u001b[43m(\u001b[49m\u001b[43marr\u001b[49m\u001b[43m,\u001b[49m\u001b[38;5;241;43m3\u001b[39;49m\u001b[43m,\u001b[49m\u001b[43m \u001b[49m\u001b[43mcmp\u001b[49m\u001b[43m)\u001b[49m\n",
      "\u001b[0;31mTypeError\u001b[0m: 'function' object cannot be interpreted as an integer"
     ]
    }
   ],
   "source": [
    "import bisect\n",
    "\n",
    "def cmp(a,b) :\n",
    "    return a > b\n",
    "\n",
    "arr = [1,2,3,4]\n",
    "bisect.insort(arr,3)"
   ]
  }
 ],
 "metadata": {
  "kernelspec": {
   "display_name": "Python 3 (ipykernel)",
   "language": "python",
   "name": "python3"
  },
  "language_info": {
   "codemirror_mode": {
    "name": "ipython",
    "version": 3
   },
   "file_extension": ".py",
   "mimetype": "text/x-python",
   "name": "python",
   "nbconvert_exporter": "python",
   "pygments_lexer": "ipython3",
   "version": "3.10.7"
  }
 },
 "nbformat": 4,
 "nbformat_minor": 5
}
