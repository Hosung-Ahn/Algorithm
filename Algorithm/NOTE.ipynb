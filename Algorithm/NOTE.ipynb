{
 "cells": [
  {
   "cell_type": "code",
   "execution_count": 2,
   "id": "8378b008",
   "metadata": {
    "ExecuteTime": {
     "end_time": "2022-01-01T01:26:01.209158Z",
     "start_time": "2022-01-01T01:26:01.204553Z"
    }
   },
   "outputs": [
    {
     "name": "stdout",
     "output_type": "stream",
     "text": [
      "22\n"
     ]
    }
   ],
   "source": [
    "for x in range(1,31) :\n",
    "    if 19*x % 31 == 15 :\n",
    "        print(x)"
   ]
  },
  {
   "cell_type": "code",
   "execution_count": 23,
   "id": "546dcb05",
   "metadata": {
    "ExecuteTime": {
     "end_time": "2022-01-01T01:34:17.174254Z",
     "start_time": "2022-01-01T01:34:17.170038Z"
    }
   },
   "outputs": [],
   "source": [
    "a = (29*31)\n",
    "b = (6*31*6)\n",
    "c = (6*29*22)\n",
    "\n",
    "result = a + b + c\n",
    "\n"
   ]
  },
  {
   "cell_type": "code",
   "execution_count": 1,
   "id": "14245308",
   "metadata": {
    "ExecuteTime": {
     "end_time": "2022-01-08T01:35:53.115966Z",
     "start_time": "2022-01-08T01:35:53.026540Z"
    }
   },
   "outputs": [
    {
     "ename": "NameError",
     "evalue": "name 'result' is not defined",
     "output_type": "error",
     "traceback": [
      "\u001b[0;31m---------------------------------------------------------------------------\u001b[0m",
      "\u001b[0;31mNameError\u001b[0m                                 Traceback (most recent call last)",
      "\u001b[0;32m/var/folders/xh/jpw0thcs1m75fqy6zj0sfz6c0000gn/T/ipykernel_62668/884579890.py\u001b[0m in \u001b[0;36m<module>\u001b[0;34m\u001b[0m\n\u001b[1;32m      1\u001b[0m \u001b[0mx\u001b[0m \u001b[0;34m=\u001b[0m \u001b[0;36m29\u001b[0m\u001b[0;34m*\u001b[0m\u001b[0;36m31\u001b[0m\u001b[0;34m*\u001b[0m\u001b[0;36m6\u001b[0m\u001b[0;34m\u001b[0m\u001b[0;34m\u001b[0m\u001b[0m\n\u001b[1;32m      2\u001b[0m \u001b[0;34m\u001b[0m\u001b[0m\n\u001b[0;32m----> 3\u001b[0;31m \u001b[0mresult\u001b[0m \u001b[0;34m%\u001b[0m \u001b[0mx\u001b[0m\u001b[0;34m\u001b[0m\u001b[0;34m\u001b[0m\u001b[0m\n\u001b[0m",
      "\u001b[0;31mNameError\u001b[0m: name 'result' is not defined"
     ]
    }
   ],
   "source": [
    "x = 29*31*6\n",
    "\n",
    "result % x"
   ]
  },
  {
   "cell_type": "code",
   "execution_count": 2,
   "id": "b83d900a",
   "metadata": {
    "ExecuteTime": {
     "end_time": "2022-01-08T01:36:31.680371Z",
     "start_time": "2022-01-08T01:36:31.675414Z"
    }
   },
   "outputs": [],
   "source": [
    "n = 2011\n",
    "check = int(n**0.5)\n",
    "\n",
    "for c in range(2,check + 1) :\n",
    "    if n % c == 0 : \n",
    "        print(c)"
   ]
  },
  {
   "cell_type": "code",
   "execution_count": 5,
   "id": "576c8431",
   "metadata": {},
   "outputs": [
    {
     "data": {
      "text/plain": [
       "4"
      ]
     },
     "execution_count": 5,
     "metadata": {},
     "output_type": "execute_result"
    }
   ],
   "source": [
    "from collections import Counter\n",
    "\n",
    "counter = Counter(\"hello\")\n",
    "counter\n",
    "\n",
    "len(counter)"
   ]
  },
  {
   "cell_type": "code",
   "execution_count": 9,
   "id": "439f1e4e",
   "metadata": {},
   "outputs": [
    {
     "ename": "TypeError",
     "evalue": "'function' object cannot be interpreted as an integer",
     "output_type": "error",
     "traceback": [
      "\u001b[0;31m---------------------------------------------------------------------------\u001b[0m",
      "\u001b[0;31mTypeError\u001b[0m                                 Traceback (most recent call last)",
      "Cell \u001b[0;32mIn [9], line 7\u001b[0m\n\u001b[1;32m      4\u001b[0m     \u001b[38;5;28;01mreturn\u001b[39;00m a \u001b[38;5;241m>\u001b[39m b\n\u001b[1;32m      6\u001b[0m arr \u001b[38;5;241m=\u001b[39m [\u001b[38;5;241m1\u001b[39m,\u001b[38;5;241m2\u001b[39m,\u001b[38;5;241m3\u001b[39m,\u001b[38;5;241m4\u001b[39m]\n\u001b[0;32m----> 7\u001b[0m \u001b[43mbisect\u001b[49m\u001b[38;5;241;43m.\u001b[39;49m\u001b[43minsort\u001b[49m\u001b[43m(\u001b[49m\u001b[43marr\u001b[49m\u001b[43m,\u001b[49m\u001b[38;5;241;43m3\u001b[39;49m\u001b[43m,\u001b[49m\u001b[43m \u001b[49m\u001b[43mcmp\u001b[49m\u001b[43m)\u001b[49m\n",
      "\u001b[0;31mTypeError\u001b[0m: 'function' object cannot be interpreted as an integer"
     ]
    }
   ],
   "source": [
    "import bisect\n",
    "\n",
    "def cmp(a,b) :\n",
    "    return a > b\n",
    "\n",
    "arr = [1,2,3,4]\n",
    "bisect.insort(arr,3)"
   ]
  },
  {
   "cell_type": "code",
   "execution_count": 3,
   "id": "6c88a3a2",
   "metadata": {},
   "outputs": [
    {
     "data": {
      "text/plain": [
       "2"
      ]
     },
     "execution_count": 3,
     "metadata": {},
     "output_type": "execute_result"
    }
   ],
   "source": [
    "a = (1 < 2) + (2 < 3)\n",
    "a"
   ]
  },
  {
   "cell_type": "code",
   "execution_count": null,
   "id": "43471d86",
   "metadata": {},
   "outputs": [
    {
     "ename": "",
     "evalue": "",
     "output_type": "error",
     "traceback": [
      "\u001b[1;31m'Python 3.11.0 64-bit'(으)로 셀을 실행하려면 ipykernel 패키지가 필요합니다.\n",
      "\u001b[1;31m다음 명령어를 실행하여 Python 환경에 'ipykernel'을(를) 설치합니다. \n",
      "\u001b[1;31m 명령: '/opt/homebrew/bin/python3.11 -m pip install ipykernel -U --user --force-reinstall'"
     ]
    }
   ],
   "source": [
    "f\"{1:>02}\""
   ]
  },
  {
   "cell_type": "code",
   "execution_count": 4,
   "id": "47ab7b24",
   "metadata": {},
   "outputs": [
    {
     "name": "stdout",
     "output_type": "stream",
     "text": [
      "1\n",
      "False\n"
     ]
    }
   ],
   "source": [
    "a = dict()\n",
    "a['a'] = 1\n",
    "print(a['a'])\n",
    "del a['a']\n",
    "if 'a' in a : ㅇ아ㅓㅁㅇㄹㄷ잴\n",
    "    print(True)\n",
    "else : print(False)"
   ]
  },
  {
   "cell_type": "code",
   "execution_count": 5,
   "id": "0a5c28ff",
   "metadata": {},
   "outputs": [
    {
     "name": "stdout",
     "output_type": "stream",
     "text": [
      "[1, 2, 3, 4, 5]\n",
      "[1, 2, 3, 4, 6]\n",
      "[1, 2, 3, 4, 7]\n",
      "[1, 2, 3, 4, 8]\n",
      "[1, 2, 3, 4, 9]\n",
      "[1, 2, 3, 5, 6]\n",
      "[1, 2, 3, 5, 7]\n",
      "[1, 2, 3, 5, 8]\n",
      "[1, 2, 3, 5, 9]\n",
      "[1, 2, 3, 6, 7]\n",
      "[1, 2, 3, 6, 8]\n",
      "[1, 2, 3, 6, 9]\n",
      "[1, 2, 3, 7, 8]\n",
      "[1, 2, 3, 7, 9]\n",
      "[1, 2, 3, 8, 9]\n",
      "[1, 2, 4, 5, 6]\n",
      "[1, 2, 4, 5, 7]\n",
      "[1, 2, 4, 5, 8]\n",
      "[1, 2, 4, 5, 9]\n",
      "[1, 2, 4, 6, 7]\n",
      "[1, 2, 4, 6, 8]\n",
      "[1, 2, 4, 6, 9]\n",
      "[1, 2, 4, 7, 8]\n",
      "[1, 2, 4, 7, 9]\n",
      "[1, 2, 4, 8, 9]\n",
      "[1, 2, 5, 6, 7]\n",
      "[1, 2, 5, 6, 8]\n",
      "[1, 2, 5, 6, 9]\n",
      "[1, 2, 5, 7, 8]\n",
      "[1, 2, 5, 7, 9]\n",
      "[1, 2, 5, 8, 9]\n",
      "[1, 2, 6, 7, 8]\n",
      "[1, 2, 6, 7, 9]\n",
      "[1, 2, 6, 8, 9]\n",
      "[1, 2, 7, 8, 9]\n",
      "[1, 3, 4, 5, 6]\n",
      "[1, 3, 4, 5, 7]\n",
      "[1, 3, 4, 5, 8]\n",
      "[1, 3, 4, 5, 9]\n",
      "[1, 3, 4, 6, 7]\n",
      "[1, 3, 4, 6, 8]\n",
      "[1, 3, 4, 6, 9]\n",
      "[1, 3, 4, 7, 8]\n",
      "[1, 3, 4, 7, 9]\n",
      "[1, 3, 4, 8, 9]\n",
      "[1, 3, 5, 6, 7]\n",
      "[1, 3, 5, 6, 8]\n",
      "[1, 3, 5, 6, 9]\n",
      "[1, 3, 5, 7, 8]\n",
      "[1, 3, 5, 7, 9]\n",
      "[1, 3, 5, 8, 9]\n",
      "[1, 3, 6, 7, 8]\n",
      "[1, 3, 6, 7, 9]\n",
      "[1, 3, 6, 8, 9]\n",
      "[1, 3, 7, 8, 9]\n",
      "[1, 4, 5, 6, 7]\n",
      "[1, 4, 5, 6, 8]\n",
      "[1, 4, 5, 6, 9]\n",
      "[1, 4, 5, 7, 8]\n",
      "[1, 4, 5, 7, 9]\n",
      "[1, 4, 5, 8, 9]\n",
      "[1, 4, 6, 7, 8]\n",
      "[1, 4, 6, 7, 9]\n",
      "[1, 4, 6, 8, 9]\n",
      "[1, 4, 7, 8, 9]\n",
      "[1, 5, 6, 7, 8]\n",
      "[1, 5, 6, 7, 9]\n",
      "[1, 5, 6, 8, 9]\n",
      "[1, 5, 7, 8, 9]\n",
      "[1, 6, 7, 8, 9]\n",
      "[2, 3, 4, 5, 6]\n",
      "[2, 3, 4, 5, 7]\n",
      "[2, 3, 4, 5, 8]\n",
      "[2, 3, 4, 5, 9]\n",
      "[2, 3, 4, 6, 7]\n",
      "[2, 3, 4, 6, 8]\n",
      "[2, 3, 4, 6, 9]\n",
      "[2, 3, 4, 7, 8]\n",
      "[2, 3, 4, 7, 9]\n",
      "[2, 3, 4, 8, 9]\n",
      "[2, 3, 5, 6, 7]\n",
      "[2, 3, 5, 6, 8]\n",
      "[2, 3, 5, 6, 9]\n",
      "[2, 3, 5, 7, 8]\n",
      "[2, 3, 5, 7, 9]\n",
      "[2, 3, 5, 8, 9]\n",
      "[2, 3, 6, 7, 8]\n",
      "[2, 3, 6, 7, 9]\n",
      "[2, 3, 6, 8, 9]\n",
      "[2, 3, 7, 8, 9]\n",
      "[2, 4, 5, 6, 7]\n",
      "[2, 4, 5, 6, 8]\n",
      "[2, 4, 5, 6, 9]\n",
      "[2, 4, 5, 7, 8]\n",
      "[2, 4, 5, 7, 9]\n",
      "[2, 4, 5, 8, 9]\n",
      "[2, 4, 6, 7, 8]\n",
      "[2, 4, 6, 7, 9]\n",
      "[2, 4, 6, 8, 9]\n",
      "[2, 4, 7, 8, 9]\n",
      "[2, 5, 6, 7, 8]\n",
      "[2, 5, 6, 7, 9]\n",
      "[2, 5, 6, 8, 9]\n",
      "[2, 5, 7, 8, 9]\n",
      "[2, 6, 7, 8, 9]\n",
      "[3, 4, 5, 6, 7]\n",
      "[3, 4, 5, 6, 8]\n",
      "[3, 4, 5, 6, 9]\n",
      "[3, 4, 5, 7, 8]\n",
      "[3, 4, 5, 7, 9]\n",
      "[3, 4, 5, 8, 9]\n",
      "[3, 4, 6, 7, 8]\n",
      "[3, 4, 6, 7, 9]\n",
      "[3, 4, 6, 8, 9]\n",
      "[3, 4, 7, 8, 9]\n",
      "[3, 5, 6, 7, 8]\n",
      "[3, 5, 6, 7, 9]\n",
      "[3, 5, 6, 8, 9]\n",
      "[3, 5, 7, 8, 9]\n",
      "[3, 6, 7, 8, 9]\n",
      "[4, 5, 6, 7, 8]\n",
      "[4, 5, 6, 7, 9]\n",
      "[4, 5, 6, 8, 9]\n",
      "[4, 5, 7, 8, 9]\n",
      "[4, 6, 7, 8, 9]\n",
      "[5, 6, 7, 8, 9]\n"
     ]
    }
   ],
   "source": [
    "def f(n, picked, to_pick) :\n",
    "    if to_pick == 0 :\n",
    "        print(picked)\n",
    "        return\n",
    "    sm = 1\n",
    "    if len(picked) != 0 : \n",
    "        sm = picked[-1] + 1\n",
    "        \n",
    "    for nxt in range(sm, 10) :\n",
    "        picked.append(nxt)\n",
    "        f(n, picked, to_pick-1)\n",
    "        picked.pop()\n",
    "        \n",
    "f(10, [], 5)"
   ]
  },
  {
   "cell_type": "code",
   "execution_count": 9,
   "id": "97018d1e",
   "metadata": {},
   "outputs": [
    {
     "name": "stdout",
     "output_type": "stream",
     "text": [
      "758\n",
      "566\n",
      "639\n"
     ]
    }
   ],
   "source": [
    "arr = [744, 755, 777]\n",
    "mean = sum(arr)//3\n",
    "print(mean)\n",
    "\n",
    "sq_sum = 0\n",
    "for x in arr :\n",
    "    sq_sum += (x - mean)**2\n",
    "    \n",
    "    \n",
    "print(sq_sum)\n",
    "    \n",
    "arr = [890, 897, 902]\n",
    "mean = sum(arr) / 3\n",
    "\n",
    "for x in arr :\n",
    "    sq_sum += (x - mean)**2\n",
    "    \n",
    "print(sq_sum)\n"
   ]
  },
  {
   "cell_type": "code",
   "execution_count": 8,
   "id": "096a3a83",
   "metadata": {},
   "outputs": [
    {
     "name": "stdout",
     "output_type": "stream",
     "text": [
      "[[1, 0, 0], [0, 0, 0], [0, 0, 0]]\n",
      "[[1, 0, 0], [1, 0, 0], [1, 0, 0]]\n"
     ]
    }
   ],
   "source": [
    "arr1 = [[0 for _ in range(3)] for _ in range(3)]\n",
    "arr2 = [[0] * 3] * 3\n",
    "\n",
    "arr1[0][0] = 1\n",
    "arr2[0][0] = 1\n",
    "\n",
    "print(arr1)\n",
    "print(arr2)"
   ]
  },
  {
   "cell_type": "code",
   "execution_count": null,
   "id": "c26a8554",
   "metadata": {},
   "outputs": [],
   "source": []
  },
  {
   "cell_type": "code",
   "execution_count": 3,
   "id": "7f9c9cfa",
   "metadata": {},
   "outputs": [
    {
     "name": "stdout",
     "output_type": "stream",
     "text": [
      "15\n"
     ]
    }
   ],
   "source": [
    "SET = [i for i in range(10)]\n",
    "\n",
    "def get_parent(n) :\n",
    "    if n == SET[n] : return n\n",
    "    SET[n] = get_parent(SET[n])\n",
    "    return SET[n]\n",
    "\n",
    "def is_set(a,b) :\n",
    "    a = get_parent(a)\n",
    "    b = get_parent(b)\n",
    "    if a == b : return True\n",
    "    return False\n",
    "\n",
    "def union(a,b) :\n",
    "    a = get_parent(a)\n",
    "    b = get_parent(b)\n",
    "    \n",
    "    if a < b :\n",
    "        SET[b] = a\n",
    "    else :\n",
    "        SET[a] = b\n",
    "    \n",
    "    \n",
    "edges = [[1,2,10], [2,3,20],[3,1,5]]\n",
    "\n",
    "edges.sort(key = lambda x : x[2])\n",
    "\n",
    "ans = 0\n",
    "\n",
    "for edge in edges :\n",
    "    a,b,c = edge\n",
    "    if not is_set(a,b) :\n",
    "        ans += c\n",
    "        union(a,b)\n",
    "    \n",
    "print(ans)\n",
    "\n",
    "    \n",
    "    "
   ]
  },
  {
   "cell_type": "code",
   "execution_count": 1,
   "id": "7511f783",
   "metadata": {},
   "outputs": [
    {
     "name": "stdout",
     "output_type": "stream",
     "text": [
      "0 5\n",
      "1 50\n",
      "2 500\n"
     ]
    }
   ],
   "source": [
    "arr = [5,50,500]\n",
    "\n",
    "for i,x in enumerate(arr) :\n",
    "    print(i,x)"
   ]
  }
 ],
 "metadata": {
  "kernelspec": {
   "display_name": "Python 3.11.0 64-bit",
   "language": "python",
   "name": "python3"
  },
  "language_info": {
   "codemirror_mode": {
    "name": "ipython",
    "version": 3
   },
   "file_extension": ".py",
   "mimetype": "text/x-python",
   "name": "python",
   "nbconvert_exporter": "python",
   "pygments_lexer": "ipython3",
   "version": "3.11.0"
  },
  "vscode": {
   "interpreter": {
    "hash": "5c7b89af1651d0b8571dde13640ecdccf7d5a6204171d6ab33e7c296e100e08a"
   }
  }
 },
 "nbformat": 4,
 "nbformat_minor": 5
}
