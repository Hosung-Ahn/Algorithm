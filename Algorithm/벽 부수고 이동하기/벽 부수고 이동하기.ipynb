{
 "cells": [
  {
   "cell_type": "code",
   "execution_count": 1,
   "metadata": {
    "ExecuteTime": {
     "end_time": "2021-12-04T12:43:54.076934Z",
     "start_time": "2021-12-04T12:43:54.065587Z"
    }
   },
   "outputs": [
    {
     "name": "stdout",
     "output_type": "stream",
     "text": [
      "-1\n"
     ]
    }
   ],
   "source": [
    "from collections import deque\n",
    "\n",
    "f = open(\"02.int\", 'r')\n",
    "n,m = map(int , f.readline().split())\n",
    "d = [[[0]*m for _ in range(n)] for _ in range(2)]\n",
    "wall = []\n",
    "for _ in range(n) :\n",
    "    wall.append(f.readline().strip())\n",
    "f.close()\n",
    "\n",
    "dr = [0,1,0,-1]\n",
    "dc = [1,0,-1,0]\n",
    "\n",
    "def bfs() :\n",
    "    d[0][0][0] = 1\n",
    "    queue = deque()\n",
    "    queue.append([0, 0, 0])\n",
    "    \n",
    "    while queue :\n",
    "        breaked, r, c = queue.popleft()\n",
    "        if r == n-1 and c == m-1 :\n",
    "            print(d[breaked][r][c])\n",
    "            return\n",
    "        for i in range(4) :\n",
    "            nr = r + dr[i]\n",
    "            nc = c + dc[i]\n",
    "            if nr < 0 or nc < 0 or nr >= n or nc >= m :\n",
    "                continue\n",
    "            if d[breaked][nr][nc] == 0 : \n",
    "                if wall[nr][nc] == '0' :\n",
    "                    d[breaked][nr][nc] = d[breaked][r][c] + 1\n",
    "                    queue.append([breaked, nr, nc])\n",
    "                else : \n",
    "                    if breaked == 0 : \n",
    "                        d[1][nr][nc] = d[breaked][r][c] + 1\n",
    "                        queue.append([1,nr,nc])\n",
    "    print(-1)\n",
    "    return\n",
    "\n",
    "bfs()"
   ]
  },
  {
   "cell_type": "code",
   "execution_count": 2,
   "metadata": {
    "ExecuteTime": {
     "end_time": "2021-12-04T12:44:09.045350Z",
     "start_time": "2021-12-04T12:43:54.078954Z"
    }
   },
   "outputs": [
    {
     "name": "stdout",
     "output_type": "stream",
     "text": [
      "6 4\n"
     ]
    },
    {
     "ename": "KeyboardInterrupt",
     "evalue": "Interrupted by user",
     "output_type": "error",
     "traceback": [
      "\u001b[0;31m---------------------------------------------------------------------------\u001b[0m",
      "\u001b[0;31mKeyboardInterrupt\u001b[0m                         Traceback (most recent call last)",
      "\u001b[0;32m<ipython-input-2-dc54be4edd30>\u001b[0m in \u001b[0;36m<module>\u001b[0;34m\u001b[0m\n\u001b[1;32m      5\u001b[0m \u001b[0mwall\u001b[0m \u001b[0;34m=\u001b[0m \u001b[0;34m[\u001b[0m\u001b[0;34m]\u001b[0m\u001b[0;34m\u001b[0m\u001b[0;34m\u001b[0m\u001b[0m\n\u001b[1;32m      6\u001b[0m \u001b[0;32mfor\u001b[0m \u001b[0m_\u001b[0m \u001b[0;32min\u001b[0m \u001b[0mrange\u001b[0m\u001b[0;34m(\u001b[0m\u001b[0mn\u001b[0m\u001b[0;34m)\u001b[0m \u001b[0;34m:\u001b[0m\u001b[0;34m\u001b[0m\u001b[0;34m\u001b[0m\u001b[0m\n\u001b[0;32m----> 7\u001b[0;31m     \u001b[0mwall\u001b[0m\u001b[0;34m.\u001b[0m\u001b[0mappend\u001b[0m\u001b[0;34m(\u001b[0m\u001b[0minput\u001b[0m\u001b[0;34m(\u001b[0m\u001b[0;34m)\u001b[0m\u001b[0;34m)\u001b[0m\u001b[0;34m\u001b[0m\u001b[0;34m\u001b[0m\u001b[0m\n\u001b[0m\u001b[1;32m      8\u001b[0m \u001b[0;34m\u001b[0m\u001b[0m\n\u001b[1;32m      9\u001b[0m \u001b[0mdr\u001b[0m \u001b[0;34m=\u001b[0m \u001b[0;34m[\u001b[0m\u001b[0;36m0\u001b[0m\u001b[0;34m,\u001b[0m\u001b[0;36m1\u001b[0m\u001b[0;34m,\u001b[0m\u001b[0;36m0\u001b[0m\u001b[0;34m,\u001b[0m\u001b[0;34m-\u001b[0m\u001b[0;36m1\u001b[0m\u001b[0;34m]\u001b[0m\u001b[0;34m\u001b[0m\u001b[0;34m\u001b[0m\u001b[0m\n",
      "\u001b[0;32m~/opt/anaconda3/lib/python3.8/site-packages/ipykernel/kernelbase.py\u001b[0m in \u001b[0;36mraw_input\u001b[0;34m(self, prompt)\u001b[0m\n\u001b[1;32m    858\u001b[0m                 \u001b[0;34m\"raw_input was called, but this frontend does not support input requests.\"\u001b[0m\u001b[0;34m\u001b[0m\u001b[0;34m\u001b[0m\u001b[0m\n\u001b[1;32m    859\u001b[0m             )\n\u001b[0;32m--> 860\u001b[0;31m         return self._input_request(str(prompt),\n\u001b[0m\u001b[1;32m    861\u001b[0m             \u001b[0mself\u001b[0m\u001b[0;34m.\u001b[0m\u001b[0m_parent_ident\u001b[0m\u001b[0;34m,\u001b[0m\u001b[0;34m\u001b[0m\u001b[0;34m\u001b[0m\u001b[0m\n\u001b[1;32m    862\u001b[0m             \u001b[0mself\u001b[0m\u001b[0;34m.\u001b[0m\u001b[0m_parent_header\u001b[0m\u001b[0;34m,\u001b[0m\u001b[0;34m\u001b[0m\u001b[0;34m\u001b[0m\u001b[0m\n",
      "\u001b[0;32m~/opt/anaconda3/lib/python3.8/site-packages/ipykernel/kernelbase.py\u001b[0m in \u001b[0;36m_input_request\u001b[0;34m(self, prompt, ident, parent, password)\u001b[0m\n\u001b[1;32m    902\u001b[0m             \u001b[0;32mexcept\u001b[0m \u001b[0mKeyboardInterrupt\u001b[0m\u001b[0;34m:\u001b[0m\u001b[0;34m\u001b[0m\u001b[0;34m\u001b[0m\u001b[0m\n\u001b[1;32m    903\u001b[0m                 \u001b[0;31m# re-raise KeyboardInterrupt, to truncate traceback\u001b[0m\u001b[0;34m\u001b[0m\u001b[0;34m\u001b[0m\u001b[0;34m\u001b[0m\u001b[0m\n\u001b[0;32m--> 904\u001b[0;31m                 \u001b[0;32mraise\u001b[0m \u001b[0mKeyboardInterrupt\u001b[0m\u001b[0;34m(\u001b[0m\u001b[0;34m\"Interrupted by user\"\u001b[0m\u001b[0;34m)\u001b[0m \u001b[0;32mfrom\u001b[0m \u001b[0;32mNone\u001b[0m\u001b[0;34m\u001b[0m\u001b[0;34m\u001b[0m\u001b[0m\n\u001b[0m\u001b[1;32m    905\u001b[0m             \u001b[0;32mexcept\u001b[0m \u001b[0mException\u001b[0m \u001b[0;32mas\u001b[0m \u001b[0me\u001b[0m\u001b[0;34m:\u001b[0m\u001b[0;34m\u001b[0m\u001b[0;34m\u001b[0m\u001b[0m\n\u001b[1;32m    906\u001b[0m                 \u001b[0mself\u001b[0m\u001b[0;34m.\u001b[0m\u001b[0mlog\u001b[0m\u001b[0;34m.\u001b[0m\u001b[0mwarning\u001b[0m\u001b[0;34m(\u001b[0m\u001b[0;34m\"Invalid Message:\"\u001b[0m\u001b[0;34m,\u001b[0m \u001b[0mexc_info\u001b[0m\u001b[0;34m=\u001b[0m\u001b[0;32mTrue\u001b[0m\u001b[0;34m)\u001b[0m\u001b[0;34m\u001b[0m\u001b[0;34m\u001b[0m\u001b[0m\n",
      "\u001b[0;31mKeyboardInterrupt\u001b[0m: Interrupted by user"
     ]
    }
   ],
   "source": [
    "from collections import deque\n",
    "\n",
    "n,m = map(int , input().split())\n",
    "d = [[[0]*m for _ in range(n)] for _ in range(2)]\n",
    "wall = []\n",
    "for _ in range(n) :\n",
    "    wall.append(input())\n",
    "\n",
    "dr = [0,1,0,-1]\n",
    "dc = [1,0,-1,0]\n",
    "\n",
    "def bfs() :\n",
    "    d[0][0][0] = 1\n",
    "    queue = deque()\n",
    "    queue.append([0, 0, 0])\n",
    "    \n",
    "    while queue :\n",
    "        breaked, r, c = queue.popleft()\n",
    "        if r == n-1 and c == m-1 :\n",
    "            print(d[breaked][r][c])\n",
    "            return\n",
    "        for i in range(4) :\n",
    "            nr = r + dr[i]\n",
    "            nc = c + dc[i]\n",
    "            if nr < 0 or nc < 0 or nr >= n or nc >= m :\n",
    "                continue\n",
    "            if d[breaked][nr][nc] == 0 : \n",
    "                if wall[nr][nc] == '0' :\n",
    "                    d[breaked][nr][nc] = d[breaked][r][c] + 1\n",
    "                    queue.append([breaked, nr, nc])\n",
    "                else : \n",
    "                    if breaked == 0 : \n",
    "                        d[1][nr][nc] = d[breaked][r][c] + 1\n",
    "                        queue.append([1,nr,nc])\n",
    "    print(-1)\n",
    "    return\n",
    "\n",
    "bfs()"
   ]
  },
  {
   "cell_type": "code",
   "execution_count": null,
   "metadata": {
    "ExecuteTime": {
     "end_time": "2021-12-04T12:44:09.046653Z",
     "start_time": "2021-12-04T12:43:54.066Z"
    }
   },
   "outputs": [],
   "source": [
    "d = [[[0]*m for _ in range(n)] for _ in range(2)]\n",
    "d"
   ]
  }
 ],
 "metadata": {
  "kernelspec": {
   "display_name": "Python 3",
   "language": "python",
   "name": "python3"
  },
  "language_info": {
   "codemirror_mode": {
    "name": "ipython",
    "version": 3
   },
   "file_extension": ".py",
   "mimetype": "text/x-python",
   "name": "python",
   "nbconvert_exporter": "python",
   "pygments_lexer": "ipython3",
   "version": "3.8.5"
  }
 },
 "nbformat": 4,
 "nbformat_minor": 4
}
