{
 "cells": [
  {
   "cell_type": "code",
   "execution_count": 65,
   "metadata": {
    "ExecuteTime": {
     "end_time": "2021-12-04T12:34:22.178936Z",
     "start_time": "2021-12-04T12:34:22.154224Z"
    }
   },
   "outputs": [
    {
     "name": "stdout",
     "output_type": "stream",
     "text": [
      "0 0 1\n",
      "0 1 0\n",
      "-1\n"
     ]
    },
    {
     "data": {
      "text/plain": [
       "['0100', '1110', '1000', '0000', '0111', '0000']"
      ]
     },
     "execution_count": 65,
     "metadata": {},
     "output_type": "execute_result"
    }
   ],
   "source": [
    "from collections import deque\n",
    "\n",
    "f = open(\"01.int\", 'r')\n",
    "n,m = map(int , f.readline().split())\n",
    "d = [[[0]*m for _ in range(n)] for _ in range(2)]\n",
    "wall = []\n",
    "for _ in range(n) :\n",
    "    wall.append(f.readline().strip())\n",
    "f.close()\n",
    "\n",
    "dr = [0,1,0,-1]\n",
    "dc = [1,0,-1,0]\n",
    "\n",
    "def bfs() :\n",
    "    d[0][0][0] = 1\n",
    "    queue = deque()\n",
    "    queue.append([0, 0, 0])\n",
    "    \n",
    "    while queue :\n",
    "        breaked, r, c = queue.popleft()\n",
    "        if r == n-1 and c == m-1 :\n",
    "            print(d[breaked][r][c])\n",
    "            return\n",
    "        for i in range(4) :\n",
    "            nr = r + dr[i]\n",
    "            nc = c + dc[i]\n",
    "            if nr < 0 or nc < 0 or nr >= n or nc >= m :\n",
    "                continue\n",
    "            if d[breaked][nr][nc] == 0 : \n",
    "                if wall[nr][nc] == '0' :\n",
    "                    d[breaked][nr][nc] = d[breakd][r][c] + 1\n",
    "                    queue.append([breaked, nr, nc])\n",
    "                else : \n",
    "                    if breaked == 0 : \n",
    "                        d[1][nr][nc] = d[breaked][r][c] + 1\n",
    "                        queue.append([1,nr,nc])\n",
    "    print(-1)\n",
    "    return\n",
    "\n",
    "bfs()\n",
    "\n",
    "\n",
    "wall"
   ]
  },
  {
   "cell_type": "code",
   "execution_count": 71,
   "metadata": {
    "ExecuteTime": {
     "end_time": "2021-12-04T12:35:35.690151Z",
     "start_time": "2021-12-04T12:35:35.685138Z"
    }
   },
   "outputs": [
    {
     "data": {
      "text/plain": [
       "[0, 1, 0, 0]"
      ]
     },
     "execution_count": 71,
     "metadata": {},
     "output_type": "execute_result"
    }
   ],
   "source": [
    "list(map(int, ('0100\\n'.strip())))"
   ]
  },
  {
   "cell_type": "code",
   "execution_count": 55,
   "metadata": {
    "ExecuteTime": {
     "end_time": "2021-12-04T12:32:53.125941Z",
     "start_time": "2021-12-04T12:32:53.118880Z"
    }
   },
   "outputs": [
    {
     "data": {
      "text/plain": [
       "[[[0, 0, 0, 0],\n",
       "  [0, 0, 0, 0],\n",
       "  [0, 0, 0, 0],\n",
       "  [0, 0, 0, 0],\n",
       "  [0, 0, 0, 0],\n",
       "  [0, 0, 0, 0]],\n",
       " [[0, 0, 0, 0],\n",
       "  [0, 0, 0, 0],\n",
       "  [0, 0, 0, 0],\n",
       "  [0, 0, 0, 0],\n",
       "  [0, 0, 0, 0],\n",
       "  [0, 0, 0, 0]]]"
      ]
     },
     "execution_count": 55,
     "metadata": {},
     "output_type": "execute_result"
    }
   ],
   "source": [
    "d = [[[0]*m for _ in range(n)] for _ in range(2)]\n",
    "d"
   ]
  }
 ],
 "metadata": {
  "kernelspec": {
   "display_name": "Python 3",
   "language": "python",
   "name": "python3"
  },
  "language_info": {
   "codemirror_mode": {
    "name": "ipython",
    "version": 3
   },
   "file_extension": ".py",
   "mimetype": "text/x-python",
   "name": "python",
   "nbconvert_exporter": "python",
   "pygments_lexer": "ipython3",
   "version": "3.8.5"
  }
 },
 "nbformat": 4,
 "nbformat_minor": 4
}
