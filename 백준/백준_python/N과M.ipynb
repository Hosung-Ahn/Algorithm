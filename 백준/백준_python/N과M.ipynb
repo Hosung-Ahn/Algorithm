{
 "cells": [
  {
   "cell_type": "code",
   "execution_count": 19,
   "id": "b13ce268",
   "metadata": {
    "ExecuteTime": {
     "end_time": "2021-12-15T11:48:38.820738Z",
     "start_time": "2021-12-15T11:48:36.571037Z"
    }
   },
   "outputs": [
    {
     "name": "stdout",
     "output_type": "stream",
     "text": [
      "4 2\n",
      "9 8 7 1\n",
      "1 7\n",
      "1 8\n",
      "1 9\n",
      "7 1\n",
      "7 8\n",
      "7 9\n",
      "8 1\n",
      "8 7\n",
      "8 9\n",
      "9 1\n",
      "9 7\n",
      "9 8\n"
     ]
    }
   ],
   "source": [
    "from itertools import permutations\n",
    "\n",
    "n,m = map(int, input().split())\n",
    "\n",
    "lst = list(map(int,input().split()))\n",
    "lst.sort()\n",
    "\n",
    "for c in permutations(lst,m) :\n",
    "    print (*c)"
   ]
  },
  {
   "cell_type": "code",
   "execution_count": null,
   "id": "cffdc36f",
   "metadata": {},
   "outputs": [],
   "source": []
  }
 ],
 "metadata": {
  "kernelspec": {
   "display_name": "Python 3 (ipykernel)",
   "language": "python",
   "name": "python3"
  },
  "language_info": {
   "codemirror_mode": {
    "name": "ipython",
    "version": 3
   },
   "file_extension": ".py",
   "mimetype": "text/x-python",
   "name": "python",
   "nbconvert_exporter": "python",
   "pygments_lexer": "ipython3",
   "version": "3.9.7"
  }
 },
 "nbformat": 4,
 "nbformat_minor": 5
}
