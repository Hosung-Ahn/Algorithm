{
 "cells": [
  {
   "cell_type": "code",
   "execution_count": 26,
   "id": "a70d3093",
   "metadata": {
    "ExecuteTime": {
     "end_time": "2022-05-15T03:15:21.425740Z",
     "start_time": "2022-05-15T03:14:55.950927Z"
    }
   },
   "outputs": [
    {
     "name": "stdout",
     "output_type": "stream",
     "text": [
      "200\n",
      "1071292029505993517027974728227441735014801995855195223534251\n",
      "\n"
     ]
    }
   ],
   "source": [
    "dp = [1,1,3]\n",
    "for n in range(3,251) :\n",
    "    dp.append(dp[n-1] + 2*dp[n-2])\n",
    "\n",
    "while True :\n",
    "    try : \n",
    "        n = int(input())\n",
    "    except :\n",
    "        break\n",
    "        \n",
    "    print(dp[int(n)])"
   ]
  },
  {
   "cell_type": "code",
   "execution_count": 21,
   "id": "011a49c1",
   "metadata": {
    "ExecuteTime": {
     "end_time": "2022-05-15T03:11:14.175434Z",
     "start_time": "2022-05-15T03:11:13.770720Z"
    }
   },
   "outputs": [
    {
     "name": "stdout",
     "output_type": "stream",
     "text": [
      "\n",
      "어쩌라고\n"
     ]
    }
   ],
   "source": [
    "n = input()\n",
    "if n == '' : print(\"어쩌라고\")"
   ]
  },
  {
   "cell_type": "code",
   "execution_count": 28,
   "id": "ef61f394",
   "metadata": {
    "ExecuteTime": {
     "end_time": "2022-05-15T03:15:30.514538Z",
     "start_time": "2022-05-15T03:15:30.506020Z"
    }
   },
   "outputs": [
    {
     "data": {
      "text/plain": [
       "True"
      ]
     },
     "execution_count": 28,
     "metadata": {},
     "output_type": "execute_result"
    }
   ],
   "source": []
  }
 ],
 "metadata": {
  "kernelspec": {
   "display_name": "Python 3 (ipykernel)",
   "language": "python",
   "name": "python3"
  },
  "language_info": {
   "codemirror_mode": {
    "name": "ipython",
    "version": 3
   },
   "file_extension": ".py",
   "mimetype": "text/x-python",
   "name": "python",
   "nbconvert_exporter": "python",
   "pygments_lexer": "ipython3",
   "version": "3.9.7"
  }
 },
 "nbformat": 4,
 "nbformat_minor": 5
}
