{
 "cells": [
  {
   "cell_type": "code",
   "execution_count": null,
   "id": "f7eb36b9",
   "metadata": {},
   "outputs": [],
   "source": [
    "n = int(input())\n",
    "arr = input()\n",
    "\n"
   ]
  },
  {
   "cell_type": "code",
   "execution_count": 6,
   "id": "a3b6f4dd",
   "metadata": {
    "ExecuteTime": {
     "end_time": "2022-05-18T01:07:03.490802Z",
     "start_time": "2022-05-18T01:07:03.487815Z"
    }
   },
   "outputs": [],
   "source": []
  }
 ],
 "metadata": {
  "kernelspec": {
   "display_name": "Python 3 (ipykernel)",
   "language": "python",
   "name": "python3"
  },
  "language_info": {
   "codemirror_mode": {
    "name": "ipython",
    "version": 3
   },
   "file_extension": ".py",
   "mimetype": "text/x-python",
   "name": "python",
   "nbconvert_exporter": "python",
   "pygments_lexer": "ipython3",
   "version": "3.9.12"
  }
 },
 "nbformat": 4,
 "nbformat_minor": 5
}
