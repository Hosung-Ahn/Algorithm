{
 "cells": [
  {
   "cell_type": "code",
   "execution_count": 11,
   "id": "929eabe2",
   "metadata": {
    "ExecuteTime": {
     "end_time": "2022-01-21T04:56:36.997302Z",
     "start_time": "2022-01-21T04:56:27.135482Z"
    }
   },
   "outputs": [
    {
     "name": "stdout",
     "output_type": "stream",
     "text": [
      "12ab112ab2ab\n",
      "12ab\n",
      "FRULA\n"
     ]
    }
   ],
   "source": [
    "string = input()\n",
    "# string = 'mirkovC4nizCC44'\n",
    "change = input()\n",
    "# change = 'C4'\n",
    "\n",
    "while (string.find(change) != -1) :\n",
    "    string = string.replace(change, '')\n",
    "    \n",
    "if len(string) == 0:\n",
    "    print('FRULA')\n",
    "else :\n",
    "    print(string)"
   ]
  }
 ],
 "metadata": {
  "kernelspec": {
   "display_name": "Python 3 (ipykernel)",
   "language": "python",
   "name": "python3"
  },
  "language_info": {
   "codemirror_mode": {
    "name": "ipython",
    "version": 3
   },
   "file_extension": ".py",
   "mimetype": "text/x-python",
   "name": "python",
   "nbconvert_exporter": "python",
   "pygments_lexer": "ipython3",
   "version": "3.9.7"
  }
 },
 "nbformat": 4,
 "nbformat_minor": 5
}
