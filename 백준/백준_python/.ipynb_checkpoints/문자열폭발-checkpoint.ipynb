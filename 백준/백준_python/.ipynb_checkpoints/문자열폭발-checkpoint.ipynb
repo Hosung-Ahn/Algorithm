{
 "cells": [
  {
   "cell_type": "code",
   "execution_count": 1,
   "id": "da6433b3",
   "metadata": {
    "ExecuteTime": {
     "end_time": "2022-01-21T04:52:42.000753Z",
     "start_time": "2022-01-21T04:52:34.372541Z"
    }
   },
   "outputs": [
    {
     "name": "stdout",
     "output_type": "stream",
     "text": [
      "mirkovC4nizCC44\n",
      "C4\n"
     ]
    },
    {
     "data": {
      "text/plain": [
       "'mirkovC4nizCC44'"
      ]
     },
     "execution_count": 1,
     "metadata": {},
     "output_type": "execute_result"
    }
   ],
   "source": [
    "# string = input()\n",
    "string = 'mirkovC4nizCC44'\n",
    "# change = input()\n",
    "change = 'C4'\n",
    "string.replace(change, '', inplace = True)\n",
    "\n",
    "string"
   ]
  }
 ],
 "metadata": {
  "kernelspec": {
   "display_name": "Python 3 (ipykernel)",
   "language": "python",
   "name": "python3"
  },
  "language_info": {
   "codemirror_mode": {
    "name": "ipython",
    "version": 3
   },
   "file_extension": ".py",
   "mimetype": "text/x-python",
   "name": "python",
   "nbconvert_exporter": "python",
   "pygments_lexer": "ipython3",
   "version": "3.9.7"
  }
 },
 "nbformat": 4,
 "nbformat_minor": 5
}
