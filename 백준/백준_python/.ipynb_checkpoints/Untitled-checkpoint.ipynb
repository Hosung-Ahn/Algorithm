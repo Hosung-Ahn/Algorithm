{
 "cells": [
  {
   "cell_type": "code",
   "execution_count": 14,
   "id": "90452b30",
   "metadata": {
    "ExecuteTime": {
     "end_time": "2022-05-23T15:56:08.963347Z",
     "start_time": "2022-05-23T15:56:08.095462Z"
    }
   },
   "outputs": [
    {
     "name": "stdout",
     "output_type": "stream",
     "text": [
      "3 2\n",
      "4\n"
     ]
    }
   ],
   "source": [
    "n,x = map(int, input().split())\n",
    "\n",
    "result = 987654321\n",
    "def dfs(cur, cnt) :\n",
    "    global n\n",
    "    global result\n",
    "    if len(str(cur)) == n :\n",
    "        result = min(result, cnt)\n",
    "    if len(str(cur)) > n :\n",
    "        return\n",
    "    for i in str(cur) :\n",
    "        if (i == '1') : continue\n",
    "        dfs(cur * int(i), cnt+1)\n",
    "\n",
    "if x == 1 : \n",
    "    print(-1)\n",
    "else :\n",
    "    dfs(x,0)\n",
    "    print(result)"
   ]
  },
  {
   "cell_type": "code",
   "execution_count": 8,
   "id": "18d27682",
   "metadata": {
    "ExecuteTime": {
     "end_time": "2022-05-23T15:53:07.090805Z",
     "start_time": "2022-05-23T15:53:07.087873Z"
    }
   },
   "outputs": [
    {
     "name": "stdout",
     "output_type": "stream",
     "text": [
      "1\n",
      "2\n",
      "3\n"
     ]
    }
   ],
   "source": [
    "for n in \"123\" :\n",
    "    print(n)"
   ]
  }
 ],
 "metadata": {
  "kernelspec": {
   "display_name": "Python 3 (ipykernel)",
   "language": "python",
   "name": "python3"
  },
  "language_info": {
   "codemirror_mode": {
    "name": "ipython",
    "version": 3
   },
   "file_extension": ".py",
   "mimetype": "text/x-python",
   "name": "python",
   "nbconvert_exporter": "python",
   "pygments_lexer": "ipython3",
   "version": "3.9.12"
  }
 },
 "nbformat": 4,
 "nbformat_minor": 5
}
