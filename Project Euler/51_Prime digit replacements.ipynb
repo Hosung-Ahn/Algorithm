{
 "cells": [
  {
   "cell_type": "code",
   "execution_count": 57,
   "id": "505717a6",
   "metadata": {
    "ExecuteTime": {
     "end_time": "2022-06-07T05:32:58.806453Z",
     "start_time": "2022-06-07T05:32:56.626046Z"
    }
   },
   "outputs": [],
   "source": [
    "import itertools\n",
    "import math\n",
    "\n",
    "MAX = 10_000_000\n",
    "Prime = [True] * MAX\n",
    "check = int(MAX**0.5)\n",
    "Prime[0] = False \n",
    "Prime[1] = False\n",
    "\n",
    "for i in range(2,check+1) :\n",
    "    if Prime[i] : \n",
    "        for j in range(i*2, MAX, i) :\n",
    "            Prime[j] = False\n",
    "            \n",
    "prime_lst = [ ]\n",
    "for n in range(MAX) :\n",
    "    if Prime[n] :\n",
    "        prime_lst.append(n)"
   ]
  },
  {
   "cell_type": "code",
   "execution_count": 62,
   "id": "afb32e19",
   "metadata": {
    "ExecuteTime": {
     "end_time": "2022-06-07T05:36:23.146741Z",
     "start_time": "2022-06-07T05:36:23.143891Z"
    }
   },
   "outputs": [],
   "source": [
    "def change_num(n, choosed_num, toNum) :\n",
    "    lst = list(str(n))\n",
    "    for x in choosed_num :\n",
    "        lst[x] = str(toNum)\n",
    "    return int(''.join(lst))\n",
    "\n",
    "def is_eight_prime_family(n) :\n",
    "    lenght = len(str(n))\n",
    "    for i in range(1,lenght+1) :\n",
    "        cb = list(itertools.combinations(range(lenght), i))\n",
    "        \n",
    "        for choosed_num in cb :\n",
    "            choosed = [0]*lenght\n",
    "            cnt = 0\n",
    "            for toNum in range(10) :\n",
    "                changed_num = change_num(n,choosed_num,toNum)\n",
    "                if len(str(n)) != len(str(changed_num)) : continue\n",
    "                if Prime[changed_num] : cnt += 1\n",
    "            if cnt == 8 :\n",
    "                print(choosed_num)\n",
    "                print(n)\n",
    "                return True\n",
    "    return False"
   ]
  },
  {
   "cell_type": "code",
   "execution_count": 63,
   "id": "f1c935a0",
   "metadata": {
    "ExecuteTime": {
     "end_time": "2022-06-07T05:36:27.827404Z",
     "start_time": "2022-06-07T05:36:24.649718Z"
    }
   },
   "outputs": [
    {
     "name": "stdout",
     "output_type": "stream",
     "text": [
      "(0, 2, 4)\n",
      "120383\n",
      "120383\n"
     ]
    }
   ],
   "source": [
    "for p in prime_lst :\n",
    "    if is_eight_prime_family(p) : \n",
    "        print(p)\n",
    "        break"
   ]
  },
  {
   "cell_type": "code",
   "execution_count": 56,
   "id": "4dd53435",
   "metadata": {
    "ExecuteTime": {
     "end_time": "2022-06-07T05:32:31.966131Z",
     "start_time": "2022-06-07T05:32:31.961600Z"
    }
   },
   "outputs": [
    {
     "data": {
      "text/plain": [
       "True"
      ]
     },
     "execution_count": 56,
     "metadata": {},
     "output_type": "execute_result"
    }
   ],
   "source": []
  },
  {
   "cell_type": "code",
   "execution_count": 59,
   "id": "1e2e5128",
   "metadata": {
    "ExecuteTime": {
     "end_time": "2022-06-07T05:35:16.153233Z",
     "start_time": "2022-06-07T05:35:16.145441Z"
    }
   },
   "outputs": [
    {
     "data": {
      "text/plain": [
       "True"
      ]
     },
     "execution_count": 59,
     "metadata": {},
     "output_type": "execute_result"
    }
   ],
   "source": [
    "is_prime(121313)"
   ]
  }
 ],
 "metadata": {
  "kernelspec": {
   "display_name": "Python 3 (ipykernel)",
   "language": "python",
   "name": "python3"
  },
  "language_info": {
   "codemirror_mode": {
    "name": "ipython",
    "version": 3
   },
   "file_extension": ".py",
   "mimetype": "text/x-python",
   "name": "python",
   "nbconvert_exporter": "python",
   "pygments_lexer": "ipython3",
   "version": "3.9.12"
  }
 },
 "nbformat": 4,
 "nbformat_minor": 5
}
