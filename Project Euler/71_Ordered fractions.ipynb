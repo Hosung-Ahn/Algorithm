{
 "cells": [
  {
   "cell_type": "code",
   "execution_count": 22,
   "metadata": {},
   "outputs": [
    {
     "data": {
      "text/plain": [
       "428570"
      ]
     },
     "execution_count": 22,
     "metadata": {},
     "output_type": "execute_result"
    }
   ],
   "source": [
    "def binary_search(d) :\n",
    "    lo = 1\n",
    "    hi = d\n",
    "    \n",
    "    while(lo < hi) :\n",
    "        mid = (lo+hi)//2+1\n",
    "        if mid/d >= 3/7 :\n",
    "            hi = mid-1\n",
    "        else : lo = mid\n",
    "        \n",
    "    return lo\n",
    "\n",
    "def gcd(a,b) : \n",
    "    c = a % b\n",
    "    while c :\n",
    "        a = b\n",
    "        b = c\n",
    "        c = a % b\n",
    "    return b\n",
    "\n",
    "max_f = 0\n",
    "ans = 0\n",
    "\n",
    "for d in range(3,1_000_001) :\n",
    "    n = binary_search(d)\n",
    "    \n",
    "    while(gcd(d,n) != 1) :\n",
    "        n -= 1\n",
    "        \n",
    "    tmp = n/d\n",
    "    \n",
    "    if tmp > 3/7 :\n",
    "        print(d,n)\n",
    "    \n",
    "    if tmp > max_f :\n",
    "        max_f = tmp\n",
    "        ans = n\n",
    "ans"
   ]
  },
  {
   "cell_type": "code",
   "execution_count": 24,
   "metadata": {},
   "outputs": [
    {
     "data": {
      "text/plain": [
       "428571.0"
      ]
     },
     "execution_count": 24,
     "metadata": {},
     "output_type": "execute_result"
    }
   ],
   "source": [
    "999999/7*3"
   ]
  },
  {
   "cell_type": "code",
   "execution_count": 25,
   "metadata": {},
   "outputs": [
    {
     "data": {
      "text/plain": [
       "8651"
      ]
     },
     "execution_count": 25,
     "metadata": {},
     "output_type": "execute_result"
    }
   ],
   "source": [
    "8*47*26 - 9*125"
   ]
  }
 ],
 "metadata": {
  "kernelspec": {
   "display_name": "Python 3.10.2 64-bit",
   "language": "python",
   "name": "python3"
  },
  "language_info": {
   "codemirror_mode": {
    "name": "ipython",
    "version": 3
   },
   "file_extension": ".py",
   "mimetype": "text/x-python",
   "name": "python",
   "nbconvert_exporter": "python",
   "pygments_lexer": "ipython3",
   "version": "3.10.2"
  },
  "orig_nbformat": 4,
  "vscode": {
   "interpreter": {
    "hash": "369f2c481f4da34e4445cda3fffd2e751bd1c4d706f27375911949ba6bb62e1c"
   }
  }
 },
 "nbformat": 4,
 "nbformat_minor": 2
}
