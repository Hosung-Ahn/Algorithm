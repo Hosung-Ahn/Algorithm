{
 "cells": [
  {
   "cell_type": "markdown",
   "metadata": {},
   "source": [
    "# 원시 피타고라스의 수"
   ]
  },
  {
   "cell_type": "markdown",
   "metadata": {},
   "source": [
    "![images](images/75.PNG)"
   ]
  },
  {
   "cell_type": "code",
   "execution_count": 12,
   "metadata": {},
   "outputs": [
    {
     "name": "stdout",
     "output_type": "stream",
     "text": [
      "161667\n"
     ]
    }
   ],
   "source": [
    "import numpy as np\n",
    "\n",
    "MAX = 1_500_000\n",
    "cnt = np.zeros(MAX+1)\n",
    "\n",
    "def gcd(a,b) :\n",
    "    c = a % b\n",
    "    while(c) :\n",
    "        a = b\n",
    "        b = c\n",
    "        c = a % b\n",
    "    return b\n",
    "\n",
    "def cal_ABC(m,n) :\n",
    "    if m <= n or m % 2 == 0 or n % 2 == 0 : return None\n",
    "    a = (m**2 - n**2)//2\n",
    "    b = m*n\n",
    "    c = (m**2 + n**2)//2\n",
    "    \n",
    "    return sorted((a,b,c))\n",
    "\n",
    "def max_m() :\n",
    "    m = 3\n",
    "    while(True) :\n",
    "        x = cal_ABC(m,1)\n",
    "        if x != None and sum(x) > MAX :\n",
    "            return m\n",
    "        m += 2\n",
    "    \n",
    "def solve() :\n",
    "    mm = max_m()\n",
    "    lst = []\n",
    "    cnt = np.zeros(MAX+1)\n",
    "    \n",
    "    for m in range(3,mm,2) :\n",
    "        for n in range(1,m,2) :\n",
    "            if gcd(m,n) != 1 : continue\n",
    "            x = cal_ABC(m,n)\n",
    "            if sum(x) > MAX : break\n",
    "            lst.append(sum(x))\n",
    "            \n",
    "    for l in lst :\n",
    "        for lk in range(l, MAX, l) :\n",
    "            cnt[lk] += 1\n",
    "            \n",
    "    print(sum(cnt == 1))\n",
    "    \n",
    "solve()\n",
    "        "
   ]
  },
  {
   "cell_type": "code",
   "execution_count": 13,
   "metadata": {},
   "outputs": [
    {
     "data": {
      "text/plain": [
       "1225"
      ]
     },
     "execution_count": 13,
     "metadata": {},
     "output_type": "execute_result"
    }
   ],
   "source": []
  },
  {
   "cell_type": "code",
   "execution_count": 11,
   "metadata": {},
   "outputs": [
    {
     "data": {
      "text/plain": [
       "1"
      ]
     },
     "execution_count": 11,
     "metadata": {},
     "output_type": "execute_result"
    }
   ],
   "source": []
  }
 ],
 "metadata": {
  "kernelspec": {
   "display_name": "Python 3.10.2 64-bit",
   "language": "python",
   "name": "python3"
  },
  "language_info": {
   "codemirror_mode": {
    "name": "ipython",
    "version": 3
   },
   "file_extension": ".py",
   "mimetype": "text/x-python",
   "name": "python",
   "nbconvert_exporter": "python",
   "pygments_lexer": "ipython3",
   "version": "3.10.2"
  },
  "orig_nbformat": 4,
  "vscode": {
   "interpreter": {
    "hash": "369f2c481f4da34e4445cda3fffd2e751bd1c4d706f27375911949ba6bb62e1c"
   }
  }
 },
 "nbformat": 4,
 "nbformat_minor": 2
}
