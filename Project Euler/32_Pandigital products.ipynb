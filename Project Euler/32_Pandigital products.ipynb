{
 "cells": [
  {
   "cell_type": "code",
   "execution_count": 11,
   "id": "bd07bfa3",
   "metadata": {
    "ExecuteTime": {
     "end_time": "2022-05-28T06:47:20.323579Z",
     "start_time": "2022-05-28T06:47:20.016963Z"
    }
   },
   "outputs": [
    {
     "name": "stdout",
     "output_type": "stream",
     "text": [
      "4 1738 6952\n",
      "4 1963 7852\n",
      "12 483 5796\n",
      "18 297 5346\n",
      "27 198 5346\n",
      "28 157 4396\n",
      "39 186 7254\n",
      "42 138 5796\n",
      "48 159 7632\n",
      "45228\n"
     ]
    }
   ],
   "source": [
    "def is_pandigital(a,b,c) :\n",
    "    cnt = [0]*10\n",
    "    cnt[0] = 1\n",
    "    for i in str(a) :\n",
    "        cnt[int(i)] += 1;\n",
    "    for i in str(b) :\n",
    "        cnt[int(i)] += 1;\n",
    "    for i in str(c) :\n",
    "        cnt[int(i)] += 1;\n",
    "\n",
    "    for i in range(0,10) :\n",
    "        if cnt[i] != 1 : return False \n",
    "    return True\n",
    "\n",
    "\n",
    "lst = [] \n",
    "for a in range(1,10) :\n",
    "    for b in range(1000, 10000) :\n",
    "        c = a * b\n",
    "        if is_pandigital(a,b,c) : \n",
    "            print(a,b,c)\n",
    "            lst.append(c)\n",
    "\n",
    "for a in range(10,100) :\n",
    "    for b in range(100,1000) :\n",
    "        c = a * b\n",
    "        if is_pandigital(a,b,c) :\n",
    "            print(a,b,c)\n",
    "            lst.append(c)\n",
    "\n",
    "print(sum(set(lst)))"
   ]
  },
  {
   "cell_type": "code",
   "execution_count": 7,
   "id": "7fbe9c10",
   "metadata": {
    "ExecuteTime": {
     "end_time": "2022-05-28T06:37:16.260409Z",
     "start_time": "2022-05-28T06:37:16.255345Z"
    }
   },
   "outputs": [
    {
     "data": {
      "text/plain": [
       "True"
      ]
     },
     "execution_count": 7,
     "metadata": {},
     "output_type": "execute_result"
    }
   ],
   "source": [
    "is_pandigital(39, 186, 39*186)"
   ]
  }
 ],
 "metadata": {
  "kernelspec": {
   "display_name": "Python 3 (ipykernel)",
   "language": "python",
   "name": "python3"
  },
  "language_info": {
   "codemirror_mode": {
    "name": "ipython",
    "version": 3
   },
   "file_extension": ".py",
   "mimetype": "text/x-python",
   "name": "python",
   "nbconvert_exporter": "python",
   "pygments_lexer": "ipython3",
   "version": "3.9.12"
  }
 },
 "nbformat": 4,
 "nbformat_minor": 5
}
