{
 "cells": [
  {
   "cell_type": "code",
   "execution_count": 1,
   "metadata": {},
   "outputs": [],
   "source": [
    "from collections import defaultdict\n",
    "\n",
    "MAX = 1_000\n",
    "Prime = [True] * MAX\n",
    "check = int(MAX**0.5)\n",
    "Prime[0] = False \n",
    "Prime[1] = False\n",
    "\n",
    "for i in range(2,check+1) :\n",
    "    if Prime[i] : \n",
    "        for j in range(i*2, MAX, i) :\n",
    "            Prime[j] = False\n",
    "            \n",
    "prime_lst = [ ]\n",
    "for n in range(MAX) :\n",
    "    if Prime[n] :\n",
    "        prime_lst.append(n)\n",
    "        \n",
    "def is_prime(n) :\n",
    "    ck = int(n**0.5)\n",
    "    for d in range(2,ck+1) :\n",
    "        if n % d == 0 : return False\n",
    "    return True\n",
    "\n",
    "def prime_factorization(n) : # n을 소인수 분해하여 dict 으로 return 한다.\n",
    "    prime_factor = defaultdict(int)\n",
    "    while (n > 1) :\n",
    "        if is_prime(n) :\n",
    "            prime_factor[n] += 1\n",
    "            break\n",
    "            \n",
    "        for prime in prime_lst :\n",
    "            if n % prime == 0 :\n",
    "                prime_factor[prime] += 1\n",
    "                n //= prime\n",
    "                break\n",
    "                    \n",
    "    return prime_factor\n",
    "\n",
    "def euler_func(n) :\n",
    "    ret = n\n",
    "    prime_factor = prime_factorization(ret)\n",
    "    for p in prime_factor.keys() :\n",
    "        ret //= p\n",
    "        ret *= (p-1)\n",
    "    return ret"
   ]
  },
  {
   "cell_type": "code",
   "execution_count": 3,
   "metadata": {},
   "outputs": [
    {
     "data": {
      "text/plain": [
       "303963552391"
      ]
     },
     "execution_count": 3,
     "metadata": {},
     "output_type": "execute_result"
    }
   ],
   "source": [
    "ans = 0\n",
    "for n in range(2,1_000_001) :\n",
    "    ans += euler_func(n)\n",
    "ans"
   ]
  },
  {
   "cell_type": "code",
   "execution_count": null,
   "metadata": {},
   "outputs": [],
   "source": []
  }
 ],
 "metadata": {
  "kernelspec": {
   "display_name": "Python 3.10.2 64-bit",
   "language": "python",
   "name": "python3"
  },
  "language_info": {
   "codemirror_mode": {
    "name": "ipython",
    "version": 3
   },
   "file_extension": ".py",
   "mimetype": "text/x-python",
   "name": "python",
   "nbconvert_exporter": "python",
   "pygments_lexer": "ipython3",
   "version": "3.10.2"
  },
  "orig_nbformat": 4,
  "vscode": {
   "interpreter": {
    "hash": "369f2c481f4da34e4445cda3fffd2e751bd1c4d706f27375911949ba6bb62e1c"
   }
  }
 },
 "nbformat": 4,
 "nbformat_minor": 2
}
