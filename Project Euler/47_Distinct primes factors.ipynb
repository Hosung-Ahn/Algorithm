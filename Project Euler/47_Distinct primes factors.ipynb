{
 "cells": [
  {
   "cell_type": "code",
   "execution_count": 1,
   "id": "13580e9a",
   "metadata": {
    "ExecuteTime": {
     "end_time": "2022-06-01T04:34:03.991890Z",
     "start_time": "2022-06-01T04:34:01.943315Z"
    }
   },
   "outputs": [],
   "source": [
    "MAX = 10_000_000\n",
    "Prime = [True] * MAX\n",
    "check = int(MAX**0.5)\n",
    "Prime[0] = False \n",
    "Prime[1] = False\n",
    "\n",
    "for i in range(2,check+1) :\n",
    "    if Prime[i] : \n",
    "        for j in range(i*2, MAX, i) :\n",
    "            Prime[j] = False\n",
    "            \n",
    "prime_lst = [ ]\n",
    "for n in range(MAX) :\n",
    "    if Prime[n] :\n",
    "        prime_lst.append(n)\n",
    "\n",
    "def prime_factorization(n) : # n을 소인수 분해하여 dict 으로 return 한다.\n",
    "    prime_factor = dict()\n",
    "    while (n > 1) :\n",
    "        for prime in prime_lst :\n",
    "            if n % prime == 0 :\n",
    "                if prime_factor.get(prime) : \n",
    "                    prime_factor[prime] += 1\n",
    "                else :\n",
    "                    prime_factor[prime] = 1\n",
    "                n //= prime\n",
    "                break\n",
    "                    \n",
    "    return prime_factor"
   ]
  },
  {
   "cell_type": "code",
   "execution_count": 16,
   "id": "0646ee91",
   "metadata": {
    "ExecuteTime": {
     "end_time": "2022-06-01T04:39:43.326817Z",
     "start_time": "2022-06-01T04:39:38.863703Z"
    }
   },
   "outputs": [
    {
     "name": "stdout",
     "output_type": "stream",
     "text": [
      "134043\n"
     ]
    }
   ],
   "source": [
    "n = 1\n",
    "cnt = 0\n",
    "while(1) :\n",
    "    if len(prime_factorization(n)) == 4 :\n",
    "        cnt += 1\n",
    "        n+=1\n",
    "        if cnt == 4 :\n",
    "            print(n-4)\n",
    "            break\n",
    "        continue\n",
    "    n+=1\n",
    "    cnt = 0"
   ]
  },
  {
   "cell_type": "code",
   "execution_count": 15,
   "id": "0d28ae5f",
   "metadata": {
    "ExecuteTime": {
     "end_time": "2022-06-01T04:39:13.740855Z",
     "start_time": "2022-06-01T04:39:13.735922Z"
    }
   },
   "outputs": [
    {
     "data": {
      "text/plain": [
       "{3: 1, 7: 1, 13: 1, 491: 1}"
      ]
     },
     "execution_count": 15,
     "metadata": {},
     "output_type": "execute_result"
    }
   ],
   "source": []
  }
 ],
 "metadata": {
  "kernelspec": {
   "display_name": "Python 3 (ipykernel)",
   "language": "python",
   "name": "python3"
  },
  "language_info": {
   "codemirror_mode": {
    "name": "ipython",
    "version": 3
   },
   "file_extension": ".py",
   "mimetype": "text/x-python",
   "name": "python",
   "nbconvert_exporter": "python",
   "pygments_lexer": "ipython3",
   "version": "3.9.12"
  }
 },
 "nbformat": 4,
 "nbformat_minor": 5
}
