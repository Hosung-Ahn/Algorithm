{
 "cells": [
  {
   "cell_type": "code",
   "execution_count": 7,
   "id": "ece9ab81",
   "metadata": {
    "ExecuteTime": {
     "end_time": "2022-05-26T01:58:53.703675Z",
     "start_time": "2022-05-26T01:58:53.697854Z"
    }
   },
   "outputs": [
    {
     "name": "stdout",
     "output_type": "stream",
     "text": [
      "669171001\n"
     ]
    }
   ],
   "source": [
    "Sum = 1\n",
    "N = 1\n",
    "for i in range(0,500) :\n",
    "    N += 6*i + 2*(i+1)\n",
    "#     print(N)\n",
    "    Sum += 2*(2*N + 6*(i+1))\n",
    "    \n",
    "print(Sum)"
   ]
  }
 ],
 "metadata": {
  "kernelspec": {
   "display_name": "Python 3 (ipykernel)",
   "language": "python",
   "name": "python3"
  },
  "language_info": {
   "codemirror_mode": {
    "name": "ipython",
    "version": 3
   },
   "file_extension": ".py",
   "mimetype": "text/x-python",
   "name": "python",
   "nbconvert_exporter": "python",
   "pygments_lexer": "ipython3",
   "version": "3.9.12"
  }
 },
 "nbformat": 4,
 "nbformat_minor": 5
}
