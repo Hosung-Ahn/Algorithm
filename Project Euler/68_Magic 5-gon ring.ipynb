{
 "cells": [
  {
   "cell_type": "code",
   "execution_count": 4,
   "metadata": {},
   "outputs": [
    {
     "name": "stdout",
     "output_type": "stream",
     "text": [
      "6531031914842725\n"
     ]
    }
   ],
   "source": [
    "def solve() :\n",
    "    used = [False for _ in range(11)]\n",
    "    arr = [0 for _ in range(10)]\n",
    "    ans = 0\n",
    "    check_sum = {4,6,8,9}\n",
    "    check_external = {3,5,7,9}\n",
    "\n",
    "    def cal_tmp() :\n",
    "        arr_concat = [arr[0], arr[1], arr[2], arr[3], arr[2], arr[4],\n",
    "                        arr[5], arr[4], arr[6], arr[7], arr[6], arr[8],\n",
    "                        arr[9], arr[8], arr[1]]\n",
    "        return ''.join(map(str, arr_concat))\n",
    "\n",
    "    def sub_sum(i) :\n",
    "        if i == 0 : return sum(arr[:3])\n",
    "        if i == 4 : return arr[2] + arr[3]\n",
    "        if i == 6 : return arr[4] + arr[5]\n",
    "        if i == 8 : return arr[6] + arr[7]\n",
    "        if i == 9 : return arr[1] + arr[8] \n",
    "\n",
    "    def f(i) :\n",
    "        nonlocal ans\n",
    "        if i == 10 :\n",
    "            tmp = cal_tmp()\n",
    "            if len(tmp) == 16 :\n",
    "                ans = max(ans, int(tmp))\n",
    "            return \n",
    "        \n",
    "        for n in range(1,11) :\n",
    "            if used[n] : continue\n",
    "            if i in check_sum and sub_sum(i) + n != sub_sum(0) : continue\n",
    "            if i in check_external and n < arr[0] : continue\n",
    "            \n",
    "            used[n] = True\n",
    "            arr[i] = n\n",
    "            f(i+1)\n",
    "            used[n] = False\n",
    "            arr[i] = 0\n",
    "    f(0)\n",
    "    print(ans)\n",
    "    \n",
    "solve()"
   ]
  }
 ],
 "metadata": {
  "kernelspec": {
   "display_name": "Python 3.10.2 64-bit",
   "language": "python",
   "name": "python3"
  },
  "language_info": {
   "codemirror_mode": {
    "name": "ipython",
    "version": 3
   },
   "file_extension": ".py",
   "mimetype": "text/x-python",
   "name": "python",
   "nbconvert_exporter": "python",
   "pygments_lexer": "ipython3",
   "version": "3.10.2"
  },
  "orig_nbformat": 4,
  "vscode": {
   "interpreter": {
    "hash": "369f2c481f4da34e4445cda3fffd2e751bd1c4d706f27375911949ba6bb62e1c"
   }
  }
 },
 "nbformat": 4,
 "nbformat_minor": 2
}
