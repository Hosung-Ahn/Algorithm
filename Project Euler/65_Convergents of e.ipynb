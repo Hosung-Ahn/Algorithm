{
 "cells": [
  {
   "cell_type": "code",
   "execution_count": 2,
   "metadata": {},
   "outputs": [
    {
     "name": "stdout",
     "output_type": "stream",
     "text": [
      "6963524437876961749120273824619538346438023188214475670667 2561737478789858711161539537921323010415623148113041714756\n"
     ]
    }
   ],
   "source": [
    "def cal(i) :\n",
    "    if i == 1 : return 2\n",
    "    if i % 3 == 2 or i % 3 == 1 : return 1\n",
    "    return 2 * (i//3)\n",
    "\n",
    "def f(a,b,i) :\n",
    "    if i == 1 :\n",
    "        print(a,b)\n",
    "        return (a,b)\n",
    "    return f(b+a*cal(i-1), a, i-1)\n",
    "    \n",
    "a = f(cal(100),1,100)"
   ]
  },
  {
   "cell_type": "code",
   "execution_count": 3,
   "metadata": {},
   "outputs": [
    {
     "name": "stdout",
     "output_type": "stream",
     "text": [
      "2 1\n",
      "3 1\n",
      "8 3\n",
      "11 4\n",
      "19 7\n",
      "87 32\n",
      "106 39\n",
      "193 71\n",
      "1264 465\n"
     ]
    }
   ],
   "source": [
    "for i in range(1,10) :\n",
    "    f(cal(i),1,i)"
   ]
  }
 ],
 "metadata": {
  "kernelspec": {
   "display_name": "Python 3.10.2 64-bit",
   "language": "python",
   "name": "python3"
  },
  "language_info": {
   "codemirror_mode": {
    "name": "ipython",
    "version": 3
   },
   "file_extension": ".py",
   "mimetype": "text/x-python",
   "name": "python",
   "nbconvert_exporter": "python",
   "pygments_lexer": "ipython3",
   "version": "3.10.2"
  },
  "orig_nbformat": 4,
  "vscode": {
   "interpreter": {
    "hash": "369f2c481f4da34e4445cda3fffd2e751bd1c4d706f27375911949ba6bb62e1c"
   }
  }
 },
 "nbformat": 4,
 "nbformat_minor": 2
}
