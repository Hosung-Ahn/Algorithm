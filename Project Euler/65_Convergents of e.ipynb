{
 "cells": [
  {
   "cell_type": "code",
   "execution_count": 33,
   "metadata": {},
   "outputs": [
    {
     "name": "stdout",
     "output_type": "stream",
     "text": [
      "6963524437876961749120273824619538346438023188214475670667 2561737478789858711161539537921323010415623148113041714756\n"
     ]
    }
   ],
   "source": [
    "def cal(i) :\n",
    "    if i == 1 : return 2\n",
    "    if i % 3 == 2 or i % 3 == 1 : return 1\n",
    "    return 2 * (i//3)\n",
    "\n",
    "def f(a,b,i) :\n",
    "    if i == 1 :\n",
    "        print(a,b)\n",
    "        return (a,b)\n",
    "    return f(b+a*cal(i-1), a, i-1)\n",
    "    \n",
    "a = f(cal(100),1,100)"
   ]
  },
  {
   "cell_type": "code",
   "execution_count": 36,
   "metadata": {},
   "outputs": [
    {
     "data": {
      "text/plain": [
       "272"
      ]
     },
     "execution_count": 36,
     "metadata": {},
     "output_type": "execute_result"
    }
   ],
   "source": [
    "ans = 0\n",
    "for x in str(a[0]) :\n",
    "    ans += int(x)\n",
    "    \n",
    "ans"
   ]
  }
 ],
 "metadata": {
  "kernelspec": {
   "display_name": "Python 3.10.2 64-bit",
   "language": "python",
   "name": "python3"
  },
  "language_info": {
   "codemirror_mode": {
    "name": "ipython",
    "version": 3
   },
   "file_extension": ".py",
   "mimetype": "text/x-python",
   "name": "python",
   "nbconvert_exporter": "python",
   "pygments_lexer": "ipython3",
   "version": "3.10.2"
  },
  "orig_nbformat": 4,
  "vscode": {
   "interpreter": {
    "hash": "369f2c481f4da34e4445cda3fffd2e751bd1c4d706f27375911949ba6bb62e1c"
   }
  }
 },
 "nbformat": 4,
 "nbformat_minor": 2
}
