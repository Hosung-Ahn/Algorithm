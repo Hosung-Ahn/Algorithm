{
 "cells": [
  {
   "cell_type": "code",
   "execution_count": 22,
   "metadata": {},
   "outputs": [],
   "source": [
    "from fractions import Fraction\n",
    "\n",
    "def gcd(a,b) :\n",
    "    c = a % b\n",
    "    while(c) :\n",
    "        a = b\n",
    "        b = c\n",
    "        c = a%b\n",
    "    return b\n",
    "\n",
    "def f(n) :\n",
    "    visited = dict()\n",
    "    ret = []\n",
    "    \n",
    "    a,b,c = (1,1,0)\n",
    "    \n",
    "    def h(a,b,c) : \n",
    "        if (a,b,c) in visited.keys() :\n",
    "            return\n",
    "        visited[(a,b,c)] = True\n",
    "        \n",
    "        k = (n**0.5 * b + c)//a\n",
    "        k = int(k)\n",
    "        ret.append(k)\n",
    "        c -= a*k\n",
    "        \n",
    "        na = n*b**2-c**2\n",
    "        nb = a*b\n",
    "        nc = -a*c\n",
    "        \n",
    "        ud = gcd(abs(nb), abs(nc))\n",
    "        d = gcd(abs(ud), abs(na))\n",
    "        na //= d\n",
    "        nb //= d\n",
    "        nc //= d\n",
    "        \n",
    "        h(na,nb,nc)\n",
    "    \n",
    "    h(a,b,c)        \n",
    "    return ret\n",
    "\n",
    "def cal(n,i) :\n",
    "    arr = f(n)\n",
    "    l = len(arr)-1\n",
    "    \n",
    "    def a(idx) :\n",
    "        if idx == 1 : return arr[0]\n",
    "        return arr[(idx-2)%l+1]\n",
    "    \n",
    "    def h(j) :\n",
    "        cur = Fraction(a(j),1)\n",
    "        if j == i : return cur\n",
    "        return cur + Fraction(1,h(j+1))\n",
    "    \n",
    "    return h(1)\n",
    "        \n"
   ]
  },
  {
   "cell_type": "code",
   "execution_count": 30,
   "metadata": {},
   "outputs": [
    {
     "name": "stdout",
     "output_type": "stream",
     "text": [
      "3 2\n",
      "9 5\n",
      "19 10\n",
      "649 13\n",
      "9801 29\n",
      "24335 46\n",
      "66249 53\n",
      "1766319049 61\n",
      "158070671986249 109\n",
      "2469645423824185801 181\n",
      "159150073798980475849 277\n",
      "838721786045180184649 397\n",
      "25052977273092427986049 409\n",
      "3879474045914926879468217167061449 421\n",
      "3707453360023867028800645599667005001 541\n",
      "16421658242965910275055840472270471049 661\n"
     ]
    },
    {
     "data": {
      "text/plain": [
       "661"
      ]
     },
     "execution_count": 30,
     "metadata": {},
     "output_type": "execute_result"
    }
   ],
   "source": [
    "max_x = 0\n",
    "ans = 0\n",
    "\n",
    "for D in range(1,1001) :\n",
    "    if D**0.5 == int(D**0.5) : continue\n",
    "    i = 1\n",
    "    while(1) :\n",
    "        z = cal(D,i)\n",
    "        x,y = z.numerator, z.denominator\n",
    "        if x**2 - D*y**2 == 1 :\n",
    "            if x > max_x :\n",
    "                print(x,D)\n",
    "                max_x = x\n",
    "                ans = D\n",
    "            break\n",
    "        i += 1\n",
    "ans"
   ]
  }
 ],
 "metadata": {
  "kernelspec": {
   "display_name": "Python 3.10.2 64-bit",
   "language": "python",
   "name": "python3"
  },
  "language_info": {
   "codemirror_mode": {
    "name": "ipython",
    "version": 3
   },
   "file_extension": ".py",
   "mimetype": "text/x-python",
   "name": "python",
   "nbconvert_exporter": "python",
   "pygments_lexer": "ipython3",
   "version": "3.10.2"
  },
  "orig_nbformat": 4,
  "vscode": {
   "interpreter": {
    "hash": "369f2c481f4da34e4445cda3fffd2e751bd1c4d706f27375911949ba6bb62e1c"
   }
  }
 },
 "nbformat": 4,
 "nbformat_minor": 2
}
