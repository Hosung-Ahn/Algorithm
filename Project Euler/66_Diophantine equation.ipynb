{
 "cells": [
  {
   "cell_type": "code",
   "execution_count": 15,
   "metadata": {},
   "outputs": [
    {
     "name": "stdout",
     "output_type": "stream",
     "text": [
      "2\n",
      "3\n",
      "5\n",
      "6\n",
      "7\n",
      "8\n",
      "10\n",
      "11\n",
      "12\n",
      "13\n",
      "14\n",
      "15\n",
      "17\n",
      "18\n",
      "19\n",
      "20\n",
      "21\n",
      "22\n",
      "23\n",
      "24\n",
      "26\n",
      "27\n",
      "28\n",
      "29\n",
      "30\n",
      "31\n",
      "32\n",
      "33\n",
      "34\n",
      "35\n",
      "37\n",
      "38\n",
      "39\n",
      "40\n",
      "41\n",
      "42\n",
      "43\n",
      "44\n",
      "45\n",
      "46\n",
      "47\n",
      "48\n",
      "50\n",
      "51\n",
      "52\n",
      "53\n",
      "54\n",
      "55\n",
      "56\n",
      "57\n",
      "58\n",
      "59\n",
      "60\n"
     ]
    },
    {
     "ename": "KeyboardInterrupt",
     "evalue": "",
     "output_type": "error",
     "traceback": [
      "\u001b[1;31m---------------------------------------------------------------------------\u001b[0m",
      "\u001b[1;31mKeyboardInterrupt\u001b[0m                         Traceback (most recent call last)",
      "\u001b[1;32mc:\\WorkSpace\\Algorithm\\Project Euler\\66_Diophantine equation.ipynb 셀 1\u001b[0m in \u001b[0;36m<module>\u001b[1;34m\u001b[0m\n\u001b[0;32m     <a href='vscode-notebook-cell:/c%3A/WorkSpace/Algorithm/Project%20Euler/66_Diophantine%20equation.ipynb#ch0000000?line=14'>15</a>\u001b[0m \u001b[39mfor\u001b[39;00m d \u001b[39min\u001b[39;00m \u001b[39mrange\u001b[39m(\u001b[39m1\u001b[39m,\u001b[39m1001\u001b[39m) :\n\u001b[0;32m     <a href='vscode-notebook-cell:/c%3A/WorkSpace/Algorithm/Project%20Euler/66_Diophantine%20equation.ipynb#ch0000000?line=15'>16</a>\u001b[0m     \u001b[39mif\u001b[39;00m d\u001b[39m*\u001b[39m\u001b[39m*\u001b[39m\u001b[39m0.5\u001b[39m \u001b[39m==\u001b[39m \u001b[39mint\u001b[39m(d\u001b[39m*\u001b[39m\u001b[39m*\u001b[39m\u001b[39m0.5\u001b[39m) : \u001b[39mcontinue\u001b[39;00m \n\u001b[1;32m---> <a href='vscode-notebook-cell:/c%3A/WorkSpace/Algorithm/Project%20Euler/66_Diophantine%20equation.ipynb#ch0000000?line=16'>17</a>\u001b[0m     ans \u001b[39m=\u001b[39m \u001b[39mmax\u001b[39m(ans, f(d))\n\u001b[0;32m     <a href='vscode-notebook-cell:/c%3A/WorkSpace/Algorithm/Project%20Euler/66_Diophantine%20equation.ipynb#ch0000000?line=17'>18</a>\u001b[0m     \u001b[39mprint\u001b[39m(d)\n\u001b[0;32m     <a href='vscode-notebook-cell:/c%3A/WorkSpace/Algorithm/Project%20Euler/66_Diophantine%20equation.ipynb#ch0000000?line=19'>20</a>\u001b[0m ans\n",
      "\u001b[1;32mc:\\WorkSpace\\Algorithm\\Project Euler\\66_Diophantine equation.ipynb 셀 1\u001b[0m in \u001b[0;36mf\u001b[1;34m(D)\u001b[0m\n\u001b[0;32m      <a href='vscode-notebook-cell:/c%3A/WorkSpace/Algorithm/Project%20Euler/66_Diophantine%20equation.ipynb#ch0000000?line=4'>5</a>\u001b[0m \u001b[39mif\u001b[39;00m k \u001b[39m%\u001b[39m D \u001b[39m!=\u001b[39m \u001b[39m0\u001b[39m :\n\u001b[0;32m      <a href='vscode-notebook-cell:/c%3A/WorkSpace/Algorithm/Project%20Euler/66_Diophantine%20equation.ipynb#ch0000000?line=5'>6</a>\u001b[0m     x \u001b[39m+\u001b[39m\u001b[39m=\u001b[39m \u001b[39m1\u001b[39m\n\u001b[1;32m----> <a href='vscode-notebook-cell:/c%3A/WorkSpace/Algorithm/Project%20Euler/66_Diophantine%20equation.ipynb#ch0000000?line=6'>7</a>\u001b[0m     \u001b[39mcontinue\u001b[39;00m\n\u001b[0;32m      <a href='vscode-notebook-cell:/c%3A/WorkSpace/Algorithm/Project%20Euler/66_Diophantine%20equation.ipynb#ch0000000?line=7'>8</a>\u001b[0m k \u001b[39m/\u001b[39m\u001b[39m/\u001b[39m\u001b[39m=\u001b[39m D\n\u001b[0;32m      <a href='vscode-notebook-cell:/c%3A/WorkSpace/Algorithm/Project%20Euler/66_Diophantine%20equation.ipynb#ch0000000?line=8'>9</a>\u001b[0m \u001b[39mif\u001b[39;00m k\u001b[39m*\u001b[39m\u001b[39m*\u001b[39m\u001b[39m0.5\u001b[39m \u001b[39m==\u001b[39m \u001b[39mint\u001b[39m(k\u001b[39m*\u001b[39m\u001b[39m*\u001b[39m\u001b[39m0.5\u001b[39m) :\n",
      "\u001b[1;31mKeyboardInterrupt\u001b[0m: "
     ]
    }
   ],
   "source": [
    "def f(D) :\n",
    "    x = 2\n",
    "    while(1) :\n",
    "        k = (x**2 - 1) \n",
    "        if k % D != 0 :\n",
    "            x += 1\n",
    "            continue\n",
    "        k //= D\n",
    "        if k**0.5 == int(k**0.5) :\n",
    "            return x\n",
    "        x += 1\n",
    "    \n",
    "    \n",
    "ans = 0    \n",
    "for d in range(1,1001) :\n",
    "    if d**0.5 == int(d**0.5) : continue \n",
    "    ans = max(ans, f(d))\n",
    "    \n",
    "ans\n",
    "    "
   ]
  },
  {
   "cell_type": "code",
   "execution_count": null,
   "metadata": {},
   "outputs": [],
   "source": []
  },
  {
   "cell_type": "code",
   "execution_count": null,
   "metadata": {},
   "outputs": [],
   "source": []
  },
  {
   "cell_type": "code",
   "execution_count": null,
   "metadata": {},
   "outputs": [],
   "source": []
  }
 ],
 "metadata": {
  "kernelspec": {
   "display_name": "Python 3.10.2 64-bit",
   "language": "python",
   "name": "python3"
  },
  "language_info": {
   "codemirror_mode": {
    "name": "ipython",
    "version": 3
   },
   "file_extension": ".py",
   "mimetype": "text/x-python",
   "name": "python",
   "nbconvert_exporter": "python",
   "pygments_lexer": "ipython3",
   "version": "3.10.2"
  },
  "orig_nbformat": 4,
  "vscode": {
   "interpreter": {
    "hash": "369f2c481f4da34e4445cda3fffd2e751bd1c4d706f27375911949ba6bb62e1c"
   }
  }
 },
 "nbformat": 4,
 "nbformat_minor": 2
}
