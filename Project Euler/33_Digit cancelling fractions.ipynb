{
 "cells": [
  {
   "cell_type": "code",
   "execution_count": 27,
   "id": "5f9845a1",
   "metadata": {
    "ExecuteTime": {
     "end_time": "2022-05-28T07:15:09.588437Z",
     "start_time": "2022-05-28T07:15:09.558142Z"
    }
   },
   "outputs": [
    {
     "data": {
      "text/plain": [
       "[[64, 16, 0.25, 0.25],\n",
       " [65, 26, 0.4, 0.4],\n",
       " [95, 19, 0.2, 0.2],\n",
       " [98, 49, 0.5, 0.5]]"
      ]
     },
     "execution_count": 27,
     "metadata": {},
     "output_type": "execute_result"
    }
   ],
   "source": [
    "lst = []\n",
    "for a in range(10,100) :\n",
    "    for b in range(10,a) :\n",
    "        c = b/a\n",
    "        for n in range(1,10) :\n",
    "            try : \n",
    "                if a//10 == n and b//10 == n :\n",
    "                    d = (b%10) / (a%10) \n",
    "                    if (c == d) : lst.append([a,b,c,d])\n",
    "                elif a//10 == n and b%10 == n :\n",
    "                    d = (b//10) / (a%10)\n",
    "                    if (c == d) : lst.append([a,b,c,d])\n",
    "                elif a%10 == n and b//10 == n :\n",
    "                    d = (b%10) / (a//10)\n",
    "                    if (c == d) : lst.append([a,b,c,d])\n",
    "                elif a%10 == n and b%10 == n :\n",
    "                    d = (b//10) / (a//10)\n",
    "                    if (c == d) : lst.append([a,b,c,d])\n",
    "            except :\n",
    "                pass\n",
    "\n",
    "    "
   ]
  },
  {
   "cell_type": "code",
   "execution_count": 32,
   "id": "22ca0a71",
   "metadata": {
    "ExecuteTime": {
     "end_time": "2022-05-28T07:18:06.396642Z",
     "start_time": "2022-05-28T07:18:06.392530Z"
    }
   },
   "outputs": [
    {
     "name": "stdout",
     "output_type": "stream",
     "text": [
      "38729600 387296\n"
     ]
    }
   ],
   "source": [
    "a = 1\n",
    "b = 1\n",
    "for n in lst :\n",
    "    a *= n[0]\n",
    "    b *= n[1]\n",
    "print(a,b)"
   ]
  },
  {
   "cell_type": "code",
   "execution_count": 31,
   "id": "fde6f72a",
   "metadata": {
    "ExecuteTime": {
     "end_time": "2022-05-28T07:17:59.599774Z",
     "start_time": "2022-05-28T07:17:59.595545Z"
    }
   },
   "outputs": [
    {
     "name": "stdout",
     "output_type": "stream",
     "text": [
      "100 1\n"
     ]
    }
   ],
   "source": [
    "def gcd(a, b) :\n",
    "    c = a % b\n",
    "    while(c) :\n",
    "        a = b\n",
    "        b = c \n",
    "        c = a % b\n",
    "    return b\n",
    "\n",
    "d = gcd(a,b)\n",
    "\n",
    "a //= d\n",
    "b //= d \n",
    "\n",
    "print(a,b)"
   ]
  }
 ],
 "metadata": {
  "kernelspec": {
   "display_name": "Python 3 (ipykernel)",
   "language": "python",
   "name": "python3"
  },
  "language_info": {
   "codemirror_mode": {
    "name": "ipython",
    "version": 3
   },
   "file_extension": ".py",
   "mimetype": "text/x-python",
   "name": "python",
   "nbconvert_exporter": "python",
   "pygments_lexer": "ipython3",
   "version": "3.9.12"
  }
 },
 "nbformat": 4,
 "nbformat_minor": 5
}
