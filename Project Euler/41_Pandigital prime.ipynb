{
 "cells": [
  {
   "cell_type": "code",
   "execution_count": 33,
   "id": "1a82cc97",
   "metadata": {
    "ExecuteTime": {
     "end_time": "2022-05-30T10:42:34.388686Z",
     "start_time": "2022-05-30T10:42:34.379541Z"
    }
   },
   "outputs": [
    {
     "name": "stdout",
     "output_type": "stream",
     "text": [
      "7652413\n"
     ]
    }
   ],
   "source": [
    "import itertools\n",
    "import math\n",
    "lst = ['1','2','3','4','5','6','7'][::-1]\n",
    "pandigital = list(itertools.permutations(lst, len(lst)))\n",
    "\n",
    "def is_prime(n) :\n",
    "    for d in range(2,math.ceil(n**0.5)+1) :\n",
    "        if n % d == 0 : return False\n",
    "    return True\n",
    "\n",
    "for l in pandigital :\n",
    "    n = int(''.join(l))\n",
    "    if is_prime(n) :\n",
    "        print(n)\n",
    "        break"
   ]
  },
  {
   "cell_type": "code",
   "execution_count": 28,
   "id": "6f8b2530",
   "metadata": {
    "ExecuteTime": {
     "end_time": "2022-05-30T10:41:52.344587Z",
     "start_time": "2022-05-30T10:41:52.339428Z"
    }
   },
   "outputs": [
    {
     "data": {
      "text/plain": [
       "[]"
      ]
     },
     "execution_count": 28,
     "metadata": {},
     "output_type": "execute_result"
    }
   ],
   "source": []
  }
 ],
 "metadata": {
  "kernelspec": {
   "display_name": "Python 3 (ipykernel)",
   "language": "python",
   "name": "python3"
  },
  "language_info": {
   "codemirror_mode": {
    "name": "ipython",
    "version": 3
   },
   "file_extension": ".py",
   "mimetype": "text/x-python",
   "name": "python",
   "nbconvert_exporter": "python",
   "pygments_lexer": "ipython3",
   "version": "3.9.12"
  }
 },
 "nbformat": 4,
 "nbformat_minor": 5
}
