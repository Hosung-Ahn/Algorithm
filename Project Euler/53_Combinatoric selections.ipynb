{
 "cells": [
  {
   "cell_type": "code",
   "execution_count": 22,
   "id": "e1c63318",
   "metadata": {
    "ExecuteTime": {
     "end_time": "2022-06-10T07:25:13.029851Z",
     "start_time": "2022-06-10T07:25:13.023062Z"
    }
   },
   "outputs": [],
   "source": [
    "dp = [[0 for _ in range(101)] for _ in range(101)]\n",
    "def find_dp(n,r) :\n",
    "    if n < r : return 0\n",
    "    if r == 1 : return n\n",
    "    ret = dp[n][r]\n",
    "    if ret != 0 : return ret\n",
    "    \n",
    "    left = find_dp(n-1, r-1)\n",
    "    right = find_dp(n-1,r)\n",
    "    \n",
    "    if left == -1 or right == -1 : \n",
    "        dp[n][r] = -1\n",
    "        return -1 \n",
    "    \n",
    "    ret = left + right\n",
    "    if ret > 1_000_000 : \n",
    "        dp[n][r] = -1\n",
    "        return -1\n",
    "    dp[n][r] = ret\n",
    "    return ret\n",
    "    "
   ]
  },
  {
   "cell_type": "code",
   "execution_count": 29,
   "id": "05ec0d0c",
   "metadata": {
    "ExecuteTime": {
     "end_time": "2022-06-10T07:28:09.413926Z",
     "start_time": "2022-06-10T07:28:09.401550Z"
    }
   },
   "outputs": [
    {
     "name": "stdout",
     "output_type": "stream",
     "text": [
      "4075\n"
     ]
    }
   ],
   "source": [
    "cnt = 0\n",
    "for n in range(1,101) :\n",
    "    for r in range(1,n) :\n",
    "        x = find_dp(n,r)\n",
    "        if x == -1 : \n",
    "            cnt+=1\n",
    "            \n",
    "print(cnt)"
   ]
  },
  {
   "cell_type": "code",
   "execution_count": null,
   "id": "c60aabc9",
   "metadata": {},
   "outputs": [],
   "source": []
  }
 ],
 "metadata": {
  "kernelspec": {
   "display_name": "Python 3 (ipykernel)",
   "language": "python",
   "name": "python3"
  },
  "language_info": {
   "codemirror_mode": {
    "name": "ipython",
    "version": 3
   },
   "file_extension": ".py",
   "mimetype": "text/x-python",
   "name": "python",
   "nbconvert_exporter": "python",
   "pygments_lexer": "ipython3",
   "version": "3.9.12"
  }
 },
 "nbformat": 4,
 "nbformat_minor": 5
}
