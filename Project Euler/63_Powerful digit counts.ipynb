{
 "cells": [
  {
   "cell_type": "code",
   "execution_count": 10,
   "metadata": {},
   "outputs": [
    {
     "name": "stdout",
     "output_type": "stream",
     "text": [
      "1 1 1\n",
      "2 1 2\n",
      "3 1 3\n",
      "4 1 4\n",
      "4 2 16\n",
      "5 1 5\n",
      "5 2 25\n",
      "5 3 125\n",
      "6 1 6\n",
      "6 2 36\n",
      "6 3 216\n",
      "6 4 1296\n",
      "7 1 7\n",
      "7 2 49\n",
      "7 3 343\n",
      "7 4 2401\n",
      "7 5 16807\n",
      "7 6 117649\n",
      "8 1 8\n",
      "8 2 64\n",
      "8 3 512\n",
      "8 4 4096\n",
      "8 5 32768\n",
      "8 6 262144\n",
      "8 7 2097152\n",
      "8 8 16777216\n",
      "8 9 134217728\n",
      "8 10 1073741824\n",
      "9 1 9\n",
      "9 2 81\n",
      "9 3 729\n",
      "9 4 6561\n",
      "9 5 59049\n",
      "9 6 531441\n",
      "9 7 4782969\n",
      "9 8 43046721\n",
      "9 9 387420489\n",
      "9 10 3486784401\n",
      "9 11 31381059609\n",
      "9 12 282429536481\n",
      "9 13 2541865828329\n",
      "9 14 22876792454961\n",
      "9 15 205891132094649\n",
      "9 16 1853020188851841\n",
      "9 17 16677181699666569\n",
      "9 18 150094635296999121\n",
      "9 19 1350851717672992089\n",
      "9 20 12157665459056928801\n",
      "9 21 109418989131512359209\n"
     ]
    },
    {
     "data": {
      "text/plain": [
       "49"
      ]
     },
     "execution_count": 10,
     "metadata": {},
     "output_type": "execute_result"
    }
   ],
   "source": [
    "ans = 0\n",
    "for n in range(1,10) :\n",
    "    for i in range(100) :\n",
    "        c = n**i\n",
    "        if len(str(c)) == i :\n",
    "            ans += 1\n",
    "            print(n,i,c)\n",
    "ans"
   ]
  }
 ],
 "metadata": {
  "kernelspec": {
   "display_name": "Python 3.10.2 64-bit",
   "language": "python",
   "name": "python3"
  },
  "language_info": {
   "codemirror_mode": {
    "name": "ipython",
    "version": 3
   },
   "file_extension": ".py",
   "mimetype": "text/x-python",
   "name": "python",
   "nbconvert_exporter": "python",
   "pygments_lexer": "ipython3",
   "version": "3.10.2"
  },
  "orig_nbformat": 4,
  "vscode": {
   "interpreter": {
    "hash": "369f2c481f4da34e4445cda3fffd2e751bd1c4d706f27375911949ba6bb62e1c"
   }
  }
 },
 "nbformat": 4,
 "nbformat_minor": 2
}
