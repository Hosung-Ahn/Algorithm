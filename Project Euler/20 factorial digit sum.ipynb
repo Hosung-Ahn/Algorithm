{
 "cells": [
  {
   "cell_type": "code",
   "execution_count": 4,
   "id": "4e3ed814",
   "metadata": {
    "ExecuteTime": {
     "end_time": "2021-12-15T05:29:55.338158Z",
     "start_time": "2021-12-15T05:29:55.326117Z"
    }
   },
   "outputs": [
    {
     "data": {
      "text/plain": [
       "648"
      ]
     },
     "execution_count": 4,
     "metadata": {},
     "output_type": "execute_result"
    }
   ],
   "source": [
    "def fac(n) :\n",
    "    if n == 1 :\n",
    "        return 1\n",
    "    return n*fac(n-1)\n",
    "fac(100)\n",
    "\n",
    "s = str(fac(100))\n",
    "\n",
    "result = 0 \n",
    "for x in s : \n",
    "    result += int(x)\n",
    "    \n",
    "result"
   ]
  }
 ],
 "metadata": {
  "kernelspec": {
   "display_name": "Python 3 (ipykernel)",
   "language": "python",
   "name": "python3"
  },
  "language_info": {
   "codemirror_mode": {
    "name": "ipython",
    "version": 3
   },
   "file_extension": ".py",
   "mimetype": "text/x-python",
   "name": "python",
   "nbconvert_exporter": "python",
   "pygments_lexer": "ipython3",
   "version": "3.9.7"
  }
 },
 "nbformat": 4,
 "nbformat_minor": 5
}
