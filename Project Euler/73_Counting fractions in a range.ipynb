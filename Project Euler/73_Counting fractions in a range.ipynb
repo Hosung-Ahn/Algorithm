{
 "cells": [
  {
   "cell_type": "code",
   "execution_count": 35,
   "metadata": {},
   "outputs": [
    {
     "data": {
      "text/plain": [
       "7295372"
      ]
     },
     "execution_count": 35,
     "metadata": {},
     "output_type": "execute_result"
    }
   ],
   "source": [
    "def bs_up(d) :\n",
    "    lo = 1\n",
    "    hi = d\n",
    "    \n",
    "    while(lo < hi) :\n",
    "        mid = (lo+hi)//2\n",
    "        if mid/d > (1/3) :\n",
    "            hi = mid\n",
    "        else : lo = mid + 1\n",
    "        \n",
    "    return lo\n",
    "\n",
    "def bs_down(d) :\n",
    "    lo = 1\n",
    "    hi = d\n",
    "    \n",
    "    while(lo < hi) :\n",
    "        mid = (lo+hi)//2+1\n",
    "        if mid/d >= (1/2) :\n",
    "            hi = mid-1\n",
    "        else : lo = mid\n",
    "        \n",
    "    return lo\n",
    "\n",
    "def gcd(a,b) : \n",
    "    c = a % b\n",
    "    while c :\n",
    "        a = b\n",
    "        b = c\n",
    "        c = a % b\n",
    "    return b\n",
    "\n",
    "ans = 0\n",
    "for d in range(5,12_001) :\n",
    "    lo = bs_up(d)\n",
    "    hi = bs_down(d)\n",
    "    \n",
    "    for n in range(lo, hi+1) :\n",
    "        if gcd(d,n) == 1 : ans += 1\n",
    "\n",
    "ans"
   ]
  }
 ],
 "metadata": {
  "kernelspec": {
   "display_name": "Python 3.10.2 64-bit",
   "language": "python",
   "name": "python3"
  },
  "language_info": {
   "codemirror_mode": {
    "name": "ipython",
    "version": 3
   },
   "file_extension": ".py",
   "mimetype": "text/x-python",
   "name": "python",
   "nbconvert_exporter": "python",
   "pygments_lexer": "ipython3",
   "version": "3.10.2"
  },
  "orig_nbformat": 4,
  "vscode": {
   "interpreter": {
    "hash": "369f2c481f4da34e4445cda3fffd2e751bd1c4d706f27375911949ba6bb62e1c"
   }
  }
 },
 "nbformat": 4,
 "nbformat_minor": 2
}
