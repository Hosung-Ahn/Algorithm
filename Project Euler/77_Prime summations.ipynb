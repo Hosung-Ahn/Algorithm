{
 "cells": [
  {
   "cell_type": "code",
   "execution_count": 22,
   "metadata": {},
   "outputs": [],
   "source": [
    "MAX = 100\n",
    "Prime = [True] * MAX\n",
    "check = int(MAX**0.5)\n",
    "Prime[0] = False \n",
    "Prime[1] = False\n",
    "\n",
    "for i in range(2,check+1) :\n",
    "    if Prime[i] : \n",
    "        for j in range(i*2, MAX, i) :\n",
    "            Prime[j] = False\n",
    "            \n",
    "prime_lst = [ ]\n",
    "for n in range(MAX) :\n",
    "    if Prime[n] :\n",
    "        prime_lst.append(n)"
   ]
  },
  {
   "cell_type": "code",
   "execution_count": 23,
   "metadata": {},
   "outputs": [
    {
     "data": {
      "text/plain": [
       "71"
      ]
     },
     "execution_count": 23,
     "metadata": {},
     "output_type": "execute_result"
    }
   ],
   "source": [
    "from collections import defaultdict\n",
    "\n",
    "dp = defaultdict(int)\n",
    "ans = 987654321\n",
    "\n",
    "def f(n,idx) :\n",
    "    global ans\n",
    "    if n == 0 : return 1\n",
    "    if n < 0 : return 0\n",
    "    if dp[n, idx] != 0 : return dp[n, idx]\n",
    "    \n",
    "    # for i, np in enumerate(prime_lst[idx:]) :\n",
    "    for nidx in range(idx, len(prime_lst)) :\n",
    "        np = prime_lst[nidx]\n",
    "        if np > n : break\n",
    "        dp[n,idx] += f(n-np, nidx)\n",
    "    if dp[n,idx]-1 > 5000 :\n",
    "        ans = min(ans, n)\n",
    "    return dp[n,idx]\n",
    "\n",
    "# 가장 작은 소수는 2이므로 2씩 작아지면서 탐색한다.\n",
    "f(100, 0)\n",
    "f(99,0)\n",
    "ans "
   ]
  },
  {
   "cell_type": "code",
   "execution_count": 7,
   "metadata": {},
   "outputs": [
    {
     "data": {
      "text/plain": [
       "1"
      ]
     },
     "execution_count": 7,
     "metadata": {},
     "output_type": "execute_result"
    }
   ],
   "source": []
  }
 ],
 "metadata": {
  "kernelspec": {
   "display_name": "Python 3.10.2 64-bit",
   "language": "python",
   "name": "python3"
  },
  "language_info": {
   "codemirror_mode": {
    "name": "ipython",
    "version": 3
   },
   "file_extension": ".py",
   "mimetype": "text/x-python",
   "name": "python",
   "nbconvert_exporter": "python",
   "pygments_lexer": "ipython3",
   "version": "3.10.2"
  },
  "orig_nbformat": 4,
  "vscode": {
   "interpreter": {
    "hash": "369f2c481f4da34e4445cda3fffd2e751bd1c4d706f27375911949ba6bb62e1c"
   }
  }
 },
 "nbformat": 4,
 "nbformat_minor": 2
}
