{
 "cells": [
  {
   "cell_type": "code",
   "execution_count": 23,
   "id": "2c4043a0",
   "metadata": {
    "ExecuteTime": {
     "end_time": "2022-05-31T03:23:28.119710Z",
     "start_time": "2022-05-31T03:23:28.077538Z"
    }
   },
   "outputs": [
    {
     "name": "stdout",
     "output_type": "stream",
     "text": [
      "1533776805\n"
     ]
    }
   ],
   "source": [
    "def is_triangle(n) :\n",
    "    x = ((1+8*n)**0.5 -1)/2\n",
    "    return x == int(x)\n",
    "\n",
    "def is_pentagon(n) :\n",
    "    x = ((24*n+1)**0.5 + 1)/6\n",
    "    return x == int(x)\n",
    "\n",
    "def is_hexagonal(n) :\n",
    "    x = ((1+8*n)**0.5 +1)/4\n",
    "    return x == int(x)\n",
    "    \n",
    "i = 144\n",
    "n = i*(2*i-1)\n",
    "\n",
    "\n",
    "while(not is_triangle(n) or not is_pentagon(n) or not is_hexagonal(n)) :\n",
    "    i += 1\n",
    "    n = i*(2*i-1)\n",
    "\n",
    "    \n",
    "print(n)"
   ]
  },
  {
   "cell_type": "code",
   "execution_count": 21,
   "id": "2840312b",
   "metadata": {
    "ExecuteTime": {
     "end_time": "2022-05-31T03:22:27.853721Z",
     "start_time": "2022-05-31T03:22:27.848523Z"
    }
   },
   "outputs": [
    {
     "data": {
      "text/plain": [
       "143.0"
      ]
     },
     "execution_count": 21,
     "metadata": {},
     "output_type": "execute_result"
    }
   ],
   "source": []
  }
 ],
 "metadata": {
  "kernelspec": {
   "display_name": "Python 3 (ipykernel)",
   "language": "python",
   "name": "python3"
  },
  "language_info": {
   "codemirror_mode": {
    "name": "ipython",
    "version": 3
   },
   "file_extension": ".py",
   "mimetype": "text/x-python",
   "name": "python",
   "nbconvert_exporter": "python",
   "pygments_lexer": "ipython3",
   "version": "3.9.12"
  }
 },
 "nbformat": 4,
 "nbformat_minor": 5
}
