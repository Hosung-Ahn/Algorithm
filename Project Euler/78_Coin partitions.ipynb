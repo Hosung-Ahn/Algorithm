{
 "cells": [
  {
   "cell_type": "code",
   "execution_count": 2,
   "metadata": {},
   "outputs": [],
   "source": [
    "from collections import defaultdict\n",
    "\n",
    "dp = defaultdict(int)\n",
    "\n",
    "def f(n,k) :\n",
    "    if n == 0 : return 1\n",
    "    if n < 0 : return 0\n",
    "    if dp[n,k] != 0 :\n",
    "        return dp[n,k]\n",
    "    \n",
    "    for nk in range(k, n+1) :\n",
    "        if n < nk : break\n",
    "        dp[n,k] += f(n-nk, nk)\n",
    "        dp[n,k] %= 1_000_000\n",
    "    return dp[n,k]\n",
    "\n",
    "\n",
    "# n = 1\n",
    "\n",
    "# while True :\n",
    "#     N = f(n,1)\n",
    "#     if N % 1_000_000 == 0 :\n",
    "#         print(n)\n",
    "#         break\n",
    "#     n+=1\n",
    "    \n",
    "#     if n % 100 == 0 :\n",
    "#         print(n)"
   ]
  }
 ],
 "metadata": {
  "kernelspec": {
   "display_name": "Python 3.10.2 64-bit",
   "language": "python",
   "name": "python3"
  },
  "language_info": {
   "codemirror_mode": {
    "name": "ipython",
    "version": 3
   },
   "file_extension": ".py",
   "mimetype": "text/x-python",
   "name": "python",
   "nbconvert_exporter": "python",
   "pygments_lexer": "ipython3",
   "version": "3.10.2"
  },
  "orig_nbformat": 4,
  "vscode": {
   "interpreter": {
    "hash": "369f2c481f4da34e4445cda3fffd2e751bd1c4d706f27375911949ba6bb62e1c"
   }
  }
 },
 "nbformat": 4,
 "nbformat_minor": 2
}
