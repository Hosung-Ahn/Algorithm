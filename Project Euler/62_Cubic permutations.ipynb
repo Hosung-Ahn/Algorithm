{
 "cells": [
  {
   "cell_type": "code",
   "execution_count": 14,
   "metadata": {},
   "outputs": [
    {
     "name": "stdout",
     "output_type": "stream",
     "text": [
      "127035954683\n"
     ]
    }
   ],
   "source": [
    "from collections import defaultdict\n",
    "\n",
    "cnt = defaultdict(int)\n",
    "min_num = dict()\n",
    "\n",
    "def cal_key(n) :\n",
    "    ret = 0\n",
    "    for d in str(n) :\n",
    "        ret += 10**int(d)\n",
    "    return ret\n",
    "\n",
    "for n in range(1,10000) :\n",
    "    key = cal_key(n**3)\n",
    "    cnt[key] += 1\n",
    "    \n",
    "    if key not in min_num:\n",
    "        min_num[key] = n**3\n",
    "    else :\n",
    "        min_num[key] = min(min_num[key], n**3)\n",
    "        \n",
    "    if cnt[key] == 5 :\n",
    "        print(min_num[key])\n",
    "        break\n"
   ]
  },
  {
   "cell_type": "code",
   "execution_count": 11,
   "metadata": {},
   "outputs": [
    {
     "data": {
      "text/plain": [
       "defaultdict(int, {})"
      ]
     },
     "execution_count": 11,
     "metadata": {},
     "output_type": "execute_result"
    }
   ],
   "source": []
  }
 ],
 "metadata": {
  "kernelspec": {
   "display_name": "Python 3.10.2 64-bit",
   "language": "python",
   "name": "python3"
  },
  "language_info": {
   "codemirror_mode": {
    "name": "ipython",
    "version": 3
   },
   "file_extension": ".py",
   "mimetype": "text/x-python",
   "name": "python",
   "nbconvert_exporter": "python",
   "pygments_lexer": "ipython3",
   "version": "3.10.2"
  },
  "orig_nbformat": 4,
  "vscode": {
   "interpreter": {
    "hash": "369f2c481f4da34e4445cda3fffd2e751bd1c4d706f27375911949ba6bb62e1c"
   }
  }
 },
 "nbformat": 4,
 "nbformat_minor": 2
}
