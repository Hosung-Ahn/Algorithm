{
 "cells": [
  {
   "cell_type": "code",
   "execution_count": 2,
   "metadata": {
    "ExecuteTime": {
     "end_time": "2021-11-27T02:47:14.125549Z",
     "start_time": "2021-11-27T02:47:14.116550Z"
    }
   },
   "outputs": [],
   "source": [
    "def find_prime_lst(n) : # n이하의 소수를 모두 찾아준다.\n",
    "    lst = [True] * (n+1)\n",
    "    sqrt_n = int(n**0.5)\n",
    "\n",
    "    for i in range(2, sqrt_n + 1) :\n",
    "        if (lst[i]) :\n",
    "            for j in range(2*i, n+1, i) :\n",
    "                lst[j] = False\n",
    "    prime_lst = []\n",
    "    for n in range(2, n+1) :\n",
    "        if (lst[n]) : \n",
    "            prime_lst.append(n)\n",
    "\n",
    "    return prime_lst"
   ]
  },
  {
   "cell_type": "code",
   "execution_count": 4,
   "metadata": {
    "ExecuteTime": {
     "end_time": "2021-11-27T02:47:49.012037Z",
     "start_time": "2021-11-27T02:47:48.828075Z"
    }
   },
   "outputs": [
    {
     "data": {
      "text/plain": [
       "104743"
      ]
     },
     "execution_count": 4,
     "metadata": {},
     "output_type": "execute_result"
    }
   ],
   "source": [
    "prime = find_prime_lst(1_000_000)\n",
    "prime[10000]"
   ]
  }
 ],
 "metadata": {
  "kernelspec": {
   "display_name": "Python 3",
   "language": "python",
   "name": "python3"
  },
  "language_info": {
   "codemirror_mode": {
    "name": "ipython",
    "version": 3
   },
   "file_extension": ".py",
   "mimetype": "text/x-python",
   "name": "python",
   "nbconvert_exporter": "python",
   "pygments_lexer": "ipython3",
   "version": "3.8.5"
  }
 },
 "nbformat": 4,
 "nbformat_minor": 4
}
