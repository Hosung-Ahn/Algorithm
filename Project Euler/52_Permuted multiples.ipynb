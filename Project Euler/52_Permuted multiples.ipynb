{
 "cells": [
  {
   "cell_type": "code",
   "execution_count": 1,
   "id": "3a3c4b5f",
   "metadata": {
    "ExecuteTime": {
     "end_time": "2022-06-08T10:32:54.865406Z",
     "start_time": "2022-06-08T10:32:54.854452Z"
    }
   },
   "outputs": [],
   "source": [
    "def is_same_digit(n) :\n",
    "    cnt = [0] * 10\n",
    "    for i in str(n) :\n",
    "        cnt[int(i)] += 1\n",
    "    \n",
    "    for i in range(2,7) :\n",
    "        cn = n*i\n",
    "        cmp = [0] * 10\n",
    "        for j in str(cn) :\n",
    "            cmp[int(j)] += 1\n",
    "        for j in range(10) :\n",
    "            if cnt[j] != cmp[j] : return False\n",
    "    return True"
   ]
  },
  {
   "cell_type": "code",
   "execution_count": 3,
   "id": "5e0f4ec5",
   "metadata": {
    "ExecuteTime": {
     "end_time": "2022-06-08T10:33:46.373852Z",
     "start_time": "2022-06-08T10:33:46.241563Z"
    }
   },
   "outputs": [
    {
     "name": "stdout",
     "output_type": "stream",
     "text": [
      "42857\n"
     ]
    }
   ],
   "source": [
    "n = 1\n",
    "while(1) :\n",
    "    if is_same_digit(int('1'+str(n))) :\n",
    "        print(n)\n",
    "        break\n",
    "    n += 1"
   ]
  },
  {
   "cell_type": "code",
   "execution_count": null,
   "id": "a4deccf9",
   "metadata": {},
   "outputs": [],
   "source": []
  }
 ],
 "metadata": {
  "kernelspec": {
   "display_name": "Python 3.10.2 64-bit",
   "language": "python",
   "name": "python3"
  },
  "language_info": {
   "codemirror_mode": {
    "name": "ipython",
    "version": 3
   },
   "file_extension": ".py",
   "mimetype": "text/x-python",
   "name": "python",
   "nbconvert_exporter": "python",
   "pygments_lexer": "ipython3",
   "version": "3.10.2"
  },
  "vscode": {
   "interpreter": {
    "hash": "369f2c481f4da34e4445cda3fffd2e751bd1c4d706f27375911949ba6bb62e1c"
   }
  }
 },
 "nbformat": 4,
 "nbformat_minor": 5
}
