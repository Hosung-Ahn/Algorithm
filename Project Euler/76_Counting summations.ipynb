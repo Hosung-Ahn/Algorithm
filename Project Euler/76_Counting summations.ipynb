{
 "cells": [
  {
   "cell_type": "code",
   "execution_count": 5,
   "metadata": {},
   "outputs": [
    {
     "data": {
      "text/plain": [
       "190569291"
      ]
     },
     "execution_count": 5,
     "metadata": {},
     "output_type": "execute_result"
    }
   ],
   "source": [
    "dp = [[0 for _ in range(101)] for _ in range(101)]\n",
    "\n",
    "def f(n,k) :\n",
    "    if n == 0 : return 1\n",
    "    if n < 0 : return 0\n",
    "    if dp[n][k] != 0 :\n",
    "        return dp[n][k]\n",
    "    \n",
    "    for nk in range(k, n+1) :\n",
    "        dp[n][k] += f(n-nk, nk)\n",
    "    return dp[n][k]\n",
    "\n",
    "# 위 함수는 1개로 이루어진 합도 세기 때문에 1을 빼준다.\n",
    "f(100,1)-1"
   ]
  }
 ],
 "metadata": {
  "kernelspec": {
   "display_name": "Python 3.10.2 64-bit",
   "language": "python",
   "name": "python3"
  },
  "language_info": {
   "codemirror_mode": {
    "name": "ipython",
    "version": 3
   },
   "file_extension": ".py",
   "mimetype": "text/x-python",
   "name": "python",
   "nbconvert_exporter": "python",
   "pygments_lexer": "ipython3",
   "version": "3.10.2"
  },
  "orig_nbformat": 4,
  "vscode": {
   "interpreter": {
    "hash": "369f2c481f4da34e4445cda3fffd2e751bd1c4d706f27375911949ba6bb62e1c"
   }
  }
 },
 "nbformat": 4,
 "nbformat_minor": 2
}
