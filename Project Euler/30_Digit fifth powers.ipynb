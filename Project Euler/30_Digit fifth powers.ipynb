{
 "cells": [
  {
   "cell_type": "code",
   "execution_count": 17,
   "id": "31080c9a",
   "metadata": {
    "ExecuteTime": {
     "end_time": "2022-05-26T02:11:07.786714Z",
     "start_time": "2022-05-26T02:11:07.247490Z"
    }
   },
   "outputs": [
    {
     "name": "stdout",
     "output_type": "stream",
     "text": [
      "4150\n",
      "4151\n",
      "54748\n",
      "92727\n",
      "93084\n",
      "194979\n",
      "443839\n"
     ]
    }
   ],
   "source": [
    "check = 5*9**5\n",
    "\n",
    "SUM = 0\n",
    "\n",
    "def is_fifth(n) :\n",
    "    dn = 0\n",
    "    for i in str(n) :\n",
    "        dn += int(i)**5\n",
    "    return dn == n\n",
    "\n",
    "for n in range(10, check+1) :\n",
    "    if is_fifth(n) :\n",
    "        print(n)\n",
    "        SUM += n\n",
    "        \n",
    "print(SUM)"
   ]
  }
 ],
 "metadata": {
  "kernelspec": {
   "display_name": "Python 3 (ipykernel)",
   "language": "python",
   "name": "python3"
  },
  "language_info": {
   "codemirror_mode": {
    "name": "ipython",
    "version": 3
   },
   "file_extension": ".py",
   "mimetype": "text/x-python",
   "name": "python",
   "nbconvert_exporter": "python",
   "pygments_lexer": "ipython3",
   "version": "3.9.12"
  }
 },
 "nbformat": 4,
 "nbformat_minor": 5
}
