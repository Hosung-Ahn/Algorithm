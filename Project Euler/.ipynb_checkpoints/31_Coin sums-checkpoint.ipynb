{
 "cells": [
  {
   "cell_type": "code",
   "execution_count": 10,
   "id": "3f262248",
   "metadata": {
    "ExecuteTime": {
     "end_time": "2022-05-26T02:25:27.166516Z",
     "start_time": "2022-05-26T02:25:27.155078Z"
    }
   },
   "outputs": [
    {
     "data": {
      "text/plain": [
       "2301"
      ]
     },
     "execution_count": 10,
     "metadata": {},
     "output_type": "execute_result"
    }
   ],
   "source": [
    "dp = [[-1]*8 for _ in range(201)]\n",
    "\n",
    "money = [1,2,5,10,20,50,100,200]\n",
    "\n",
    "def find_dp(n, k) :\n",
    "    if n == 0 or k == 0 : return 1\n",
    "    if dp[n][k] != -1 : return dp[n][k]\n",
    "    \n",
    "    ret = 0\n",
    "    c = 0\n",
    "    nn = n\n",
    "    while(1) :\n",
    "        nn -= money[k]*c\n",
    "        if (nn < 0) : break\n",
    "        ret += find_dp(nn,k-1)\n",
    "        c += 1\n",
    "    dp[n][k] = ret\n",
    "    return ret\n",
    "\n",
    "find_dp(200,7)\n",
    "    \n",
    "    "
   ]
  }
 ],
 "metadata": {
  "kernelspec": {
   "display_name": "Python 3 (ipykernel)",
   "language": "python",
   "name": "python3"
  },
  "language_info": {
   "codemirror_mode": {
    "name": "ipython",
    "version": 3
   },
   "file_extension": ".py",
   "mimetype": "text/x-python",
   "name": "python",
   "nbconvert_exporter": "python",
   "pygments_lexer": "ipython3",
   "version": "3.9.12"
  }
 },
 "nbformat": 4,
 "nbformat_minor": 5
}
