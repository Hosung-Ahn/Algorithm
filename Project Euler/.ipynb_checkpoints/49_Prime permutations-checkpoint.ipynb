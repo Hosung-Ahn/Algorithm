{
 "cells": [
  {
   "cell_type": "code",
   "execution_count": 14,
   "id": "d8efe28d",
   "metadata": {
    "ExecuteTime": {
     "end_time": "2022-06-01T05:06:48.254547Z",
     "start_time": "2022-06-01T05:06:47.816121Z"
    }
   },
   "outputs": [
    {
     "data": {
      "text/plain": [
       "[[1487, 4817, 8147], [2969, 6299, 9629]]"
      ]
     },
     "execution_count": 14,
     "metadata": {},
     "output_type": "execute_result"
    }
   ],
   "source": [
    "MAX = 10_000\n",
    "Prime = [True] * MAX\n",
    "check = int(MAX**0.5)\n",
    "Prime[0] = False \n",
    "Prime[1] = False\n",
    "\n",
    "for i in range(2,check+1) :\n",
    "    if Prime[i] : \n",
    "        for j in range(i*2, MAX, i) :\n",
    "            Prime[j] = False\n",
    "\n",
    "p_lst4 = []\n",
    "for n in range(1000, MAX) :\n",
    "    if Prime[n] :\n",
    "        p_lst4.append(n)\n",
    "\n",
    "def is_permutation(a,b,c) :\n",
    "    cnt = [0]*10\n",
    "    for n in str(a) :\n",
    "        cnt[int(n)] += 1\n",
    "        \n",
    "    cmp = [b,c]\n",
    "    for i in range(2) :\n",
    "        cnt_cmp = [0]*10 \n",
    "        for n in str(cmp[i]) :\n",
    "            cnt_cmp[int(n)] += 1\n",
    "            \n",
    "        if cnt_cmp != cnt : return False\n",
    "    return True \n",
    "\n",
    "lst = []\n",
    "for a in p_lst4 :\n",
    "    for k in range(1,MAX) :\n",
    "        b = a + k\n",
    "        c = b + k\n",
    "        \n",
    "        if c >= MAX : break\n",
    "        \n",
    "        if not Prime[b] or not Prime[c] : continue\n",
    "        \n",
    "        if is_permutation(a,b,c) : \n",
    "            lst.append([a,b,c])\n",
    "            \n",
    "lst\n",
    "\n",
    "\n",
    "        "
   ]
  },
  {
   "cell_type": "code",
   "execution_count": 20,
   "id": "b637fad2",
   "metadata": {
    "ExecuteTime": {
     "end_time": "2022-06-01T05:08:29.928254Z",
     "start_time": "2022-06-01T05:08:29.923612Z"
    }
   },
   "outputs": [
    {
     "data": {
      "text/plain": [
       "'296962999629'"
      ]
     },
     "execution_count": 20,
     "metadata": {},
     "output_type": "execute_result"
    }
   ],
   "source": [
    "''.join(str(i) for i in lst[1])"
   ]
  }
 ],
 "metadata": {
  "kernelspec": {
   "display_name": "Python 3 (ipykernel)",
   "language": "python",
   "name": "python3"
  },
  "language_info": {
   "codemirror_mode": {
    "name": "ipython",
    "version": 3
   },
   "file_extension": ".py",
   "mimetype": "text/x-python",
   "name": "python",
   "nbconvert_exporter": "python",
   "pygments_lexer": "ipython3",
   "version": "3.9.12"
  }
 },
 "nbformat": 4,
 "nbformat_minor": 5
}
