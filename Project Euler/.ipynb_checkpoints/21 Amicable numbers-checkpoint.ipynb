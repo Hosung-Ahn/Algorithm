{
 "cells": [
  {
   "cell_type": "code",
   "execution_count": 31,
   "id": "1534a4e4",
   "metadata": {
    "ExecuteTime": {
     "end_time": "2021-12-16T02:21:00.265090Z",
     "start_time": "2021-12-16T02:21:00.151268Z"
    }
   },
   "outputs": [
    {
     "data": {
      "text/plain": [
       "31627"
      ]
     },
     "execution_count": 31,
     "metadata": {},
     "output_type": "execute_result"
    }
   ],
   "source": [
    "def divisors_sum(n) :\n",
    "    if n == 1 : return 0\n",
    "    \n",
    "    ret = [1]\n",
    "    \n",
    "    check = int(n**0.5)\n",
    "    \n",
    "    for d in range(2, check+1) :\n",
    "        if n % d == 0 : \n",
    "            ret.append(d)\n",
    "            if d != n//d : \n",
    "                ret.append(n//d)\n",
    "            \n",
    "    return sum(ret)\n",
    "\n",
    "result = [ ]\n",
    "for n in range(2,10_001) :\n",
    "    \n",
    "    pair = divisors_sum(n)\n",
    "    d_pair = divisors_sum(pair)\n",
    "    \n",
    "    if n == d_pair and n != pair:\n",
    "        result.append(n)\n",
    "        result.append(pair)\n",
    "        \n",
    "sum(set(result))\n",
    "        "
   ]
  },
  {
   "cell_type": "code",
   "execution_count": 32,
   "id": "64f65356",
   "metadata": {
    "ExecuteTime": {
     "end_time": "2021-12-16T02:21:04.105131Z",
     "start_time": "2021-12-16T02:21:04.099759Z"
    }
   },
   "outputs": [
    {
     "data": {
      "text/plain": [
       "{0, 1, 220, 284, 1184, 1210, 2620, 2924, 5020, 5564, 6232, 6368}"
      ]
     },
     "execution_count": 32,
     "metadata": {},
     "output_type": "execute_result"
    }
   ],
   "source": [
    "set(result)"
   ]
  }
 ],
 "metadata": {
  "kernelspec": {
   "display_name": "Python 3 (ipykernel)",
   "language": "python",
   "name": "python3"
  },
  "language_info": {
   "codemirror_mode": {
    "name": "ipython",
    "version": 3
   },
   "file_extension": ".py",
   "mimetype": "text/x-python",
   "name": "python",
   "nbconvert_exporter": "python",
   "pygments_lexer": "ipython3",
   "version": "3.9.7"
  }
 },
 "nbformat": 4,
 "nbformat_minor": 5
}
