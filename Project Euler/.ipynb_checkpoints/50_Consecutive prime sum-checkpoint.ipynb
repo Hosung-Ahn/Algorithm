{
 "cells": [
  {
   "cell_type": "code",
   "execution_count": 8,
   "id": "5987e226",
   "metadata": {
    "ExecuteTime": {
     "end_time": "2022-06-01T05:30:27.043199Z",
     "start_time": "2022-06-01T05:30:26.838969Z"
    }
   },
   "outputs": [],
   "source": [
    "import math\n",
    "\n",
    "MAX = 1_000_000\n",
    "Prime = [True] * MAX\n",
    "check = int(MAX**0.5)\n",
    "Prime[0] = False \n",
    "Prime[1] = False\n",
    "\n",
    "for i in range(2,check+1) :\n",
    "    if Prime[i] : \n",
    "        for j in range(i*2, MAX, i) :\n",
    "            Prime[j] = False\n",
    "\n",
    "p_lst = [0]\n",
    "for n in range(MAX) :\n",
    "    if Prime[n] :\n",
    "        p_lst.append(n)\n",
    "        \n",
    "def is_prime(n) :\n",
    "    check = math.ceil(n**0.5)\n",
    "    for d in range(2, check+1) :\n",
    "        if n % d == 0 : return False\n",
    "    return True"
   ]
  },
  {
   "cell_type": "code",
   "execution_count": 13,
   "id": "8aa8c1b8",
   "metadata": {
    "ExecuteTime": {
     "end_time": "2022-06-01T05:32:17.668177Z",
     "start_time": "2022-06-01T05:32:17.602360Z"
    }
   },
   "outputs": [
    {
     "name": "stdout",
     "output_type": "stream",
     "text": [
      "543 997651\n"
     ]
    }
   ],
   "source": [
    "p_sum = [0]\n",
    "for i in range(1, len(p_lst)) :\n",
    "    p_sum.append(p_sum[i-1] + p_lst[i])\n",
    "    \n",
    "lst = [ ]\n",
    "\n",
    "def solve() : \n",
    "    for i in range(len(p_sum)-1,0,-1) :\n",
    "        for j in range(i,len(p_sum)) :\n",
    "            Sum = p_sum[j]-p_sum[j-i]\n",
    "            if Sum >= MAX : break\n",
    "            if is_prime(Sum): \n",
    "                print(i,Sum)\n",
    "                return\n",
    "solve()"
   ]
  }
 ],
 "metadata": {
  "kernelspec": {
   "display_name": "Python 3 (ipykernel)",
   "language": "python",
   "name": "python3"
  },
  "language_info": {
   "codemirror_mode": {
    "name": "ipython",
    "version": 3
   },
   "file_extension": ".py",
   "mimetype": "text/x-python",
   "name": "python",
   "nbconvert_exporter": "python",
   "pygments_lexer": "ipython3",
   "version": "3.9.12"
  }
 },
 "nbformat": 4,
 "nbformat_minor": 5
}
