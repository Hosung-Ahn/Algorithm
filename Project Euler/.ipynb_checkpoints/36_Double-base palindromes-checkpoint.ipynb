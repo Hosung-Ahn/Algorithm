{
 "cells": [
  {
   "cell_type": "code",
   "execution_count": 4,
   "id": "2d525d1e",
   "metadata": {
    "ExecuteTime": {
     "end_time": "2022-05-29T12:08:38.789059Z",
     "start_time": "2022-05-29T12:08:38.429384Z"
    }
   },
   "outputs": [
    {
     "name": "stdout",
     "output_type": "stream",
     "text": [
      "1\n",
      "3\n",
      "5\n",
      "7\n",
      "9\n",
      "33\n",
      "99\n",
      "313\n",
      "585\n",
      "717\n",
      "7447\n",
      "9009\n",
      "15351\n",
      "32223\n",
      "39993\n",
      "53235\n",
      "53835\n",
      "73737\n",
      "585585\n",
      "872187\n"
     ]
    }
   ],
   "source": [
    "def is_palin(s) :\n",
    "    for i in range(len(s)//2) :\n",
    "        if s[i] != s[-(i+1)] : return False \n",
    "    return True\n",
    "\n",
    "SUM = 0\n",
    "\n",
    "for n in range(1,1_000_000+1) :\n",
    "    if is_palin(str(n)) and is_palin(bin(n)[2:]) :\n",
    "        print(n)\n",
    "        SUM += n\n",
    "print(SUM)"
   ]
  }
 ],
 "metadata": {
  "kernelspec": {
   "display_name": "Python 3 (ipykernel)",
   "language": "python",
   "name": "python3"
  },
  "language_info": {
   "codemirror_mode": {
    "name": "ipython",
    "version": 3
   },
   "file_extension": ".py",
   "mimetype": "text/x-python",
   "name": "python",
   "nbconvert_exporter": "python",
   "pygments_lexer": "ipython3",
   "version": "3.9.12"
  }
 },
 "nbformat": 4,
 "nbformat_minor": 5
}
