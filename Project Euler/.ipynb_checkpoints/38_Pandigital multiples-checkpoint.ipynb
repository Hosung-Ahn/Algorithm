{
 "cells": [
  {
   "cell_type": "code",
   "execution_count": 10,
   "id": "2bf56a69",
   "metadata": {
    "ExecuteTime": {
     "end_time": "2022-05-30T09:03:42.072624Z",
     "start_time": "2022-05-30T09:03:42.068604Z"
    }
   },
   "outputs": [],
   "source": [
    "def is_pandigital(s) :\n",
    "    cnt = [0]*10\n",
    "    cnt[0] = 1\n",
    "    for i in s :\n",
    "        cnt[int(i)]+=1\n",
    "    for i in cnt : \n",
    "        if i != 1 : return False\n",
    "    return True"
   ]
  },
  {
   "cell_type": "code",
   "execution_count": 14,
   "id": "e00d6455",
   "metadata": {
    "ExecuteTime": {
     "end_time": "2022-05-30T09:05:46.777342Z",
     "start_time": "2022-05-30T09:05:46.747248Z"
    }
   },
   "outputs": [
    {
     "data": {
      "text/plain": [
       "['672913458',\n",
       " '679213584',\n",
       " '692713854',\n",
       " '726914538',\n",
       " '729314586',\n",
       " '732914658',\n",
       " '769215384',\n",
       " '792315846',\n",
       " '793215864',\n",
       " '926718534',\n",
       " '927318546',\n",
       " '932718654']"
      ]
     },
     "execution_count": 14,
     "metadata": {},
     "output_type": "execute_result"
    }
   ],
   "source": [
    "#1자리 * 9 2자리 * 4, 3자리 * 3, 4자리 *2\n",
    "# 의 경우의 수가 존재할 수 있는데 가장 큰 수 이므로 숫자의 첫번째 값이 9,8,7.. 순으로 되면 좋으닌까 1,2,3번째 경우의 수는 찾을 필요가 없음\n",
    "lst = []\n",
    "for n in range(5000,10000) :\n",
    "    cn = n*2\n",
    "    N = str(n) + str(cn)\n",
    "    if is_pandigital(N) : \n",
    "        lst.append(N)\n",
    "lst"
   ]
  },
  {
   "cell_type": "code",
   "execution_count": 13,
   "id": "b74f835a",
   "metadata": {
    "ExecuteTime": {
     "end_time": "2022-05-30T09:04:09.831255Z",
     "start_time": "2022-05-30T09:04:09.826596Z"
    }
   },
   "outputs": [
    {
     "data": {
      "text/plain": [
       "18654"
      ]
     },
     "execution_count": 13,
     "metadata": {},
     "output_type": "execute_result"
    }
   ],
   "source": []
  }
 ],
 "metadata": {
  "kernelspec": {
   "display_name": "Python 3 (ipykernel)",
   "language": "python",
   "name": "python3"
  },
  "language_info": {
   "codemirror_mode": {
    "name": "ipython",
    "version": 3
   },
   "file_extension": ".py",
   "mimetype": "text/x-python",
   "name": "python",
   "nbconvert_exporter": "python",
   "pygments_lexer": "ipython3",
   "version": "3.9.12"
  }
 },
 "nbformat": 4,
 "nbformat_minor": 5
}
