{
 "cells": [
  {
   "cell_type": "code",
   "execution_count": 18,
   "id": "7d4e4fe6",
   "metadata": {},
   "outputs": [
    {
     "name": "stdout",
     "output_type": "stream",
     "text": [
      "837799\n"
     ]
    }
   ],
   "source": [
    "lst = [False] * (10_000_001)\n",
    "\n",
    "def find_term(n, cnt) :\n",
    "    if n == 1 : return cnt\n",
    "    if n % 2 == 0 : \n",
    "        if (n//2 <= 10_000_000 and lst[n//2]) : \n",
    "            return lst[n//2] + cnt\n",
    "        else :\n",
    "            if (n//2 <= 10_000_000) : \n",
    "                lst[n//2] = find_term(n//2, 1)\n",
    "                return lst[n//2] + cnt\n",
    "            return find_term(n//2,cnt+1)\n",
    "    else :\n",
    "        if (3*n+1 <= 10_000_000 and lst[3*n+1]) :\n",
    "            return lst[3*n+1] + cnt \n",
    "        else :\n",
    "            if (3*n+1 <= 10_000_000) :\n",
    "                lst[3*n+1] = find_term(3*n+1,1)\n",
    "                return lst[3*n+1] + cnt\n",
    "            return find_term(3*n+1, cnt+1)\n",
    "    \n",
    "\n",
    "max_term = 0\n",
    "for n in range(1,1_000_001) :\n",
    "    term = find_term(n, 1)\n",
    "    if term > max_term : \n",
    "        max_term = term\n",
    "        max_n = n\n",
    "        \n",
    "print(max_n)\n"
   ]
  }
 ],
 "metadata": {
  "kernelspec": {
   "display_name": "Python 3 (ipykernel)",
   "language": "python",
   "name": "python3"
  },
  "language_info": {
   "codemirror_mode": {
    "name": "ipython",
    "version": 3
   },
   "file_extension": ".py",
   "mimetype": "text/x-python",
   "name": "python",
   "nbconvert_exporter": "python",
   "pygments_lexer": "ipython3",
   "version": "3.9.7"
  }
 },
 "nbformat": 4,
 "nbformat_minor": 5
}
