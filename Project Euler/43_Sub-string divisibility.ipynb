{
 "cells": [
  {
   "cell_type": "code",
   "execution_count": 1,
   "id": "59d8ae58",
   "metadata": {
    "ExecuteTime": {
     "end_time": "2022-05-31T00:51:09.486653Z",
     "start_time": "2022-05-31T00:51:09.482125Z"
    }
   },
   "outputs": [],
   "source": [
    "def fact(n) :\n",
    "    if n == 1 : return 1\n",
    "    return n * fact(n-1)"
   ]
  },
  {
   "cell_type": "code",
   "execution_count": 6,
   "id": "db58a067",
   "metadata": {
    "ExecuteTime": {
     "end_time": "2022-05-31T00:55:47.099755Z",
     "start_time": "2022-05-31T00:55:46.783511Z"
    }
   },
   "outputs": [],
   "source": [
    "import itertools\n",
    "lst = ['0','1','2','3','4','5','6','7','8','9']\n",
    "nLst = list(itertools.permutations(lst,10))\n",
    "\n",
    "def is_property(n) :\n",
    "    d = [2,3,5,7,11,13,17]\n",
    "    for i in range(1,8) :\n",
    "        num = int(''.join(n)[i:i+3])\n",
    "        if num % d[i-1] != 0 : return False\n",
    "    return True"
   ]
  },
  {
   "cell_type": "code",
   "execution_count": 7,
   "id": "78ea512b",
   "metadata": {
    "ExecuteTime": {
     "end_time": "2022-05-31T00:57:03.446484Z",
     "start_time": "2022-05-31T00:57:01.167652Z"
    }
   },
   "outputs": [
    {
     "data": {
      "text/plain": [
       "[1406357289, 1430952867, 1460357289, 4106357289, 4130952867, 4160357289]"
      ]
     },
     "execution_count": 7,
     "metadata": {},
     "output_type": "execute_result"
    }
   ],
   "source": [
    "result = []\n",
    "for n in nLst : \n",
    "    if n[0] == '0' : continue\n",
    "    if is_property(n) :\n",
    "        result.append(int(''.join(n)))\n",
    "result"
   ]
  },
  {
   "cell_type": "code",
   "execution_count": 8,
   "id": "e42dacdb",
   "metadata": {
    "ExecuteTime": {
     "end_time": "2022-05-31T00:57:17.842853Z",
     "start_time": "2022-05-31T00:57:17.838430Z"
    }
   },
   "outputs": [
    {
     "data": {
      "text/plain": [
       "16695334890"
      ]
     },
     "execution_count": 8,
     "metadata": {},
     "output_type": "execute_result"
    }
   ],
   "source": [
    "sum(result)"
   ]
  }
 ],
 "metadata": {
  "kernelspec": {
   "display_name": "Python 3 (ipykernel)",
   "language": "python",
   "name": "python3"
  },
  "language_info": {
   "codemirror_mode": {
    "name": "ipython",
    "version": 3
   },
   "file_extension": ".py",
   "mimetype": "text/x-python",
   "name": "python",
   "nbconvert_exporter": "python",
   "pygments_lexer": "ipython3",
   "version": "3.9.12"
  }
 },
 "nbformat": 4,
 "nbformat_minor": 5
}
