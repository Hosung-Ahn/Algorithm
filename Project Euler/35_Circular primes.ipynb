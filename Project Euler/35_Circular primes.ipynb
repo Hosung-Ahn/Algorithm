{
 "cells": [
  {
   "cell_type": "code",
   "execution_count": 8,
   "id": "5a8f8308",
   "metadata": {
    "ExecuteTime": {
     "end_time": "2022-05-28T08:03:02.481190Z",
     "start_time": "2022-05-28T08:02:59.043970Z"
    }
   },
   "outputs": [],
   "source": [
    "def is_prime(n) :\n",
    "    check = int(n**0.5)\n",
    "    for d in range(2,check+1) :\n",
    "        if n % d == 0 : return False \n",
    "    return True\n",
    "\n",
    "def is_circular_prime(n) :\n",
    "    for i in range(len(str(n))) :\n",
    "        N = int(str(n)[i:] + str(n)[:i])\n",
    "        if not is_prime(N) : return False\n",
    "        \n",
    "    return True\n",
    "    \n",
    "lst = []\n",
    "for n in range(2,1_000_001) :\n",
    "    if is_circular_prime(n) :\n",
    "        lst.append(n)"
   ]
  },
  {
   "cell_type": "code",
   "execution_count": 9,
   "id": "9cfc286e",
   "metadata": {
    "ExecuteTime": {
     "end_time": "2022-05-28T08:03:04.035902Z",
     "start_time": "2022-05-28T08:03:04.030781Z"
    }
   },
   "outputs": [
    {
     "data": {
      "text/plain": [
       "[1,\n",
       " 2,\n",
       " 3,\n",
       " 5,\n",
       " 7,\n",
       " 11,\n",
       " 13,\n",
       " 17,\n",
       " 31,\n",
       " 37,\n",
       " 71,\n",
       " 73,\n",
       " 79,\n",
       " 97,\n",
       " 113,\n",
       " 131,\n",
       " 197,\n",
       " 199,\n",
       " 311,\n",
       " 337,\n",
       " 373,\n",
       " 719,\n",
       " 733,\n",
       " 919,\n",
       " 971,\n",
       " 991,\n",
       " 1193,\n",
       " 1931,\n",
       " 3119,\n",
       " 3779,\n",
       " 7793,\n",
       " 7937,\n",
       " 9311,\n",
       " 9377,\n",
       " 11939,\n",
       " 19391,\n",
       " 19937,\n",
       " 37199,\n",
       " 39119,\n",
       " 71993,\n",
       " 91193,\n",
       " 93719,\n",
       " 93911,\n",
       " 99371,\n",
       " 193939,\n",
       " 199933,\n",
       " 319993,\n",
       " 331999,\n",
       " 391939,\n",
       " 393919,\n",
       " 919393,\n",
       " 933199,\n",
       " 939193,\n",
       " 939391,\n",
       " 993319,\n",
       " 999331]"
      ]
     },
     "execution_count": 9,
     "metadata": {},
     "output_type": "execute_result"
    }
   ],
   "source": [
    "lst"
   ]
  },
  {
   "cell_type": "code",
   "execution_count": 10,
   "id": "6bf9288a",
   "metadata": {
    "ExecuteTime": {
     "end_time": "2022-05-28T08:03:23.991632Z",
     "start_time": "2022-05-28T08:03:23.987004Z"
    }
   },
   "outputs": [
    {
     "data": {
      "text/plain": [
       "56"
      ]
     },
     "execution_count": 10,
     "metadata": {},
     "output_type": "execute_result"
    }
   ],
   "source": [
    "len(lst)"
   ]
  }
 ],
 "metadata": {
  "kernelspec": {
   "display_name": "Python 3 (ipykernel)",
   "language": "python",
   "name": "python3"
  },
  "language_info": {
   "codemirror_mode": {
    "name": "ipython",
    "version": 3
   },
   "file_extension": ".py",
   "mimetype": "text/x-python",
   "name": "python",
   "nbconvert_exporter": "python",
   "pygments_lexer": "ipython3",
   "version": "3.9.12"
  }
 },
 "nbformat": 4,
 "nbformat_minor": 5
}
