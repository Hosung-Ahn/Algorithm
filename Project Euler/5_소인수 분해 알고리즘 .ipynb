{
 "cells": [
  {
   "cell_type": "code",
   "execution_count": 1,
   "metadata": {
    "ExecuteTime": {
     "end_time": "2022-06-01T04:32:09.801470Z",
     "start_time": "2022-06-01T04:32:08.504371Z"
    }
   },
   "outputs": [
    {
     "name": "stdout",
     "output_type": "stream",
     "text": [
      "12\n",
      "27720\n"
     ]
    }
   ],
   "source": [
    "max_num = int(input())\n",
    "\n",
    "def find_prime_lst(n) : # n이하의 소수를 모두 찾아준다.\n",
    "     \n",
    "    lst = [True] * (n+1)\n",
    "    sqrt_n = int(n**0.5)\n",
    "\n",
    "    for i in range(2, sqrt_n + 1) :\n",
    "        if (lst[i]) :\n",
    "            for j in range(2*i, n+1, i) :\n",
    "                lst[j] = False\n",
    "    prime_lst = []\n",
    "    for n in range(2, n+1) :\n",
    "        if (lst[n]) : \n",
    "            prime_lst.append(n)\n",
    "\n",
    "    return prime_lst\n",
    "\n",
    "prime_lst = find_prime_lst(max_num)\n",
    "\n",
    "def prime_factorization(n) : # n을 소인수 분해하여 dict 으로 return 한다.\n",
    "    prime_factor = dict()\n",
    "    while (n > 1) :\n",
    "        for prime in prime_lst :\n",
    "            if n % prime == 0 :\n",
    "                if prime_factor.get(prime) : \n",
    "                    prime_factor[prime] += 1\n",
    "                else :\n",
    "                    prime_factor[prime] = 1\n",
    "                n //= prime\n",
    "                break\n",
    "                    \n",
    "    return prime_factor\n",
    "\n",
    "def merge_prime_factor(last, update) : # 두개의 소인수 분해 값을 합쳐준다.\n",
    "    for key in last.keys() :\n",
    "        if update.get(key) :\n",
    "            update[key] = max(last[key], update[key])\n",
    "        else :\n",
    "            update[key] = last[key]\n",
    "            \n",
    "    return update\n",
    "\n",
    "prime_factor = prime_factorization(2)\n",
    "\n",
    "for n in range(3, max_num+1) :\n",
    "    prime_factor = merge_prime_factor(prime_factor, prime_factorization(n))\n",
    "    \n",
    "result = 1\n",
    "for n,e in prime_factor.items() :\n",
    "    result *= n**e\n",
    "\n",
    "print(result)"
   ]
  },
  {
   "cell_type": "code",
   "execution_count": 6,
   "metadata": {
    "ExecuteTime": {
     "end_time": "2022-06-01T04:32:25.458639Z",
     "start_time": "2022-06-01T04:32:25.454372Z"
    }
   },
   "outputs": [
    {
     "data": {
      "text/plain": [
       "{3: 1}"
      ]
     },
     "execution_count": 6,
     "metadata": {},
     "output_type": "execute_result"
    }
   ],
   "source": [
    "prime_factorization(3)"
   ]
  }
 ],
 "metadata": {
  "kernelspec": {
   "display_name": "Python 3 (ipykernel)",
   "language": "python",
   "name": "python3"
  },
  "language_info": {
   "codemirror_mode": {
    "name": "ipython",
    "version": 3
   },
   "file_extension": ".py",
   "mimetype": "text/x-python",
   "name": "python",
   "nbconvert_exporter": "python",
   "pygments_lexer": "ipython3",
   "version": "3.9.12"
  }
 },
 "nbformat": 4,
 "nbformat_minor": 4
}
