{
 "cells": [
  {
   "cell_type": "code",
   "execution_count": 31,
   "metadata": {},
   "outputs": [
    {
     "data": {
      "text/plain": [
       "1322"
      ]
     },
     "execution_count": 31,
     "metadata": {},
     "output_type": "execute_result"
    }
   ],
   "source": [
    "def gcd(a,b) :\n",
    "    c = a % b\n",
    "    while(c) :\n",
    "        a = b\n",
    "        b = c\n",
    "        c = a%b\n",
    "    return b\n",
    "\n",
    "visited = dict()\n",
    "\n",
    "def f(a,b,c,k,arr) :\n",
    "    if (a,b,c) in visited.keys() : \n",
    "        return len(arr) % 2 == 0\n",
    "    visited[(a,b,c)] = True\n",
    "    \n",
    "    n = (k**0.5 * b + c)/a\n",
    "    arr.append(int(n))\n",
    "    c -= a*arr[-1]\n",
    "    \n",
    "    na = b**2 * k - c**2\n",
    "    d = gcd(na,a)\n",
    "    a //= d\n",
    "    na //= d \n",
    "    \n",
    "    nb = a*b\n",
    "    nc = -a*c\n",
    "    return f(na,nb,nc,k,arr)\n",
    "    \n",
    "ans = 0\n",
    "\n",
    "for n in range(1,10_000) :\n",
    "    if n**0.5 == int(n**0.5) : continue\n",
    "    visited.clear()\n",
    "    if f(1,1,0,n,[]) : ans += 1\n",
    "ans\n",
    "    "
   ]
  },
  {
   "cell_type": "code",
   "execution_count": 12,
   "metadata": {},
   "outputs": [
    {
     "data": {
      "text/plain": [
       "{(1, 2, 3): 1}"
      ]
     },
     "execution_count": 12,
     "metadata": {},
     "output_type": "execute_result"
    }
   ],
   "source": [
    "visited[(1,2,3)] = 1\n",
    "visited"
   ]
  }
 ],
 "metadata": {
  "kernelspec": {
   "display_name": "Python 3.10.2 64-bit",
   "language": "python",
   "name": "python3"
  },
  "language_info": {
   "codemirror_mode": {
    "name": "ipython",
    "version": 3
   },
   "file_extension": ".py",
   "mimetype": "text/x-python",
   "name": "python",
   "nbconvert_exporter": "python",
   "pygments_lexer": "ipython3",
   "version": "3.10.2"
  },
  "orig_nbformat": 4,
  "vscode": {
   "interpreter": {
    "hash": "369f2c481f4da34e4445cda3fffd2e751bd1c4d706f27375911949ba6bb62e1c"
   }
  }
 },
 "nbformat": 4,
 "nbformat_minor": 2
}
