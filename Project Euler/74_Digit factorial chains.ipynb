{
 "cells": [
  {
   "cell_type": "code",
   "execution_count": 20,
   "metadata": {},
   "outputs": [
    {
     "data": {
      "text/plain": [
       "402"
      ]
     },
     "execution_count": 20,
     "metadata": {},
     "output_type": "execute_result"
    }
   ],
   "source": [
    "from collections import defaultdict\n",
    "\n",
    "x = 1\n",
    "fact = [1]\n",
    "for n in range(1,10) :\n",
    "    x *= n\n",
    "    fact.append(x)\n",
    "\n",
    "def is_60_loop(n) :\n",
    "    visited = defaultdict(int)\n",
    "    \n",
    "    def digit_fact(n) :\n",
    "        ret = 0\n",
    "        for c in str(n) :\n",
    "            ret += fact[int(c)]\n",
    "        return ret\n",
    "    \n",
    "    def recur(n,k) :\n",
    "        if visited[n] : return k\n",
    "        if k > 60 : return 98873127\n",
    "        visited[n] += 1\n",
    "        return recur(digit_fact(n), k+1)\n",
    "        \n",
    "    return recur(n,0) == 60\n",
    "\n",
    "ans = 0\n",
    "for n in range(1_000_000) :\n",
    "    if is_60_loop(n) : \n",
    "        ans += 1\n",
    "ans\n",
    "    "
   ]
  }
 ],
 "metadata": {
  "kernelspec": {
   "display_name": "Python 3.10.2 64-bit",
   "language": "python",
   "name": "python3"
  },
  "language_info": {
   "codemirror_mode": {
    "name": "ipython",
    "version": 3
   },
   "file_extension": ".py",
   "mimetype": "text/x-python",
   "name": "python",
   "nbconvert_exporter": "python",
   "pygments_lexer": "ipython3",
   "version": "3.10.2"
  },
  "orig_nbformat": 4,
  "vscode": {
   "interpreter": {
    "hash": "369f2c481f4da34e4445cda3fffd2e751bd1c4d706f27375911949ba6bb62e1c"
   }
  }
 },
 "nbformat": 4,
 "nbformat_minor": 2
}
