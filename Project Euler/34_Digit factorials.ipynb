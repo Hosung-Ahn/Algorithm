{
 "cells": [
  {
   "cell_type": "code",
   "execution_count": 3,
   "id": "200facfe",
   "metadata": {
    "ExecuteTime": {
     "end_time": "2022-05-28T07:22:37.735203Z",
     "start_time": "2022-05-28T07:22:37.729448Z"
    }
   },
   "outputs": [
    {
     "data": {
      "text/plain": [
       "[1, 1, 2, 6, 24, 120, 720, 5040, 40320, 362880]"
      ]
     },
     "execution_count": 3,
     "metadata": {},
     "output_type": "execute_result"
    }
   ],
   "source": [
    "Fact = [1]\n",
    "for n in range(1,10) :\n",
    "    Fact.append(Fact[-1]*n)\n",
    "Fact"
   ]
  },
  {
   "cell_type": "code",
   "execution_count": 4,
   "id": "2320b821",
   "metadata": {
    "ExecuteTime": {
     "end_time": "2022-05-28T07:25:24.430020Z",
     "start_time": "2022-05-28T07:25:14.119472Z"
    }
   },
   "outputs": [
    {
     "data": {
      "text/plain": [
       "[145, 40585]"
      ]
     },
     "execution_count": 4,
     "metadata": {},
     "output_type": "execute_result"
    }
   ],
   "source": [
    "lst = []\n",
    "for n in range(10, 10_000_000) :\n",
    "    SUM = 0\n",
    "    for a in str(n) :\n",
    "        SUM += Fact[int(a)]\n",
    "        \n",
    "    if SUM == n :\n",
    "        lst.append(n)\n",
    "lst"
   ]
  },
  {
   "cell_type": "code",
   "execution_count": 5,
   "id": "53fee75d",
   "metadata": {
    "ExecuteTime": {
     "end_time": "2022-05-28T07:25:38.551413Z",
     "start_time": "2022-05-28T07:25:38.546898Z"
    }
   },
   "outputs": [
    {
     "data": {
      "text/plain": [
       "40730"
      ]
     },
     "execution_count": 5,
     "metadata": {},
     "output_type": "execute_result"
    }
   ],
   "source": [
    "sum(lst)"
   ]
  }
 ],
 "metadata": {
  "kernelspec": {
   "display_name": "Python 3 (ipykernel)",
   "language": "python",
   "name": "python3"
  },
  "language_info": {
   "codemirror_mode": {
    "name": "ipython",
    "version": 3
   },
   "file_extension": ".py",
   "mimetype": "text/x-python",
   "name": "python",
   "nbconvert_exporter": "python",
   "pygments_lexer": "ipython3",
   "version": "3.9.12"
  }
 },
 "nbformat": 4,
 "nbformat_minor": 5
}
