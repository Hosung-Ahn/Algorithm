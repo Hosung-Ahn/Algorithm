{
 "cells": [
  {
   "cell_type": "code",
   "execution_count": 62,
   "id": "dcbe5537",
   "metadata": {
    "ExecuteTime": {
     "end_time": "2022-05-30T10:26:59.048682Z",
     "start_time": "2022-05-30T10:26:59.043631Z"
    }
   },
   "outputs": [],
   "source": [
    "def cal_n(n) :\n",
    "    nth = 0\n",
    "    k = 0\n",
    "    while(n > k) :\n",
    "        n -= k\n",
    "        k = (9 * (10 ** nth)) * (nth+1)\n",
    "        nth+=1\n",
    "        \n",
    "    return int(str(10**(nth-1) + (n-1)//nth)[(n-1)%nth])"
   ]
  },
  {
   "cell_type": "code",
   "execution_count": 63,
   "id": "e7810187",
   "metadata": {
    "ExecuteTime": {
     "end_time": "2022-05-30T10:27:01.617362Z",
     "start_time": "2022-05-30T10:27:01.611859Z"
    }
   },
   "outputs": [
    {
     "data": {
      "text/plain": [
       "210"
      ]
     },
     "execution_count": 63,
     "metadata": {},
     "output_type": "execute_result"
    }
   ],
   "source": [
    "result = 1\n",
    "for i in range(7) :\n",
    "    n = 1 * (10 ** i)\n",
    "    result *= cal_n(n)\n",
    "result "
   ]
  }
 ],
 "metadata": {
  "kernelspec": {
   "display_name": "Python 3 (ipykernel)",
   "language": "python",
   "name": "python3"
  },
  "language_info": {
   "codemirror_mode": {
    "name": "ipython",
    "version": 3
   },
   "file_extension": ".py",
   "mimetype": "text/x-python",
   "name": "python",
   "nbconvert_exporter": "python",
   "pygments_lexer": "ipython3",
   "version": "3.9.12"
  }
 },
 "nbformat": 4,
 "nbformat_minor": 5
}
