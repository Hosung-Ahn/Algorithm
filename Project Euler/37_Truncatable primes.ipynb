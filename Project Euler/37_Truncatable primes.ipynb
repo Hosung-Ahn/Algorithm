{
 "cells": [
  {
   "cell_type": "code",
   "execution_count": 11,
   "id": "f85a4463",
   "metadata": {
    "ExecuteTime": {
     "end_time": "2022-05-29T12:25:46.673701Z",
     "start_time": "2022-05-29T12:25:45.021975Z"
    }
   },
   "outputs": [],
   "source": [
    "MAX = 10_000_000\n",
    "Prime = [True] * MAX\n",
    "check = int(MAX**0.5)\n",
    "Prime[0] = False \n",
    "Prime[1] = False\n",
    "\n",
    "for i in range(2,check+1) :\n",
    "    if Prime[i] : \n",
    "        for j in range(i*2, MAX, i) :\n",
    "            Prime[j] = False\n"
   ]
  },
  {
   "cell_type": "code",
   "execution_count": 14,
   "id": "dd42e7af",
   "metadata": {
    "ExecuteTime": {
     "end_time": "2022-05-29T12:26:42.595829Z",
     "start_time": "2022-05-29T12:26:42.413142Z"
    }
   },
   "outputs": [
    {
     "data": {
      "text/plain": [
       "[23, 37, 53, 73, 313, 317, 373, 797, 3137, 3797, 739397]"
      ]
     },
     "execution_count": 14,
     "metadata": {},
     "output_type": "execute_result"
    }
   ],
   "source": [
    "def is_Truncatable(n) :\n",
    "    if not Prime[n] : return False\n",
    "    for i in range(1,len(str(n))) :\n",
    "        if not Prime[n%(10**i)] or not Prime[n//(10**i)] : return False\n",
    "    return True\n",
    "\n",
    "lst = []\n",
    "\n",
    "for n in range(10, 1_000_000) : \n",
    "    if is_Truncatable(n) :\n",
    "        lst.append(n)\n",
    "        \n",
    "lst"
   ]
  },
  {
   "cell_type": "code",
   "execution_count": 16,
   "id": "7ce00589",
   "metadata": {
    "ExecuteTime": {
     "end_time": "2022-05-29T12:27:05.757204Z",
     "start_time": "2022-05-29T12:27:05.751962Z"
    }
   },
   "outputs": [
    {
     "data": {
      "text/plain": [
       "748317"
      ]
     },
     "execution_count": 16,
     "metadata": {},
     "output_type": "execute_result"
    }
   ],
   "source": [
    "sum(lst)"
   ]
  }
 ],
 "metadata": {
  "kernelspec": {
   "display_name": "Python 3 (ipykernel)",
   "language": "python",
   "name": "python3"
  },
  "language_info": {
   "codemirror_mode": {
    "name": "ipython",
    "version": 3
   },
   "file_extension": ".py",
   "mimetype": "text/x-python",
   "name": "python",
   "nbconvert_exporter": "python",
   "pygments_lexer": "ipython3",
   "version": "3.9.12"
  }
 },
 "nbformat": 4,
 "nbformat_minor": 5
}
