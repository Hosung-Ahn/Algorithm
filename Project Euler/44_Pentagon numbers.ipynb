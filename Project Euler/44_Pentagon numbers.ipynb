{
 "cells": [
  {
   "cell_type": "code",
   "execution_count": 34,
   "id": "1df6443d",
   "metadata": {
    "ExecuteTime": {
     "end_time": "2022-05-31T01:22:46.869713Z",
     "start_time": "2022-05-31T01:22:42.100083Z"
    }
   },
   "outputs": [
    {
     "data": {
      "text/plain": [
       "[[1560090.0, 7042750.0]]"
      ]
     },
     "execution_count": 34,
     "metadata": {},
     "output_type": "execute_result"
    }
   ],
   "source": [
    "def pentagon(n) :\n",
    "    return n*(3*n-1)/2\n",
    "def is_pentagon(n) :\n",
    "    x = ((24*n+1)**0.5 + 1)/6\n",
    "    return x == int(x)\n",
    "\n",
    "lst = []\n",
    "for a in range(1,5000) :\n",
    "    for b in range(a+1, 5000) :\n",
    "        if is_pentagon(pentagon(a)+pentagon(b)) and is_pentagon(pentagon(b)-pentagon(a)) :\n",
    "            lst.append([pentagon(a),pentagon(b)])\n",
    "lst"
   ]
  },
  {
   "cell_type": "code",
   "execution_count": 35,
   "id": "fd8ba569",
   "metadata": {
    "ExecuteTime": {
     "end_time": "2022-05-31T01:22:46.873214Z",
     "start_time": "2022-05-31T01:22:46.870759Z"
    }
   },
   "outputs": [
    {
     "data": {
      "text/plain": [
       "5482660.0"
      ]
     },
     "execution_count": 35,
     "metadata": {},
     "output_type": "execute_result"
    }
   ],
   "source": [
    "lst.sort(key = lambda x : abs(x[0]-x[1]))\n",
    "lst[0][1] - lst[0][0]"
   ]
  },
  {
   "cell_type": "code",
   "execution_count": 30,
   "id": "bc84bb3c",
   "metadata": {
    "ExecuteTime": {
     "end_time": "2022-05-31T01:21:42.053472Z",
     "start_time": "2022-05-31T01:21:42.048724Z"
    }
   },
   "outputs": [
    {
     "name": "stdout",
     "output_type": "stream",
     "text": [
      "1.8081429669660174\n"
     ]
    },
    {
     "data": {
      "text/plain": [
       "False"
      ]
     },
     "execution_count": 30,
     "metadata": {},
     "output_type": "execute_result"
    }
   ],
   "source": []
  }
 ],
 "metadata": {
  "kernelspec": {
   "display_name": "Python 3 (ipykernel)",
   "language": "python",
   "name": "python3"
  },
  "language_info": {
   "codemirror_mode": {
    "name": "ipython",
    "version": 3
   },
   "file_extension": ".py",
   "mimetype": "text/x-python",
   "name": "python",
   "nbconvert_exporter": "python",
   "pygments_lexer": "ipython3",
   "version": "3.9.12"
  }
 },
 "nbformat": 4,
 "nbformat_minor": 5
}
