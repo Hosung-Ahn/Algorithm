{
 "cells": [
  {
   "cell_type": "code",
   "execution_count": 7,
   "id": "2963bbc6",
   "metadata": {
    "ExecuteTime": {
     "end_time": "2021-12-09T05:55:22.042033Z",
     "start_time": "2021-12-09T05:55:20.862954Z"
    }
   },
   "outputs": [
    {
     "name": "stdout",
     "output_type": "stream",
     "text": [
      "2\n",
      "2 1\n",
      "1\n"
     ]
    }
   ],
   "source": [
    "n = int(input())\n",
    "lst = list(map(int, input().split()))\n",
    "visited = [False] * n\n",
    "\n",
    "def count(index) :\n",
    "    cnt = 1\n",
    "    cur = lst[index]\n",
    "    visited[index] = True\n",
    "    \n",
    "    for ni in range(index, n) :\n",
    "        if lst[ni] > cur :\n",
    "            cur = lst[ni]\n",
    "            visited[ni] = True\n",
    "            cnt += 1\n",
    "            \n",
    "    return cnt\n",
    "\n",
    "max_cnt = 0 \n",
    "for i in range(n) :\n",
    "    if (not visited[i]) :\n",
    "        cnt = count(i)\n",
    "        if (cnt > max_cnt) :\n",
    "            max_cnt = cnt\n",
    "            \n",
    "print(max_cnt)\n",
    "    "
   ]
  },
  {
   "cell_type": "code",
   "execution_count": 8,
   "id": "7b0d40d9",
   "metadata": {
    "ExecuteTime": {
     "end_time": "2021-12-09T05:56:10.099812Z",
     "start_time": "2021-12-09T05:56:10.078631Z"
    }
   },
   "outputs": [
    {
     "data": {
      "text/plain": [
       "[True, True]"
      ]
     },
     "execution_count": 8,
     "metadata": {},
     "output_type": "execute_result"
    }
   ],
   "source": []
  }
 ],
 "metadata": {
  "kernelspec": {
   "display_name": "Python 3 (ipykernel)",
   "language": "python",
   "name": "python3"
  },
  "language_info": {
   "codemirror_mode": {
    "name": "ipython",
    "version": 3
   },
   "file_extension": ".py",
   "mimetype": "text/x-python",
   "name": "python",
   "nbconvert_exporter": "python",
   "pygments_lexer": "ipython3",
   "version": "3.9.7"
  }
 },
 "nbformat": 4,
 "nbformat_minor": 5
}
