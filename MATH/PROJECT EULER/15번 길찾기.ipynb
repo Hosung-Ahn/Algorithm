{
 "cells": [
  {
   "cell_type": "code",
   "execution_count": 1,
   "id": "e5f1aa0c",
   "metadata": {
    "ExecuteTime": {
     "end_time": "2021-12-09T02:17:50.456325Z",
     "start_time": "2021-12-09T02:17:50.433941Z"
    }
   },
   "outputs": [
    {
     "name": "stdout",
     "output_type": "stream",
     "text": [
      "137846528820\n"
     ]
    }
   ],
   "source": [
    "dist = [[1 for _ in range(21)] for _ in range(21)]\n",
    "\n",
    "for r in range(1,21) : \n",
    "    for c in range(1,21) : \n",
    "        dist[r][c] = dist[r-1][c] + dist[r][c-1]\n",
    "        \n",
    "print(dist[20][20])"
   ]
  }
 ],
 "metadata": {
  "kernelspec": {
   "display_name": "Python 3 (ipykernel)",
   "language": "python",
   "name": "python3"
  },
  "language_info": {
   "codemirror_mode": {
    "name": "ipython",
    "version": 3
   },
   "file_extension": ".py",
   "mimetype": "text/x-python",
   "name": "python",
   "nbconvert_exporter": "python",
   "pygments_lexer": "ipython3",
   "version": "3.9.7"
  }
 },
 "nbformat": 4,
 "nbformat_minor": 5
}
