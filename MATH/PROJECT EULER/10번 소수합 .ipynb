{
 "cells": [
  {
   "cell_type": "code",
   "execution_count": 3,
   "metadata": {
    "ExecuteTime": {
     "end_time": "2021-12-02T01:46:11.674310Z",
     "start_time": "2021-12-02T01:46:11.340849Z"
    }
   },
   "outputs": [
    {
     "data": {
      "text/plain": [
       "142913828922"
      ]
     },
     "execution_count": 3,
     "metadata": {},
     "output_type": "execute_result"
    }
   ],
   "source": [
    "def find_prime_lst(n) : # n이하의 소수를 모두 찾아준다.\n",
    "     \n",
    "    lst = [True] * (n+1)\n",
    "    sqrt_n = int(n**0.5)\n",
    "\n",
    "    for i in range(2, sqrt_n + 1) :\n",
    "        if (lst[i]) :\n",
    "            for j in range(2*i, n+1, i) :\n",
    "                lst[j] = False\n",
    "    prime_lst = []\n",
    "    for n in range(2, n+1) :\n",
    "        if (lst[n]) : \n",
    "            prime_lst.append(n)\n",
    "\n",
    "    return prime_lst\n",
    "\n",
    "sum(find_prime_lst(2_000_000))"
   ]
  }
 ],
 "metadata": {
  "kernelspec": {
   "display_name": "Python 3 (ipykernel)",
   "language": "python",
   "name": "python3"
  },
  "language_info": {
   "codemirror_mode": {
    "name": "ipython",
    "version": 3
   },
   "file_extension": ".py",
   "mimetype": "text/x-python",
   "name": "python",
   "nbconvert_exporter": "python",
   "pygments_lexer": "ipython3",
   "version": "3.9.7"
  }
 },
 "nbformat": 4,
 "nbformat_minor": 4
}
