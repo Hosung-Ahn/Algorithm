{
 "cells": [
  {
   "cell_type": "code",
   "execution_count": 6,
   "metadata": {
    "ExecuteTime": {
     "end_time": "2021-11-26T13:40:41.252325Z",
     "start_time": "2021-11-26T13:40:40.686610Z"
    }
   },
   "outputs": [
    {
     "name": "stdout",
     "output_type": "stream",
     "text": [
      "100\n"
     ]
    },
    {
     "data": {
      "text/plain": [
       "25164150"
      ]
     },
     "execution_count": 6,
     "metadata": {},
     "output_type": "execute_result"
    }
   ],
   "source": [
    "n = int(input())\n",
    "\n",
    "def find_difference(n) :\n",
    "    sub = n*(n+1)*(2*n+1) // 6\n",
    "    sub2 = n**2*(n+1)**2//4\n",
    "    \n",
    "    return sub2-sub\n",
    "\n",
    "find_difference(n)"
   ]
  },
  {
   "cell_type": "code",
   "execution_count": null,
   "metadata": {},
   "outputs": [],
   "source": [
    "def is_prime(n) :\n",
    "    if n == 1 : return False\n",
    "    elif n < 4 : return False\n",
    "    elif n % 2 == 0 : return False\n",
    "    elif n < 9 : return True\n",
    "    elif n % 3 == 0 : return False\n",
    "    else :\n",
    "        r = int(n**0.5)\n",
    "        f = 5\n",
    "        while f <= r : \n",
    "            if n % f == 0 : return False\n",
    "            "
   ]
  }
 ],
 "metadata": {
  "kernelspec": {
   "display_name": "Python 3",
   "language": "python",
   "name": "python3"
  },
  "language_info": {
   "codemirror_mode": {
    "name": "ipython",
    "version": 3
   },
   "file_extension": ".py",
   "mimetype": "text/x-python",
   "name": "python",
   "nbconvert_exporter": "python",
   "pygments_lexer": "ipython3",
   "version": "3.8.5"
  }
 },
 "nbformat": 4,
 "nbformat_minor": 4
}
