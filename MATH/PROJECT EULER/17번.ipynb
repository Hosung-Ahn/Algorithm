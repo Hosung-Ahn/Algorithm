{
 "cells": [
  {
   "cell_type": "code",
   "execution_count": 23,
   "id": "5dfb9737",
   "metadata": {
    "ExecuteTime": {
     "end_time": "2021-12-11T07:01:01.377508Z",
     "start_time": "2021-12-11T07:01:01.364826Z"
    }
   },
   "outputs": [
    {
     "data": {
      "text/plain": [
       "21124"
      ]
     },
     "execution_count": 23,
     "metadata": {},
     "output_type": "execute_result"
    }
   ],
   "source": [
    "total = 0\n",
    "x = 0\n",
    "x += 106\n",
    "x += (6*10 + 36) * 4\n",
    "x += (5*10 + 36) * 3\n",
    "x += (7*10 + 36) * 1\n",
    "\n",
    "total += x\n",
    "total += (100*13 - 3 + x)*3 \n",
    "total += (100*14 - 3 + x)*3\n",
    "total += (100*15 - 3 + x)*3\n",
    "total += 11\n",
    "\n",
    "total\n"
   ]
  },
  {
   "cell_type": "code",
   "execution_count": 22,
   "id": "b80640f5",
   "metadata": {
    "ExecuteTime": {
     "end_time": "2021-12-11T07:00:18.509733Z",
     "start_time": "2021-12-11T07:00:18.504747Z"
    }
   },
   "outputs": [
    {
     "data": {
      "text/plain": [
       "854"
      ]
     },
     "execution_count": 22,
     "metadata": {},
     "output_type": "execute_result"
    }
   ],
   "source": [
    "x"
   ]
  }
 ],
 "metadata": {
  "kernelspec": {
   "display_name": "Python 3 (ipykernel)",
   "language": "python",
   "name": "python3"
  },
  "language_info": {
   "codemirror_mode": {
    "name": "ipython",
    "version": 3
   },
   "file_extension": ".py",
   "mimetype": "text/x-python",
   "name": "python",
   "nbconvert_exporter": "python",
   "pygments_lexer": "ipython3",
   "version": "3.9.7"
  }
 },
 "nbformat": 4,
 "nbformat_minor": 5
}
