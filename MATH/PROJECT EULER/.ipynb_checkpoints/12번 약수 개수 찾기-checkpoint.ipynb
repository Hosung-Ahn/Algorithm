{
 "cells": [
  {
   "cell_type": "code",
   "execution_count": 2,
   "metadata": {
    "ExecuteTime": {
     "end_time": "2021-12-06T07:12:42.272297Z",
     "start_time": "2021-12-06T07:12:39.220976Z"
    }
   },
   "outputs": [
    {
     "name": "stdout",
     "output_type": "stream",
     "text": [
      "76576500\n"
     ]
    }
   ],
   "source": [
    "def divisor_count(n) :\n",
    "    if (n == 1) : return 1\n",
    "\n",
    "    cnt = 2\n",
    "    check = int(n**0.5)\n",
    "    for d in range(2, check+1) :\n",
    "        if (n % d == 0) : cnt += 2\n",
    "            \n",
    "    return cnt\n",
    "\n",
    "sum_n = 28\n",
    "n = 7\n",
    "\n",
    "while (divisor_count(sum_n) < 500) :\n",
    "    n += 1\n",
    "    sum_n += n\n",
    "    \n",
    "print(sum_n)"
   ]
  },
  {
   "cell_type": "code",
   "execution_count": 3,
   "metadata": {
    "ExecuteTime": {
     "end_time": "2021-12-06T07:12:47.650634Z",
     "start_time": "2021-12-06T07:12:47.633892Z"
    }
   },
   "outputs": [
    {
     "data": {
      "text/plain": [
       "12375"
      ]
     },
     "execution_count": 3,
     "metadata": {},
     "output_type": "execute_result"
    }
   ],
   "source": []
  }
 ],
 "metadata": {
  "kernelspec": {
   "display_name": "Python 3",
   "language": "python",
   "name": "python3"
  },
  "language_info": {
   "codemirror_mode": {
    "name": "ipython",
    "version": 3
   },
   "file_extension": ".py",
   "mimetype": "text/x-python",
   "name": "python",
   "nbconvert_exporter": "python",
   "pygments_lexer": "ipython3",
   "version": "3.8.5"
  }
 },
 "nbformat": 4,
 "nbformat_minor": 4
}
