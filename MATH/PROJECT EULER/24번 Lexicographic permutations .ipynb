{
 "cells": [
  {
   "cell_type": "code",
   "execution_count": 8,
   "id": "bf321024",
   "metadata": {
    "ExecuteTime": {
     "end_time": "2022-01-08T02:59:29.269756Z",
     "start_time": "2022-01-08T02:59:29.263517Z"
    }
   },
   "outputs": [
    {
     "data": {
      "text/plain": [
       "24"
      ]
     },
     "execution_count": 8,
     "metadata": {},
     "output_type": "execute_result"
    }
   ],
   "source": [
    "def fac(n) :\n",
    "    if n == 1 : return 1\n",
    "    return n * fac(n-1)\n",
    "\n",
    "nst = 1_000_000\n",
    "def find_num() :"
   ]
  },
  {
   "cell_type": "code",
   "execution_count": 3,
   "id": "899b04d2",
   "metadata": {
    "ExecuteTime": {
     "end_time": "2022-01-08T02:57:07.152404Z",
     "start_time": "2022-01-08T02:57:07.134680Z"
    }
   },
   "outputs": [
    {
     "data": {
      "text/plain": [
       "[2, 3]"
      ]
     },
     "execution_count": 3,
     "metadata": {},
     "output_type": "execute_result"
    }
   ],
   "source": [
    "lst = [1,2,3]\n",
    "lst.remove(1)\n",
    "lst"
   ]
  }
 ],
 "metadata": {
  "kernelspec": {
   "display_name": "Python 3 (ipykernel)",
   "language": "python",
   "name": "python3"
  },
  "language_info": {
   "codemirror_mode": {
    "name": "ipython",
    "version": 3
   },
   "file_extension": ".py",
   "mimetype": "text/x-python",
   "name": "python",
   "nbconvert_exporter": "python",
   "pygments_lexer": "ipython3",
   "version": "3.9.7"
  }
 },
 "nbformat": 4,
 "nbformat_minor": 5
}
