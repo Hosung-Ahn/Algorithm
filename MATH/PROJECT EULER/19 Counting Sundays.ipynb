{
 "cells": [
  {
   "cell_type": "code",
   "execution_count": 19,
   "id": "a3474377",
   "metadata": {
    "ExecuteTime": {
     "end_time": "2021-12-14T06:40:26.682825Z",
     "start_time": "2021-12-14T06:40:26.670842Z"
    }
   },
   "outputs": [
    {
     "name": "stdout",
     "output_type": "stream",
     "text": [
      "173\n"
     ]
    }
   ],
   "source": [
    "days = [0,31,28,31,30,31,30,31,31,30,31,30,31]\n",
    "\n",
    "def is_leap_year(y) : \n",
    "    return (y % 4 == 0 and y % 100 != 0) or y % 400 == 0\n",
    "\n",
    "first = 0\n",
    "\n",
    "cnt = 0\n",
    "for y in range(1900, 2001) : \n",
    "    for m in range(1,13) : \n",
    "        if first == 6 : \n",
    "            cnt+=1\n",
    "            \n",
    "        if m == 2 and is_leap_year(y):\n",
    "            first += 29 % 7\n",
    "            first %= 7\n",
    "        else :   \n",
    "            first += days[m] % 7\n",
    "            first %= 7\n",
    "        \n",
    "print(cnt)"
   ]
  },
  {
   "cell_type": "code",
   "execution_count": null,
   "id": "9bdb4238",
   "metadata": {},
   "outputs": [],
   "source": []
  }
 ],
 "metadata": {
  "kernelspec": {
   "display_name": "Python 3 (ipykernel)",
   "language": "python",
   "name": "python3"
  },
  "language_info": {
   "codemirror_mode": {
    "name": "ipython",
    "version": 3
   },
   "file_extension": ".py",
   "mimetype": "text/x-python",
   "name": "python",
   "nbconvert_exporter": "python",
   "pygments_lexer": "ipython3",
   "version": "3.9.7"
  }
 },
 "nbformat": 4,
 "nbformat_minor": 5
}
