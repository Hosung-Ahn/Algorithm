{
 "cells": [
  {
   "cell_type": "code",
   "execution_count": 22,
   "id": "4a121b21",
   "metadata": {
    "ExecuteTime": {
     "end_time": "2022-03-30T12:45:52.195566Z",
     "start_time": "2022-03-30T12:45:52.190741Z"
    }
   },
   "outputs": [
    {
     "name": "stdout",
     "output_type": "stream",
     "text": [
      "1 2\n",
      "2 1\n"
     ]
    }
   ],
   "source": [
    "a = 1\n",
    "b = 2\n",
    "\n",
    "print(a,b)\n",
    "\n",
    "# tuple의 언패킹 기능으로 인해 swap을 구현하지 않아도 된다.\n",
    "a,b = b,a\n",
    "print(a,b)"
   ]
  },
  {
   "cell_type": "code",
   "execution_count": 27,
   "id": "44911921",
   "metadata": {
    "ExecuteTime": {
     "end_time": "2022-03-30T12:48:26.995003Z",
     "start_time": "2022-03-30T12:48:26.989752Z"
    }
   },
   "outputs": [
    {
     "name": "stdout",
     "output_type": "stream",
     "text": [
      "2 4\n"
     ]
    }
   ],
   "source": [
    "t = (20,8)\n",
    "divmod(t[0], t[1])\n",
    "quotient, remainder = divmod(*t)\n",
    "print(quotient, remainder)"
   ]
  },
  {
   "cell_type": "code",
   "execution_count": null,
   "id": "75090189",
   "metadata": {},
   "outputs": [],
   "source": []
  }
 ],
 "metadata": {
  "kernelspec": {
   "display_name": "Python 3 (ipykernel)",
   "language": "python",
   "name": "python3"
  },
  "language_info": {
   "codemirror_mode": {
    "name": "ipython",
    "version": 3
   },
   "file_extension": ".py",
   "mimetype": "text/x-python",
   "name": "python",
   "nbconvert_exporter": "python",
   "pygments_lexer": "ipython3",
   "version": "3.9.7"
  }
 },
 "nbformat": 4,
 "nbformat_minor": 5
}
