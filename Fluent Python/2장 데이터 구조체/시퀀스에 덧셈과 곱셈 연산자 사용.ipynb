{
 "cells": [
  {
   "cell_type": "code",
   "execution_count": 13,
   "id": "1f4f43c1",
   "metadata": {
    "ExecuteTime": {
     "end_time": "2022-04-06T12:53:39.889630Z",
     "start_time": "2022-04-06T12:53:39.876592Z"
    }
   },
   "outputs": [
    {
     "name": "stdout",
     "output_type": "stream",
     "text": [
      "[['_', '_', 0], ['_', '_', 0], ['_', '_', 0]]\n",
      "[['_', '_', '_'], ['_', '_', 0], ['_', '_', '_']]\n",
      "[['_', '_', '_'], ['_', '_', 0], ['_', '_', '_']]\n"
     ]
    }
   ],
   "source": [
    "# 곱셈과 덧셈 연산자는 피연사자를 변경하지 않고 새로운 객체를 생성한다.\n",
    "\n",
    "# 주의!! 다음과 같이 lst를 형성하면 최상위 리스트가 내부 리스트에 대해 참조 3개를 갖게 된다.\n",
    "board = [['_']*3]*3\n",
    "board[1][2] = 0\n",
    "print(board)\n",
    "\n",
    "# 옳은 표현\n",
    "board = [['_']*3 for _ in range(3)]\n",
    "board[1][2] = 0\n",
    "print(board)\n",
    "# 옳은 코드의 작동 방식\n",
    "board = []\n",
    "for i in range(3) :\n",
    "    row = ['_']*3\n",
    "    board.append(row)\n",
    "board[1][2] = 0\n",
    "print(board)"
   ]
  },
  {
   "cell_type": "code",
   "execution_count": 6,
   "id": "d7157f5d",
   "metadata": {
    "ExecuteTime": {
     "end_time": "2022-04-06T12:50:11.833054Z",
     "start_time": "2022-04-06T12:50:11.827049Z"
    }
   },
   "outputs": [
    {
     "data": {
      "text/plain": [
       "[1, '_', '_']"
      ]
     },
     "execution_count": 6,
     "metadata": {},
     "output_type": "execute_result"
    }
   ],
   "source": []
  }
 ],
 "metadata": {
  "kernelspec": {
   "display_name": "Python 3 (ipykernel)",
   "language": "python",
   "name": "python3"
  },
  "language_info": {
   "codemirror_mode": {
    "name": "ipython",
    "version": 3
   },
   "file_extension": ".py",
   "mimetype": "text/x-python",
   "name": "python",
   "nbconvert_exporter": "python",
   "pygments_lexer": "ipython3",
   "version": "3.9.7"
  }
 },
 "nbformat": 4,
 "nbformat_minor": 5
}
