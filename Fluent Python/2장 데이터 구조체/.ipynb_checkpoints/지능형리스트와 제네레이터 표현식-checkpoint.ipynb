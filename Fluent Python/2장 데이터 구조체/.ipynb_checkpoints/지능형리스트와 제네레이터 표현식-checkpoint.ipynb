{
 "cells": [
  {
   "cell_type": "code",
   "execution_count": 5,
   "id": "fdae3e58",
   "metadata": {
    "ExecuteTime": {
     "end_time": "2022-03-30T12:18:42.521951Z",
     "start_time": "2022-03-30T12:18:42.510494Z"
    }
   },
   "outputs": [
    {
     "name": "stdout",
     "output_type": "stream",
     "text": [
      "[0, 1, 2, 3, 4]\n",
      "123\n"
     ]
    }
   ],
   "source": [
    "# python 에서 for 문의 지역변수의 space 가 한 차원 뛰어 넘어가는 현상이 발생함.\n",
    "\n",
    "x = 123\n",
    "# for x in range(5) :\n",
    "#     print(x)\n",
    "\n",
    "# listcomp 에서는 안에서 정의한 x가 한 차원을 뛰어넘는 현상이 발생하지 않는다.\n",
    "lst = [x for x in range(5)]\n",
    "print(lst)\n",
    "print(x)\n"
   ]
  },
  {
   "cell_type": "code",
   "execution_count": 7,
   "id": "538baca4",
   "metadata": {
    "ExecuteTime": {
     "end_time": "2022-03-30T12:33:10.971281Z",
     "start_time": "2022-03-30T12:33:10.958818Z"
    }
   },
   "outputs": [
    {
     "data": {
      "text/plain": [
       "[('black', 'S'),\n",
       " ('black', 'M'),\n",
       " ('black', 'L'),\n",
       " ('white', 'S'),\n",
       " ('white', 'M'),\n",
       " ('white', 'L')]"
      ]
     },
     "execution_count": 7,
     "metadata": {},
     "output_type": "execute_result"
    }
   ],
   "source": [
    "colors = ['black', 'white']\n",
    "sizes = ['S','M','L']\n",
    "\n",
    "tshirts = [(color, size) for color in colors for size in sizes]\n",
    "tshirts"
   ]
  },
  {
   "cell_type": "code",
   "execution_count": 18,
   "id": "b09c6ee5",
   "metadata": {
    "ExecuteTime": {
     "end_time": "2022-03-30T12:38:58.424760Z",
     "start_time": "2022-03-30T12:38:58.420371Z"
    }
   },
   "outputs": [],
   "source": [
    "#제너레이터 표현식\n",
    "import array\n",
    "\n",
    "nums = \"123456\"\n",
    "tuple(int(n) for n in nums)\n",
    "\n",
    "arr = array.array('I', (int(n) for n in nums))"
   ]
  },
  {
   "cell_type": "code",
   "execution_count": 21,
   "id": "498fe8bd",
   "metadata": {
    "ExecuteTime": {
     "end_time": "2022-03-30T12:39:39.396881Z",
     "start_time": "2022-03-30T12:39:39.391235Z"
    }
   },
   "outputs": [
    {
     "name": "stdout",
     "output_type": "stream",
     "text": [
      "black S\n",
      "black M\n",
      "black L\n",
      "white S\n",
      "white M\n",
      "white L\n"
     ]
    }
   ],
   "source": [
    "for c,s in ((c,s) for c in colors for s in sizes) :\n",
    "    print(c,s)"
   ]
  }
 ],
 "metadata": {
  "kernelspec": {
   "display_name": "Python 3 (ipykernel)",
   "language": "python",
   "name": "python3"
  },
  "language_info": {
   "codemirror_mode": {
    "name": "ipython",
    "version": 3
   },
   "file_extension": ".py",
   "mimetype": "text/x-python",
   "name": "python",
   "nbconvert_exporter": "python",
   "pygments_lexer": "ipython3",
   "version": "3.9.7"
  }
 },
 "nbformat": 4,
 "nbformat_minor": 5
}
