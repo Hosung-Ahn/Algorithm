{
 "cells": [
  {
   "cell_type": "code",
   "execution_count": 5,
   "id": "4a8a592d",
   "metadata": {
    "ExecuteTime": {
     "end_time": "2022-04-06T13:02:18.285625Z",
     "start_time": "2022-04-06T13:02:18.281146Z"
    }
   },
   "outputs": [
    {
     "name": "stdout",
     "output_type": "stream",
     "text": [
      "140464355336704\n",
      "140464355336704\n",
      "[1, 2, 3, 1, 2, 3]\n"
     ]
    }
   ],
   "source": [
    "lst = [1,2,3]\n",
    "print(id(lst))\n",
    "lst *= 2\n",
    "print(id(lst))\n",
    "print(lst)"
   ]
  },
  {
   "cell_type": "code",
   "execution_count": 13,
   "id": "356c4b5d",
   "metadata": {
    "ExecuteTime": {
     "end_time": "2022-04-06T13:03:15.527997Z",
     "start_time": "2022-04-06T13:03:15.521804Z"
    }
   },
   "outputs": [
    {
     "name": "stdout",
     "output_type": "stream",
     "text": [
      "140464627606912\n",
      "140464900332512\n",
      "(1, 2, 3, 1, 2, 3)\n"
     ]
    }
   ],
   "source": [
    "t = (1,2,3)\n",
    "print(id(t))\n",
    "t*=2\n",
    "print(id(t))\n",
    "print(t)"
   ]
  },
  {
   "cell_type": "code",
   "execution_count": 17,
   "id": "821e4042",
   "metadata": {
    "ExecuteTime": {
     "end_time": "2022-04-06T13:06:44.758755Z",
     "start_time": "2022-04-06T13:06:44.753662Z"
    }
   },
   "outputs": [
    {
     "name": "stdout",
     "output_type": "stream",
     "text": [
      "140464355335360\n",
      "140464355335360\n",
      "[1, 2, 3, 4]\n"
     ]
    }
   ],
   "source": [
    "lst = [1,2,3]\n",
    "print(id(lst))\n",
    "lst += [4]\n",
    "print(id(lst))\n",
    "print(lst)"
   ]
  }
 ],
 "metadata": {
  "kernelspec": {
   "display_name": "Python 3 (ipykernel)",
   "language": "python",
   "name": "python3"
  },
  "language_info": {
   "codemirror_mode": {
    "name": "ipython",
    "version": 3
   },
   "file_extension": ".py",
   "mimetype": "text/x-python",
   "name": "python",
   "nbconvert_exporter": "python",
   "pygments_lexer": "ipython3",
   "version": "3.9.7"
  }
 },
 "nbformat": 4,
 "nbformat_minor": 5
}
