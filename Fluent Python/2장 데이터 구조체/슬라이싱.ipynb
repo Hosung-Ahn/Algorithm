{
 "cells": [
  {
   "cell_type": "code",
   "execution_count": 9,
   "id": "040564a9",
   "metadata": {
    "ExecuteTime": {
     "end_time": "2022-04-06T12:46:37.112709Z",
     "start_time": "2022-04-06T12:46:37.102576Z"
    }
   },
   "outputs": [
    {
     "name": "stdout",
     "output_type": "stream",
     "text": [
      "[0, 1, 2, 3, 4, 5, 6, 7, 8, 9]\n",
      "[0, 1, 20, 30, 5, 6, 7, 8, 9]\n",
      "[0, 1, 20, 30, 5, 8, 9]\n",
      "[0, 1, 20, 300, 5, 400, 9]\n"
     ]
    }
   ],
   "source": [
    "# 슬라이스 할당\n",
    "lst = list(range(10))\n",
    "print(lst)\n",
    "\n",
    "lst[2:5] = [20,30]\n",
    "print(lst)\n",
    "\n",
    "del lst[5:7]\n",
    "print(lst)\n",
    "\n",
    "lst[3::2] = [300,400]\n",
    "print(lst)"
   ]
  }
 ],
 "metadata": {
  "kernelspec": {
   "display_name": "Python 3 (ipykernel)",
   "language": "python",
   "name": "python3"
  },
  "language_info": {
   "codemirror_mode": {
    "name": "ipython",
    "version": 3
   },
   "file_extension": ".py",
   "mimetype": "text/x-python",
   "name": "python",
   "nbconvert_exporter": "python",
   "pygments_lexer": "ipython3",
   "version": "3.9.7"
  }
 },
 "nbformat": 4,
 "nbformat_minor": 5
}
