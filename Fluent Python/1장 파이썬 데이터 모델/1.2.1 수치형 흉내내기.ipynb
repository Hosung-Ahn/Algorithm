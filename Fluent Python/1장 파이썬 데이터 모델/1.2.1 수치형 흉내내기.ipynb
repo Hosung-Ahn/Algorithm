{
 "cells": [
  {
   "cell_type": "code",
   "execution_count": 28,
   "id": "8683c525",
   "metadata": {
    "ExecuteTime": {
     "end_time": "2021-12-24T04:54:11.888049Z",
     "start_time": "2021-12-24T04:54:11.871234Z"
    }
   },
   "outputs": [
    {
     "data": {
      "text/plain": [
       "True"
      ]
     },
     "execution_count": 28,
     "metadata": {},
     "output_type": "execute_result"
    }
   ],
   "source": [
    "from math import hypot\n",
    "\n",
    "class Vector :\n",
    "    def __init__(self, x = 0, y = 0) :\n",
    "        self.x = x\n",
    "        self.y = y\n",
    "        \n",
    "    def __repr__(self) :\n",
    "        return f'Vector({self.x}, {self.y})'\n",
    "    \n",
    "    def __abs__(self) :\n",
    "        return hypot(self.x, self.y)\n",
    "    \n",
    "    def __add__(self, other) :\n",
    "        x = self.x + other.x\n",
    "        y = self.y + other.y\n",
    "        return Vector(x,y)\n",
    "    \n",
    "    def __mul__(self, scalar) :\n",
    "        return Vector(self.x * scalar, self.y * scalar)\n",
    "    \n",
    "    def __bool__(self) :\n",
    "        return bool(self.x or self.y)\n",
    "    \n",
    "    \n",
    "v1 = Vector(1,2)\n",
    "v2 = Vector(2,3)\n",
    "v3 = Vector()\n",
    "\n",
    "\n",
    "        \n",
    "        "
   ]
  },
  {
   "cell_type": "code",
   "execution_count": null,
   "id": "2ea742df",
   "metadata": {},
   "outputs": [],
   "source": [
    "\n"
   ]
  }
 ],
 "metadata": {
  "kernelspec": {
   "display_name": "Python 3 (ipykernel)",
   "language": "python",
   "name": "python3"
  },
  "language_info": {
   "codemirror_mode": {
    "name": "ipython",
    "version": 3
   },
   "file_extension": ".py",
   "mimetype": "text/x-python",
   "name": "python",
   "nbconvert_exporter": "python",
   "pygments_lexer": "ipython3",
   "version": "3.9.7"
  }
 },
 "nbformat": 4,
 "nbformat_minor": 5
}
