{
 "cells": [
  {
   "cell_type": "code",
   "execution_count": 89,
   "id": "b2d1eaac",
   "metadata": {
    "ExecuteTime": {
     "end_time": "2021-12-09T11:05:46.655573Z",
     "start_time": "2021-12-09T11:05:26.642227Z"
    }
   },
   "outputs": [
    {
     "name": "stdout",
     "output_type": "stream",
     "text": [
      "5\n",
      "달수야 무엇인가 445번 말이 무슨 말이냐? $\n",
      "말이 많은 사람 좋아하지 마라 ? $\n",
      "무엇이  겨울을 춥게 만드는가 이말 $\n",
      "말말말 사람 좋아하는 말이 많은가 $\n",
      "자료구조하다가 겨울에 디질뻔 했다고 $\n",
      "2 4\n"
     ]
    }
   ],
   "source": [
    "import re\n",
    "from queue import PriorityQueue\n",
    "\n",
    "n = int(input())\n",
    "hg_lst = []\n",
    "for _ in range(n) : \n",
    "    text = input()\n",
    "    text = re.compile(\"[ㄱ-힣]\").findall(text)\n",
    "    text = list(text)\n",
    "    hg = [text[i] + text[i+1] for i in range(len(text)-1)]\n",
    "    hg = set(hg)\n",
    "    hg_lst.append(hg)\n",
    "    \n",
    "pq = PriorityQueue()\n",
    "for i in range(n) :\n",
    "    for j in range(i+1, n) : \n",
    "        overlap = len(hg_lst[i].intersection(hg_lst[j]))\n",
    "        pq.put((-overlap, [i+1,j+1]))\n",
    "        \n",
    "print(*pq.get()[1])"
   ]
  },
  {
   "cell_type": "code",
   "execution_count": 93,
   "id": "611d1053",
   "metadata": {
    "ExecuteTime": {
     "end_time": "2021-12-10T01:39:38.226333Z",
     "start_time": "2021-12-10T01:39:38.213567Z"
    }
   },
   "outputs": [
    {
     "name": "stdout",
     "output_type": "stream",
     "text": [
      "1 4\n",
      "1 4\n"
     ]
    }
   ],
   "source": [
    "import re\n",
    "from queue import PriorityQueue\n",
    "\n",
    "file = \"04\"\n",
    "\n",
    "f = open(file + \".inp\", 'r')\n",
    "n = int(f.readline())\n",
    "hg_lst = []\n",
    "for _ in range(n) : \n",
    "    text = f.readline()\n",
    "    text = re.compile(\"[ㄱ-힣]\").findall(text)\n",
    "    text = list(text)\n",
    "    hg = [text[i] + text[i+1] for i in range(len(text)-1)]\n",
    "    hg = set(hg)\n",
    "    hg_lst.append(hg)\n",
    "    \n",
    "pq = PriorityQueue()\n",
    "for i in range(n) :\n",
    "    for j in range(i+1, n) : \n",
    "        overlap = len(hg_lst[i].intersection(hg_lst[j]))\n",
    "        pq.put((-overlap, [i+1,j+1]))\n",
    "        \n",
    "print(*pq.get()[1])\n",
    "f.close()\n",
    "\n",
    "f = open(file+\".out\", 'r')\n",
    "lines = f.readlines()\n",
    "for line in lines : \n",
    "    print(line)\n",
    "    \n",
    "f.close()"
   ]
  },
  {
   "cell_type": "code",
   "execution_count": 95,
   "id": "e771410b",
   "metadata": {
    "ExecuteTime": {
     "end_time": "2021-12-10T01:41:28.743901Z",
     "start_time": "2021-12-10T01:40:54.955895Z"
    }
   },
   "outputs": [
    {
     "name": "stdout",
     "output_type": "stream",
     "text": [
      "4\n",
      "중앙방역대책본부에 따르면 계속 늘어난 기준 신규 확진자는 7175명으로 집계됐다. $\n",
      "이는 지난해 1월 20일 국내 코로나19 환자가 처음 발생한 이후 역대 최다 수치라고 중앙방역대책 본부장이 말했다.$\n",
      "지난해 자료구조 공부하다 코로나 환자가 된 사람은 없다고. 정말이라니까? 그러니까 공부를 하자고. 엥? $\n",
      "신규 확진 환자는 방역대책본부에 따르면 7175명으로 집계됐다고 한다. 기존 신규 확진자는 계속 늘어나고 있다.$\n",
      "1 4\n"
     ]
    }
   ],
   "source": [
    "import re\n",
    "from queue import PriorityQueue\n",
    "\n",
    "n = int(input())\n",
    "hg_lst = []\n",
    "for _ in range(n) : \n",
    "    text = input()\n",
    "    text = re.compile(\"[ㄱ-힣]\").findall(text)\n",
    "    text = list(text)\n",
    "    hg = [text[i] + text[i+1] for i in range(len(text)-1)]\n",
    "    hg = set(hg)\n",
    "    hg_lst.append(hg)\n",
    "    \n",
    "pq = PriorityQueue()\n",
    "for i in range(n) :\n",
    "    for j in range(i+1, n) : \n",
    "        overlap = len(hg_lst[i].intersection(hg_lst[j]))\n",
    "        pq.put((-overlap, [i+1,j+1]))\n",
    "        \n",
    "result = pq.get()[1]\n",
    "print(result[0], result[1])"
   ]
  },
  {
   "cell_type": "code",
   "execution_count": 96,
   "id": "901a608d",
   "metadata": {
    "ExecuteTime": {
     "end_time": "2021-12-10T02:37:28.684326Z",
     "start_time": "2021-12-10T02:37:28.668912Z"
    }
   },
   "outputs": [
    {
     "data": {
      "text/plain": [
       "(-7, [1, 2])"
      ]
     },
     "execution_count": 96,
     "metadata": {},
     "output_type": "execute_result"
    }
   ],
   "source": [
    "pq.get()"
   ]
  },
  {
   "cell_type": "code",
   "execution_count": 99,
   "id": "25acce53",
   "metadata": {
    "ExecuteTime": {
     "end_time": "2021-12-10T02:37:57.418482Z",
     "start_time": "2021-12-10T02:37:57.410552Z"
    }
   },
   "outputs": [
    {
     "data": {
      "text/plain": [
       "1366"
      ]
     },
     "execution_count": 99,
     "metadata": {},
     "output_type": "execute_result"
    }
   ],
   "source": [
    "n = str(2**1000)\n",
    "\n",
    "total = 0\n",
    "for x in n :\n",
    "    total += int(x)\n",
    "    \n",
    "total"
   ]
  }
 ],
 "metadata": {
  "kernelspec": {
   "display_name": "Python 3 (ipykernel)",
   "language": "python",
   "name": "python3"
  },
  "language_info": {
   "codemirror_mode": {
    "name": "ipython",
    "version": 3
   },
   "file_extension": ".py",
   "mimetype": "text/x-python",
   "name": "python",
   "nbconvert_exporter": "python",
   "pygments_lexer": "ipython3",
   "version": "3.9.7"
  }
 },
 "nbformat": 4,
 "nbformat_minor": 5
}
