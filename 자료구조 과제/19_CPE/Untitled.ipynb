{
 "cells": [
  {
   "cell_type": "code",
   "execution_count": 78,
   "id": "b2d1eaac",
   "metadata": {
    "ExecuteTime": {
     "end_time": "2021-12-13T12:37:38.883345Z",
     "start_time": "2021-12-13T12:37:21.488018Z"
    }
   },
   "outputs": [
    {
     "name": "stdout",
     "output_type": "stream",
     "text": [
      "utf-8\n",
      "4\n",
      "중앙방역대책본부에 따르면 계속 늘어난 기준 신규 확진자는 7175명으로 집계됐다. $\n",
      "이는 지난해 1월 20일 국내 코로나19 환자가 처음 발생한 이후 역대 최다 수치라고 중앙방역대책 본부장이 말했다.$\n",
      "지난해 자료구조 공부하다 코로나 환자가 된 사람은 없다고. 정말이라니까? 그러니까 공부를 하자고. 엥? $\n",
      "신규 확진 환자는 방역대책본부에 따르면 7175명으로 집계됐다고 한다. 기존 신규 확진자는 계속 늘어나고 있다.$\n",
      "1 4\n"
     ]
    }
   ],
   "source": [
    "#-*-coding:utf-8-*-\n",
    "import re\n",
    "from queue import PriorityQueue\n",
    "import sys\n",
    "print(sys.getdefaultencoding())\n",
    "\n",
    "with open(sys.stdin.fileno(), encoding='utf8') as std_input:\n",
    "    n = int(input())\n",
    "    hg_lst = []\n",
    "    for _ in range(n) : \n",
    "        text = input()\n",
    "        text = re.compile(\"[ㄱ-힣]\").findall(text)\n",
    "        text = list(text)\n",
    "        hg = [text[i] + text[i+1] for i in range(len(text)-1)]\n",
    "        hg = set(hg)\n",
    "        hg_lst.append(hg)\n",
    "\n",
    "    pq = PriorityQueue()\n",
    "    for i in range(n) :\n",
    "        for j in range(i+1, n) : \n",
    "            overlap = len(hg_lst[i].intersection(hg_lst[j]))\n",
    "            total = len(hg_lst[i].union(hg_lst[j]))\n",
    "            try : \n",
    "                sim = overlap / total\n",
    "            except : \n",
    "                sim = 0\n",
    "            pq.put((-sim, [i+1,j+1]))\n",
    "\n",
    "    print(*pq.get()[1])"
   ]
  },
  {
   "cell_type": "code",
   "execution_count": 58,
   "id": "611d1053",
   "metadata": {
    "ExecuteTime": {
     "end_time": "2021-12-13T12:22:53.725482Z",
     "start_time": "2021-12-13T12:22:53.702203Z"
    }
   },
   "outputs": [
    {
     "name": "stdout",
     "output_type": "stream",
     "text": [
      "-0.4375 [2, 4]\n",
      "2 4\n"
     ]
    }
   ],
   "source": [
    "import sys\n",
    "import re\n",
    "from queue import PriorityQueue\n",
    "with open(sys.stdin.fileno(), encoding='utf8') as std_input:\n",
    "\n",
    "    file = \"01\"\n",
    "\n",
    "    f = open(file + \".inp\", 'r')\n",
    "    n = int(f.readline())\n",
    "    hg_lst = []\n",
    "    for _ in range(n) : \n",
    "        text = f.readline()\n",
    "        text = re.compile(\"[ㄱ-힣]\").findall(text)\n",
    "        text = list(text)\n",
    "        hg = [text[i] + text[i+1] for i in range(len(text)-1)]\n",
    "        hg = set(hg)\n",
    "        hg_lst.append(hg)\n",
    "\n",
    "    pq = PriorityQueue()\n",
    "    for i in range(n) :\n",
    "        for j in range(i+1, n) : \n",
    "            overlap = len(hg_lst[i].intersection(hg_lst[j]))\n",
    "            total = len(hg_lst[i].union(hg_lst[j]))\n",
    "            try : \n",
    "                sim = overlap / total\n",
    "            except : \n",
    "                sim = 0\n",
    "            pq.put((-sim, [i+1,j+1]))\n",
    "\n",
    "    print(*pq.get())\n",
    "    f.close()\n",
    "\n",
    "    f = open(file+\".out\", 'r')\n",
    "    lines = f.readlines()\n",
    "    for line in lines : \n",
    "        print(line)\n",
    "\n",
    "    f.close()"
   ]
  },
  {
   "cell_type": "code",
   "execution_count": 77,
   "id": "e771410b",
   "metadata": {
    "ExecuteTime": {
     "end_time": "2021-12-13T12:36:53.732782Z",
     "start_time": "2021-12-13T12:36:53.709162Z"
    }
   },
   "outputs": [
    {
     "ename": "AttributeError",
     "evalue": "'bytes' object has no attribute 'encode'",
     "output_type": "error",
     "traceback": [
      "\u001b[0;31m---------------------------------------------------------------------------\u001b[0m",
      "\u001b[0;31mAttributeError\u001b[0m                            Traceback (most recent call last)",
      "\u001b[0;32m/var/folders/xh/jpw0thcs1m75fqy6zj0sfz6c0000gn/T/ipykernel_28215/1062736772.py\u001b[0m in \u001b[0;36m<module>\u001b[0;34m\u001b[0m\n\u001b[0;32m----> 1\u001b[0;31m \u001b[0mtext\u001b[0m\u001b[0;34m.\u001b[0m\u001b[0mencode\u001b[0m\u001b[0;34m(\u001b[0m\u001b[0;34m'utf-8'\u001b[0m\u001b[0;34m)\u001b[0m\u001b[0;34m\u001b[0m\u001b[0;34m\u001b[0m\u001b[0m\n\u001b[0m",
      "\u001b[0;31mAttributeError\u001b[0m: 'bytes' object has no attribute 'encode'"
     ]
    }
   ],
   "source": [
    "text.encode('utf-8')"
   ]
  },
  {
   "cell_type": "code",
   "execution_count": 9,
   "id": "901a608d",
   "metadata": {
    "ExecuteTime": {
     "end_time": "2021-12-13T11:39:36.215217Z",
     "start_time": "2021-12-13T11:39:36.206134Z"
    }
   },
   "outputs": [
    {
     "data": {
      "text/plain": [
       "13"
      ]
     },
     "execution_count": 9,
     "metadata": {},
     "output_type": "execute_result"
    }
   ],
   "source": [
    "len(hg_lst[0])"
   ]
  },
  {
   "cell_type": "code",
   "execution_count": 99,
   "id": "25acce53",
   "metadata": {
    "ExecuteTime": {
     "end_time": "2021-12-10T02:37:57.418482Z",
     "start_time": "2021-12-10T02:37:57.410552Z"
    }
   },
   "outputs": [
    {
     "data": {
      "text/plain": [
       "1366"
      ]
     },
     "execution_count": 99,
     "metadata": {},
     "output_type": "execute_result"
    }
   ],
   "source": [
    "n = str(2**1000)\n",
    "\n",
    "total = 0\n",
    "for x in n :\n",
    "    total += int(x)\n",
    "    \n",
    "total"
   ]
  }
 ],
 "metadata": {
  "kernelspec": {
   "display_name": "Python 3 (ipykernel)",
   "language": "python",
   "name": "python3"
  },
  "language_info": {
   "codemirror_mode": {
    "name": "ipython",
    "version": 3
   },
   "file_extension": ".py",
   "mimetype": "text/x-python",
   "name": "python",
   "nbconvert_exporter": "python",
   "pygments_lexer": "ipython3",
   "version": "3.9.7"
  }
 },
 "nbformat": 4,
 "nbformat_minor": 5
}
