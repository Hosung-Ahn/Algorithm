{
 "cells": [
  {
   "cell_type": "code",
   "execution_count": 89,
   "id": "b2d1eaac",
   "metadata": {
    "ExecuteTime": {
     "end_time": "2021-12-09T11:05:46.655573Z",
     "start_time": "2021-12-09T11:05:26.642227Z"
    }
   },
   "outputs": [
    {
     "name": "stdout",
     "output_type": "stream",
     "text": [
      "5\n",
      "달수야 무엇인가 445번 말이 무슨 말이냐? $\n",
      "말이 많은 사람 좋아하지 마라 ? $\n",
      "무엇이  겨울을 춥게 만드는가 이말 $\n",
      "말말말 사람 좋아하는 말이 많은가 $\n",
      "자료구조하다가 겨울에 디질뻔 했다고 $\n",
      "2 4\n"
     ]
    }
   ],
   "source": [
    "import re\n",
    "from queue import PriorityQueue\n",
    "\n",
    "n = int(input())\n",
    "hg_lst = []\n",
    "for _ in range(n) : \n",
    "    text = input()\n",
    "    text = re.compile(\"[ㄱ-힣]\").findall(text)\n",
    "    text = list(text)\n",
    "    hg = [text[i] + text[i+1] for i in range(len(text)-1)]\n",
    "    hg = set(hg)\n",
    "    hg_lst.append(hg)\n",
    "    \n",
    "pq = PriorityQueue()\n",
    "for i in range(n) :\n",
    "    for j in range(i+1, n) : \n",
    "        overlap = len(hg_lst[i].intersection(hg_lst[j]))\n",
    "        pq.put((-overlap, [i+1,j+1]))\n",
    "        \n",
    "print(*pq.get()[1])"
   ]
  },
  {
   "cell_type": "code",
   "execution_count": 88,
   "id": "611d1053",
   "metadata": {
    "ExecuteTime": {
     "end_time": "2021-12-09T11:04:03.810857Z",
     "start_time": "2021-12-09T11:04:03.793788Z"
    }
   },
   "outputs": [
    {
     "name": "stdout",
     "output_type": "stream",
     "text": [
      "1 4\n",
      "1 4\n"
     ]
    }
   ],
   "source": [
    "import re\n",
    "from queue import PriorityQueue\n",
    "\n",
    "file = \"04\"\n",
    "\n",
    "f = open(file + \".inp\", 'r')\n",
    "n = int(f.readline())\n",
    "hg_lst = []\n",
    "for _ in range(n) : \n",
    "    text = f.readline()\n",
    "    text = re.compile(\"[ㄱ-힣]\").findall(text)\n",
    "    text = list(text)\n",
    "    hg = [text[i] + text[i+1] for i in range(len(text)-1)]\n",
    "    hg = set(hg)\n",
    "    hg_lst.append(hg)\n",
    "    \n",
    "pq = PriorityQueue()\n",
    "for i in range(n) :\n",
    "    for j in range(i+1, n) : \n",
    "        overlap = len(hg_lst[i].intersection(hg_lst[j]))\n",
    "        pq.put((-overlap, [i+1,j+1]))\n",
    "        \n",
    "print(*pq.get()[1])\n",
    "f.close()\n",
    "\n",
    "f = open(file+\".out\", 'r')\n",
    "lines = f.readlines()\n",
    "for line in lines : \n",
    "    print(line)\n",
    "    \n",
    "f.close()"
   ]
  },
  {
   "cell_type": "code",
   "execution_count": 74,
   "id": "e771410b",
   "metadata": {
    "ExecuteTime": {
     "end_time": "2021-12-09T11:02:05.524162Z",
     "start_time": "2021-12-09T11:02:05.518667Z"
    }
   },
   "outputs": [],
   "source": [
    "pq = PriorityQueue()\n",
    "\n",
    "\n",
    "pq.put((1,[2,3]))\n",
    "pq.put((1,[2,4]))\n",
    "pq.put((1,[1,4]))\n",
    "pq.put((1,[1,1]))"
   ]
  },
  {
   "cell_type": "code",
   "execution_count": 78,
   "id": "901a608d",
   "metadata": {
    "ExecuteTime": {
     "end_time": "2021-12-09T11:02:12.128342Z",
     "start_time": "2021-12-09T11:02:12.122326Z"
    }
   },
   "outputs": [
    {
     "data": {
      "text/plain": [
       "(1, [2, 4])"
      ]
     },
     "execution_count": 78,
     "metadata": {},
     "output_type": "execute_result"
    }
   ],
   "source": [
    "pq.get()"
   ]
  }
 ],
 "metadata": {
  "kernelspec": {
   "display_name": "Python 3 (ipykernel)",
   "language": "python",
   "name": "python3"
  },
  "language_info": {
   "codemirror_mode": {
    "name": "ipython",
    "version": 3
   },
   "file_extension": ".py",
   "mimetype": "text/x-python",
   "name": "python",
   "nbconvert_exporter": "python",
   "pygments_lexer": "ipython3",
   "version": "3.9.7"
  }
 },
 "nbformat": 4,
 "nbformat_minor": 5
}
